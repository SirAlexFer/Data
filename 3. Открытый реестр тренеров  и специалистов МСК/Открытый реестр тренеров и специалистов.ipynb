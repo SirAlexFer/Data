{
 "cells": [
  {
   "cell_type": "markdown",
   "id": "4777099c-7269-4ee5-9602-938f84e062a1",
   "metadata": {},
   "source": [
    "Данный датасет скачан с сайта https://data.mos.ru/opendata/ из открытого источника"
   ]
  },
  {
   "cell_type": "markdown",
   "id": "354ec97c-89e0-43ae-894c-623d926deb5a",
   "metadata": {
    "tags": []
   },
   "source": [
    "**Во вложении оставим датасет со скачанным JSON объектом. Сами же мы будет импортировать данные по API**"
   ]
  },
  {
   "cell_type": "markdown",
   "id": "212b47e8-d8f8-4eee-8169-6ba3e90b72f9",
   "metadata": {},
   "source": [
    "## Загружаем все необходимые библиотеки "
   ]
  },
  {
   "cell_type": "code",
   "execution_count": 11,
   "id": "aaf703dd-0e7c-44f5-b3a1-e797683ec754",
   "metadata": {},
   "outputs": [],
   "source": [
    "import requests\n",
    "import json\n",
    "import pandas as pd"
   ]
  },
  {
   "cell_type": "markdown",
   "id": "c4534eec-3da5-4cfb-a665-d9d130eae62e",
   "metadata": {},
   "source": [
    "## Выгрузка данных "
   ]
  },
  {
   "cell_type": "markdown",
   "id": "aba613e4-60aa-4d6d-ac95-e97c50f65bd9",
   "metadata": {},
   "source": [
    "https://apidata.mos.ru/Docs"
   ]
  },
  {
   "cell_type": "markdown",
   "id": "f356b601-f481-4c19-b743-37d3796ded82",
   "metadata": {},
   "source": [
    "Мы зарегистрировались на портале, чтобы получить  API  ключ"
   ]
  },
  {
   "cell_type": "code",
   "execution_count": 130,
   "id": "a69afc30-1d44-4cbf-9ed4-ea4799fead84",
   "metadata": {},
   "outputs": [],
   "source": [
    "datasetId= 61321\n",
    "api_key = ''\n",
    "\n",
    "url = f'https://apidata.mos.ru/v1/datasets/{datasetId}/features'\n",
    "url_structure = f'https://apidata.mos.ru/v1/datasets/{datasetId}'\n",
    "\n",
    "params = {\n",
    "    'api_key':api_key\n",
    "}\n",
    "\n"
   ]
  },
  {
   "cell_type": "markdown",
   "id": "311bd641-3c08-4d6b-8e44-7acfc6de1f44",
   "metadata": {},
   "source": [
    "##### Выгрузка структуры данных"
   ]
  },
  {
   "cell_type": "code",
   "execution_count": 54,
   "id": "1e22bddc-ce0b-42d4-b9fa-f051db73b157",
   "metadata": {},
   "outputs": [],
   "source": [
    "response = requests.get(url_structure,params)\n",
    "structure_json = response.json()"
   ]
  },
  {
   "cell_type": "code",
   "execution_count": 57,
   "id": "a1c95063-86a0-47dc-a0e6-8c27872ed684",
   "metadata": {},
   "outputs": [
    {
     "name": "stdout",
     "output_type": "stream",
     "text": [
      "Название датасета: Открытый реестр тренеров и специалистов (в том числе педагогов дополнительного образования по дополнительным общеразвивающим программам) в области физической культуры и спорта города Москвы\n",
      "Версия датасета: 1.31\n",
      "Дата выгрузки датасета датасета: 30.08.2021\n"
     ]
    }
   ],
   "source": [
    "print('Название датасета:',structure_json['Caption'])\n",
    "print('Версия датасета:',structure_json['VersionNumber'])\n",
    "print('Дата выгрузки датасета датасета:',structure_json['VersionDate'])"
   ]
  },
  {
   "cell_type": "code",
   "execution_count": 58,
   "id": "9a867a08-6941-4a83-bc6f-78fc7e40b9ac",
   "metadata": {},
   "outputs": [
    {
     "data": {
      "text/html": [
       "<div>\n",
       "<style scoped>\n",
       "    .dataframe tbody tr th:only-of-type {\n",
       "        vertical-align: middle;\n",
       "    }\n",
       "\n",
       "    .dataframe tbody tr th {\n",
       "        vertical-align: top;\n",
       "    }\n",
       "\n",
       "    .dataframe thead th {\n",
       "        text-align: right;\n",
       "    }\n",
       "</style>\n",
       "<table border=\"1\" class=\"dataframe\">\n",
       "  <thead>\n",
       "    <tr style=\"text-align: right;\">\n",
       "      <th></th>\n",
       "      <th>Name</th>\n",
       "      <th>Caption</th>\n",
       "      <th>Visible</th>\n",
       "      <th>Type</th>\n",
       "      <th>SubColumns</th>\n",
       "    </tr>\n",
       "  </thead>\n",
       "  <tbody>\n",
       "    <tr>\n",
       "      <th>0</th>\n",
       "      <td>LastName</td>\n",
       "      <td>Фамилия</td>\n",
       "      <td>True</td>\n",
       "      <td>STRING</td>\n",
       "      <td>None</td>\n",
       "    </tr>\n",
       "    <tr>\n",
       "      <th>1</th>\n",
       "      <td>Name</td>\n",
       "      <td>Имя</td>\n",
       "      <td>True</td>\n",
       "      <td>STRING</td>\n",
       "      <td>None</td>\n",
       "    </tr>\n",
       "    <tr>\n",
       "      <th>2</th>\n",
       "      <td>MiddleName</td>\n",
       "      <td>Отчество</td>\n",
       "      <td>True</td>\n",
       "      <td>STRING</td>\n",
       "      <td>None</td>\n",
       "    </tr>\n",
       "    <tr>\n",
       "      <th>3</th>\n",
       "      <td>Gender</td>\n",
       "      <td>Пол</td>\n",
       "      <td>True</td>\n",
       "      <td>DICTIONARY</td>\n",
       "      <td>None</td>\n",
       "    </tr>\n",
       "    <tr>\n",
       "      <th>4</th>\n",
       "      <td>DateOfBirth</td>\n",
       "      <td>Дата рождения</td>\n",
       "      <td>True</td>\n",
       "      <td>DATE</td>\n",
       "      <td>None</td>\n",
       "    </tr>\n",
       "    <tr>\n",
       "      <th>5</th>\n",
       "      <td>Photo</td>\n",
       "      <td>Фотография</td>\n",
       "      <td>False</td>\n",
       "      <td>FILE</td>\n",
       "      <td>None</td>\n",
       "    </tr>\n",
       "    <tr>\n",
       "      <th>6</th>\n",
       "      <td>Citizenship</td>\n",
       "      <td>Гражданство</td>\n",
       "      <td>False</td>\n",
       "      <td>CATALOG</td>\n",
       "      <td>[{'Name': 'Citizenship', 'Caption': 'Гражданст...</td>\n",
       "    </tr>\n",
       "    <tr>\n",
       "      <th>7</th>\n",
       "      <td>PublicPhone</td>\n",
       "      <td>Контактный телефон</td>\n",
       "      <td>False</td>\n",
       "      <td>CATALOG</td>\n",
       "      <td>[{'Name': 'PublicPhone', 'Caption': 'Контактны...</td>\n",
       "    </tr>\n",
       "    <tr>\n",
       "      <th>8</th>\n",
       "      <td>Email</td>\n",
       "      <td>Адрес электронной почты</td>\n",
       "      <td>False</td>\n",
       "      <td>CATALOG</td>\n",
       "      <td>[{'Name': 'Email', 'Caption': 'Адрес электронн...</td>\n",
       "    </tr>\n",
       "    <tr>\n",
       "      <th>9</th>\n",
       "      <td>AcademicDegree</td>\n",
       "      <td>Ученая степень,звание</td>\n",
       "      <td>False</td>\n",
       "      <td>CATALOG</td>\n",
       "      <td>[{'Name': 'AcademicDegreeName', 'Caption': 'На...</td>\n",
       "    </tr>\n",
       "  </tbody>\n",
       "</table>\n",
       "</div>"
      ],
      "text/plain": [
       "             Name                  Caption  Visible        Type  \\\n",
       "0        LastName                  Фамилия     True      STRING   \n",
       "1            Name                      Имя     True      STRING   \n",
       "2      MiddleName                 Отчество     True      STRING   \n",
       "3          Gender                      Пол     True  DICTIONARY   \n",
       "4     DateOfBirth            Дата рождения     True        DATE   \n",
       "5           Photo               Фотография    False        FILE   \n",
       "6     Citizenship              Гражданство    False     CATALOG   \n",
       "7     PublicPhone       Контактный телефон    False     CATALOG   \n",
       "8           Email  Адрес электронной почты    False     CATALOG   \n",
       "9  AcademicDegree    Ученая степень,звание    False     CATALOG   \n",
       "\n",
       "                                          SubColumns  \n",
       "0                                               None  \n",
       "1                                               None  \n",
       "2                                               None  \n",
       "3                                               None  \n",
       "4                                               None  \n",
       "5                                               None  \n",
       "6  [{'Name': 'Citizenship', 'Caption': 'Гражданст...  \n",
       "7  [{'Name': 'PublicPhone', 'Caption': 'Контактны...  \n",
       "8  [{'Name': 'Email', 'Caption': 'Адрес электронн...  \n",
       "9  [{'Name': 'AcademicDegreeName', 'Caption': 'На...  "
      ]
     },
     "execution_count": 58,
     "metadata": {},
     "output_type": "execute_result"
    }
   ],
   "source": [
    "df_structure = pd.DataFrame(structure_json['Columns'])\n",
    "df_structure.head(10)"
   ]
  },
  {
   "cell_type": "code",
   "execution_count": 59,
   "id": "ef2c182e-350c-4d16-8d98-f00b89ef0739",
   "metadata": {},
   "outputs": [
    {
     "data": {
      "text/plain": [
       "array(['STRING', 'DICTIONARY', 'DATE', 'FILE', 'CATALOG', 'INTEGER',\n",
       "       'NUMBER'], dtype=object)"
      ]
     },
     "execution_count": 59,
     "metadata": {},
     "output_type": "execute_result"
    }
   ],
   "source": [
    "df_structure['Type'].unique()"
   ]
  },
  {
   "cell_type": "markdown",
   "id": "54b07a98-55a7-4fbc-86e3-b355e31955b6",
   "metadata": {},
   "source": [
    "*Как можно заметить типы столбцов различны, но в данном случае нас интересуют три столбца ('DICTIONARY', 'FILE', 'CATALOG')*"
   ]
  },
  {
   "cell_type": "code",
   "execution_count": 60,
   "id": "f4bc46cf-f9e8-4118-bed6-fbad6c516c57",
   "metadata": {},
   "outputs": [
    {
     "data": {
      "text/html": [
       "<div>\n",
       "<style scoped>\n",
       "    .dataframe tbody tr th:only-of-type {\n",
       "        vertical-align: middle;\n",
       "    }\n",
       "\n",
       "    .dataframe tbody tr th {\n",
       "        vertical-align: top;\n",
       "    }\n",
       "\n",
       "    .dataframe thead th {\n",
       "        text-align: right;\n",
       "    }\n",
       "</style>\n",
       "<table border=\"1\" class=\"dataframe\">\n",
       "  <thead>\n",
       "    <tr style=\"text-align: right;\">\n",
       "      <th></th>\n",
       "      <th>Name</th>\n",
       "      <th>Caption</th>\n",
       "      <th>Visible</th>\n",
       "      <th>Type</th>\n",
       "      <th>SubColumns</th>\n",
       "    </tr>\n",
       "  </thead>\n",
       "  <tbody>\n",
       "    <tr>\n",
       "      <th>3</th>\n",
       "      <td>Gender</td>\n",
       "      <td>Пол</td>\n",
       "      <td>True</td>\n",
       "      <td>DICTIONARY</td>\n",
       "      <td>None</td>\n",
       "    </tr>\n",
       "    <tr>\n",
       "      <th>5</th>\n",
       "      <td>Photo</td>\n",
       "      <td>Фотография</td>\n",
       "      <td>False</td>\n",
       "      <td>FILE</td>\n",
       "      <td>None</td>\n",
       "    </tr>\n",
       "    <tr>\n",
       "      <th>6</th>\n",
       "      <td>Citizenship</td>\n",
       "      <td>Гражданство</td>\n",
       "      <td>False</td>\n",
       "      <td>CATALOG</td>\n",
       "      <td>[{'Name': 'Citizenship', 'Caption': 'Гражданст...</td>\n",
       "    </tr>\n",
       "    <tr>\n",
       "      <th>7</th>\n",
       "      <td>PublicPhone</td>\n",
       "      <td>Контактный телефон</td>\n",
       "      <td>False</td>\n",
       "      <td>CATALOG</td>\n",
       "      <td>[{'Name': 'PublicPhone', 'Caption': 'Контактны...</td>\n",
       "    </tr>\n",
       "    <tr>\n",
       "      <th>8</th>\n",
       "      <td>Email</td>\n",
       "      <td>Адрес электронной почты</td>\n",
       "      <td>False</td>\n",
       "      <td>CATALOG</td>\n",
       "      <td>[{'Name': 'Email', 'Caption': 'Адрес электронн...</td>\n",
       "    </tr>\n",
       "    <tr>\n",
       "      <th>9</th>\n",
       "      <td>AcademicDegree</td>\n",
       "      <td>Ученая степень,звание</td>\n",
       "      <td>False</td>\n",
       "      <td>CATALOG</td>\n",
       "      <td>[{'Name': 'AcademicDegreeName', 'Caption': 'На...</td>\n",
       "    </tr>\n",
       "    <tr>\n",
       "      <th>11</th>\n",
       "      <td>Sport</td>\n",
       "      <td>Вид спорта тренера</td>\n",
       "      <td>False</td>\n",
       "      <td>CATALOG</td>\n",
       "      <td>[{'Name': 'SportName', 'Caption': 'Наименовани...</td>\n",
       "    </tr>\n",
       "    <tr>\n",
       "      <th>12</th>\n",
       "      <td>Education</td>\n",
       "      <td>Профильное образование повиду спорта</td>\n",
       "      <td>False</td>\n",
       "      <td>CATALOG</td>\n",
       "      <td>[{'Name': 'EducationLevel', 'Caption': 'Уровен...</td>\n",
       "    </tr>\n",
       "    <tr>\n",
       "      <th>13</th>\n",
       "      <td>AdditionalEducation</td>\n",
       "      <td>Дополнительное образование по виду спорта</td>\n",
       "      <td>False</td>\n",
       "      <td>CATALOG</td>\n",
       "      <td>[{'Name': 'AdditionalEducationLevel', 'Caption...</td>\n",
       "    </tr>\n",
       "    <tr>\n",
       "      <th>14</th>\n",
       "      <td>Attestation</td>\n",
       "      <td>Аттестация по виду спорта</td>\n",
       "      <td>False</td>\n",
       "      <td>CATALOG</td>\n",
       "      <td>[{'Name': 'AvailabilityOfCertification', 'Capt...</td>\n",
       "    </tr>\n",
       "    <tr>\n",
       "      <th>15</th>\n",
       "      <td>JobOrganisation</td>\n",
       "      <td>Организация (место работы)</td>\n",
       "      <td>False</td>\n",
       "      <td>CATALOG</td>\n",
       "      <td>[{'Name': 'JobOrganizationName', 'Caption': 'Н...</td>\n",
       "    </tr>\n",
       "    <tr>\n",
       "      <th>16</th>\n",
       "      <td>CoachCategory</td>\n",
       "      <td>Тренерская категория</td>\n",
       "      <td>False</td>\n",
       "      <td>CATALOG</td>\n",
       "      <td>[{'Name': 'CoachCategoryName', 'Caption': 'Наи...</td>\n",
       "    </tr>\n",
       "    <tr>\n",
       "      <th>17</th>\n",
       "      <td>SportSpecialization</td>\n",
       "      <td>Развиваемая тренером часть спорта</td>\n",
       "      <td>True</td>\n",
       "      <td>DICTIONARY</td>\n",
       "      <td>None</td>\n",
       "    </tr>\n",
       "    <tr>\n",
       "      <th>18</th>\n",
       "      <td>SportActivityGender</td>\n",
       "      <td>Пол, с которым работает тренер</td>\n",
       "      <td>True</td>\n",
       "      <td>DICTIONARY</td>\n",
       "      <td>None</td>\n",
       "    </tr>\n",
       "    <tr>\n",
       "      <th>21</th>\n",
       "      <td>Services</td>\n",
       "      <td>Услуги,предоставляемые тренером</td>\n",
       "      <td>False</td>\n",
       "      <td>CATALOG</td>\n",
       "      <td>[{'Name': 'ServiceName', 'Caption': 'Название ...</td>\n",
       "    </tr>\n",
       "    <tr>\n",
       "      <th>23</th>\n",
       "      <td>Rank</td>\n",
       "      <td>Спортивные разряды, звания тренера</td>\n",
       "      <td>False</td>\n",
       "      <td>CATALOG</td>\n",
       "      <td>[{'Name': 'RankName', 'Caption': 'Спортивный р...</td>\n",
       "    </tr>\n",
       "    <tr>\n",
       "      <th>25</th>\n",
       "      <td>FederationMembership</td>\n",
       "      <td>Членство в спортивных федерациях и обществах п...</td>\n",
       "      <td>False</td>\n",
       "      <td>CATALOG</td>\n",
       "      <td>[{'Name': 'FederationMembershipOrganisation', ...</td>\n",
       "    </tr>\n",
       "  </tbody>\n",
       "</table>\n",
       "</div>"
      ],
      "text/plain": [
       "                    Name                                            Caption  \\\n",
       "3                 Gender                                                Пол   \n",
       "5                  Photo                                         Фотография   \n",
       "6            Citizenship                                        Гражданство   \n",
       "7            PublicPhone                                 Контактный телефон   \n",
       "8                  Email                            Адрес электронной почты   \n",
       "9         AcademicDegree                              Ученая степень,звание   \n",
       "11                 Sport                                 Вид спорта тренера   \n",
       "12             Education               Профильное образование повиду спорта   \n",
       "13   AdditionalEducation          Дополнительное образование по виду спорта   \n",
       "14           Attestation                          Аттестация по виду спорта   \n",
       "15       JobOrganisation                         Организация (место работы)   \n",
       "16         CoachCategory                               Тренерская категория   \n",
       "17   SportSpecialization                  Развиваемая тренером часть спорта   \n",
       "18   SportActivityGender                     Пол, с которым работает тренер   \n",
       "21              Services                    Услуги,предоставляемые тренером   \n",
       "23                  Rank                 Спортивные разряды, звания тренера   \n",
       "25  FederationMembership  Членство в спортивных федерациях и обществах п...   \n",
       "\n",
       "    Visible        Type                                         SubColumns  \n",
       "3      True  DICTIONARY                                               None  \n",
       "5     False        FILE                                               None  \n",
       "6     False     CATALOG  [{'Name': 'Citizenship', 'Caption': 'Гражданст...  \n",
       "7     False     CATALOG  [{'Name': 'PublicPhone', 'Caption': 'Контактны...  \n",
       "8     False     CATALOG  [{'Name': 'Email', 'Caption': 'Адрес электронн...  \n",
       "9     False     CATALOG  [{'Name': 'AcademicDegreeName', 'Caption': 'На...  \n",
       "11    False     CATALOG  [{'Name': 'SportName', 'Caption': 'Наименовани...  \n",
       "12    False     CATALOG  [{'Name': 'EducationLevel', 'Caption': 'Уровен...  \n",
       "13    False     CATALOG  [{'Name': 'AdditionalEducationLevel', 'Caption...  \n",
       "14    False     CATALOG  [{'Name': 'AvailabilityOfCertification', 'Capt...  \n",
       "15    False     CATALOG  [{'Name': 'JobOrganizationName', 'Caption': 'Н...  \n",
       "16    False     CATALOG  [{'Name': 'CoachCategoryName', 'Caption': 'Наи...  \n",
       "17     True  DICTIONARY                                               None  \n",
       "18     True  DICTIONARY                                               None  \n",
       "21    False     CATALOG  [{'Name': 'ServiceName', 'Caption': 'Название ...  \n",
       "23    False     CATALOG  [{'Name': 'RankName', 'Caption': 'Спортивный р...  \n",
       "25    False     CATALOG  [{'Name': 'FederationMembershipOrganisation', ...  "
      ]
     },
     "execution_count": 60,
     "metadata": {},
     "output_type": "execute_result"
    }
   ],
   "source": [
    "df_structure[df_structure['Type'].isin(['DICTIONARY', 'FILE', 'CATALOG'])]"
   ]
  },
  {
   "cell_type": "markdown",
   "id": "b2bdd242-eac9-471d-9c5b-f4d601ff00f4",
   "metadata": {},
   "source": [
    "*Выделим из данного датасета субколонки в отдельные строки*"
   ]
  },
  {
   "cell_type": "code",
   "execution_count": 61,
   "id": "cd7d700d-cddc-4ef6-b899-e1c89cf410f3",
   "metadata": {},
   "outputs": [],
   "source": [
    "df_subcolumns = df_structure[df_structure['Type']=='CATALOG'].reset_index(drop=True)"
   ]
  },
  {
   "cell_type": "code",
   "execution_count": 62,
   "id": "d18b6142-48fc-4542-9307-48a13d4e7aaa",
   "metadata": {},
   "outputs": [],
   "source": [
    "for i in range(df_subcolumns.shape[0]):\n",
    "    df_structure = df_structure.append(df_subcolumns['SubColumns'].iloc[i])"
   ]
  },
  {
   "cell_type": "code",
   "execution_count": 119,
   "id": "cf189f12-1083-4200-a1bb-b13d002aa5a3",
   "metadata": {},
   "outputs": [
    {
     "data": {
      "text/html": [
       "<div>\n",
       "<style scoped>\n",
       "    .dataframe tbody tr th:only-of-type {\n",
       "        vertical-align: middle;\n",
       "    }\n",
       "\n",
       "    .dataframe tbody tr th {\n",
       "        vertical-align: top;\n",
       "    }\n",
       "\n",
       "    .dataframe thead th {\n",
       "        text-align: right;\n",
       "    }\n",
       "</style>\n",
       "<table border=\"1\" class=\"dataframe\">\n",
       "  <thead>\n",
       "    <tr style=\"text-align: right;\">\n",
       "      <th></th>\n",
       "      <th>Name</th>\n",
       "      <th>Caption</th>\n",
       "      <th>Visible</th>\n",
       "      <th>Type</th>\n",
       "      <th>SubColumns</th>\n",
       "    </tr>\n",
       "  </thead>\n",
       "  <tbody>\n",
       "    <tr>\n",
       "      <th>0</th>\n",
       "      <td>LastName</td>\n",
       "      <td>Фамилия</td>\n",
       "      <td>True</td>\n",
       "      <td>STRING</td>\n",
       "      <td>None</td>\n",
       "    </tr>\n",
       "    <tr>\n",
       "      <th>1</th>\n",
       "      <td>Name</td>\n",
       "      <td>Имя</td>\n",
       "      <td>True</td>\n",
       "      <td>STRING</td>\n",
       "      <td>None</td>\n",
       "    </tr>\n",
       "    <tr>\n",
       "      <th>2</th>\n",
       "      <td>MiddleName</td>\n",
       "      <td>Отчество</td>\n",
       "      <td>True</td>\n",
       "      <td>STRING</td>\n",
       "      <td>None</td>\n",
       "    </tr>\n",
       "    <tr>\n",
       "      <th>3</th>\n",
       "      <td>Gender</td>\n",
       "      <td>Пол</td>\n",
       "      <td>True</td>\n",
       "      <td>DICTIONARY</td>\n",
       "      <td>None</td>\n",
       "    </tr>\n",
       "    <tr>\n",
       "      <th>4</th>\n",
       "      <td>DateOfBirth</td>\n",
       "      <td>Дата рождения</td>\n",
       "      <td>True</td>\n",
       "      <td>DATE</td>\n",
       "      <td>None</td>\n",
       "    </tr>\n",
       "  </tbody>\n",
       "</table>\n",
       "</div>"
      ],
      "text/plain": [
       "          Name        Caption  Visible        Type SubColumns\n",
       "0     LastName        Фамилия     True      STRING       None\n",
       "1         Name            Имя     True      STRING       None\n",
       "2   MiddleName       Отчество     True      STRING       None\n",
       "3       Gender            Пол     True  DICTIONARY       None\n",
       "4  DateOfBirth  Дата рождения     True        DATE       None"
      ]
     },
     "execution_count": 119,
     "metadata": {},
     "output_type": "execute_result"
    }
   ],
   "source": [
    "df_structure = df_structure[df_structure['Type']!='CATALOG']\n",
    "df_structure.reset_index(drop=True,inplace=True)\n",
    "df_structure.head()"
   ]
  },
  {
   "cell_type": "code",
   "execution_count": 127,
   "id": "ff3842fc-a3a3-4652-b321-c36067d807f5",
   "metadata": {},
   "outputs": [
    {
     "data": {
      "text/plain": [
       "53"
      ]
     },
     "execution_count": 127,
     "metadata": {},
     "output_type": "execute_result"
    }
   ],
   "source": [
    "df_structure['Caption'].nunique()"
   ]
  },
  {
   "cell_type": "markdown",
   "id": "15941b9a-3268-49d6-8074-594534f7de84",
   "metadata": {},
   "source": [
    "##### Выгрузка основных данных для анализа"
   ]
  },
  {
   "cell_type": "code",
   "execution_count": 21,
   "id": "6a13a31b-bc69-49c3-8905-0ca9d9081fdf",
   "metadata": {},
   "outputs": [],
   "source": [
    "response = requests.get('https://apidata.mos.ru/v1/datasets/61321/rows',params)\n",
    "data_json = response.json()"
   ]
  },
  {
   "cell_type": "code",
   "execution_count": 114,
   "id": "f1f690b2-7ba6-4c34-92bb-619deef25509",
   "metadata": {},
   "outputs": [],
   "source": [
    "def modern_dict(json_cells_data):\n",
    "    mod_dict = json_cells_data.copy()\n",
    "    for key, value in json_cells_data.items():\n",
    "        if isinstance(value,list) and value:\n",
    "            mod_dict.pop(key)\n",
    "            mod_dict = {**mod_dict, **value[0]}\n",
    "    return mod_dict"
   ]
  },
  {
   "cell_type": "code",
   "execution_count": 120,
   "id": "b831ea6d-b0f0-447b-b6bc-9cc9cad67d89",
   "metadata": {},
   "outputs": [],
   "source": [
    "for i in range(len(data_json)):\n",
    "    data_json[i]=modern_dict(data_json[i]['Cells'])"
   ]
  },
  {
   "cell_type": "code",
   "execution_count": 126,
   "id": "3dddb17b-5a29-4fd9-b87f-d5b63f234e71",
   "metadata": {},
   "outputs": [
    {
     "data": {
      "text/plain": [
       "39"
      ]
     },
     "execution_count": 126,
     "metadata": {},
     "output_type": "execute_result"
    }
   ],
   "source": [
    "len(data_json[30])"
   ]
  },
  {
   "cell_type": "code",
   "execution_count": 129,
   "id": "8df7e065-7b7e-4005-a85f-7f6b247b19d3",
   "metadata": {},
   "outputs": [
    {
     "data": {
      "text/plain": [
       "array(['LastName', 'Name', 'MiddleName', 'Gender', 'DateOfBirth', 'Photo',\n",
       "       'OtherAchievements', 'SportSpecialization', 'SportActivityGender',\n",
       "       'SportActivityMinAge', 'SportActivityMaxAge',\n",
       "       'PersonalAchievement', 'PupilAchievements', 'CoachRankPosition',\n",
       "       'CoachRankTotal', 'CoachRankAverageScore', 'CoachComments',\n",
       "       'CoachCommentScore', 'global_id', 'Citizenship', 'PublicPhone',\n",
       "       'Email', 'AcademicDegreeName', 'AcademicDegreeDate', 'SportName',\n",
       "       'SeniorityPeriod', 'EducationLevel', 'EducationOrganization',\n",
       "       'EducationFaculty', 'EducationQualification', 'EducationEndDate',\n",
       "       'AdditionalEducationLevel', 'AdditionalEducationOrganization',\n",
       "       'AdditionalEducationFaculty', 'AdditionalEducationQualification',\n",
       "       'AdditionalEducationEndDate', 'AvailabilityOfCertification',\n",
       "       'AttestationBeginDate', 'AttestationEndDate',\n",
       "       'JobOrganizationName', 'JobOrganizationStartDate',\n",
       "       'SportDiscipline', 'CoachCategoryName', 'CoachCategoryStartDate',\n",
       "       'CoachCategoryEndDate', 'ServiceName', 'ServiceObject',\n",
       "       'ServiceText', 'RankName', 'RankBeginDate', 'RankEndDate',\n",
       "       'FederationMembershipOrganisation', 'FederationMembershipDate'],\n",
       "      dtype=object)"
      ]
     },
     "execution_count": 129,
     "metadata": {},
     "output_type": "execute_result"
    }
   ],
   "source": [
    "df_structure['Name'].unique()"
   ]
  },
  {
   "cell_type": "code",
   "execution_count": 117,
   "id": "f8930525-43dc-41a1-9498-85dbc2a7190b",
   "metadata": {},
   "outputs": [
    {
     "data": {
      "text/plain": [
       "{'global_id': 901079981,\n",
       " 'Name': 'Лариса',\n",
       " 'LastName': 'Алешина',\n",
       " 'MiddleName': 'Владимировна',\n",
       " 'Gender': 'женский',\n",
       " 'DateOfBirth': '01.02.1960',\n",
       " 'Photo': None,\n",
       " 'AcademicDegree': [],\n",
       " 'OtherAchievements': '',\n",
       " 'Education': [],\n",
       " 'AdditionalEducation': [],\n",
       " 'SportSpecialization': 'Большой спорт',\n",
       " 'SportActivityGender': 'Любой',\n",
       " 'SportActivityMinAge': 6,\n",
       " 'SportActivityMaxAge': None,\n",
       " 'Services': [],\n",
       " 'PersonalAchievement': '',\n",
       " 'Rank': [],\n",
       " 'PupilAchievements': '',\n",
       " 'FederationMembership': [],\n",
       " 'CoachRankPosition': None,\n",
       " 'CoachRankTotal': None,\n",
       " 'CoachRankAverageScore': None,\n",
       " 'CoachComments': '',\n",
       " 'CoachCommentScore': None,\n",
       " 'Citizenship': 'Россия',\n",
       " 'PublicPhone': '(499) 242-41-61',\n",
       " 'Email': 's29@mossport.ru',\n",
       " 'SportName': 'акробатический рок-н-ролл',\n",
       " 'SeniorityPeriod': 12,\n",
       " 'AvailabilityOfCertification': 'нет',\n",
       " 'AttestationBeginDate': '',\n",
       " 'AttestationEndDate': '',\n",
       " 'JobOrganizationName': 'ГБУ «СШ № 29 «Хамовники» Москомспорта',\n",
       " 'JobOrganizationStartDate': '17.01.2017',\n",
       " 'SportDiscipline': '',\n",
       " 'CoachCategoryName': 'Старший тренер',\n",
       " 'CoachCategoryStartDate': '01.04.2016',\n",
       " 'CoachCategoryEndDate': ''}"
      ]
     },
     "execution_count": 117,
     "metadata": {},
     "output_type": "execute_result"
    }
   ],
   "source": [
    "modern_dict(data_json[1]['Cells'])"
   ]
  },
  {
   "cell_type": "code",
   "execution_count": 101,
   "id": "bef693aa-990f-4698-9239-83cb79225cbb",
   "metadata": {},
   "outputs": [
    {
     "name": "stdout",
     "output_type": "stream",
     "text": [
      "[{'SportName': 'акробатический рок-н-ролл', 'SeniorityPeriod': 27}]\n"
     ]
    }
   ],
   "source": [
    "for key, value in data_json[0]['Cells'].items():\n",
    "    if isinstance(value,list):\n",
    "        print(value)\n",
    "        break"
   ]
  },
  {
   "cell_type": "code",
   "execution_count": null,
   "id": "8e59fb59-5696-4dea-b987-825452d7bec6",
   "metadata": {},
   "outputs": [],
   "source": []
  },
  {
   "cell_type": "code",
   "execution_count": null,
   "id": "ac4f0bba-0d29-4e62-a3e8-42ab073e76d6",
   "metadata": {},
   "outputs": [],
   "source": []
  },
  {
   "cell_type": "code",
   "execution_count": null,
   "id": "9f642873-01f3-488a-8a79-7648f34aac3e",
   "metadata": {},
   "outputs": [],
   "source": []
  },
  {
   "cell_type": "code",
   "execution_count": null,
   "id": "96f96080-4af1-4965-bfc2-e98b74572040",
   "metadata": {},
   "outputs": [],
   "source": []
  },
  {
   "cell_type": "code",
   "execution_count": null,
   "id": "e3466f9c-815f-4848-8614-884f049e3432",
   "metadata": {},
   "outputs": [],
   "source": []
  },
  {
   "cell_type": "code",
   "execution_count": null,
   "id": "d7a00979-095f-4bba-beec-106b35525234",
   "metadata": {},
   "outputs": [],
   "source": []
  },
  {
   "cell_type": "code",
   "execution_count": null,
   "id": "6a1e63df-6d71-4373-9977-115187d19500",
   "metadata": {},
   "outputs": [],
   "source": []
  }
 ],
 "metadata": {
  "kernelspec": {
   "display_name": "Python 3",
   "language": "python",
   "name": "python3"
  },
  "language_info": {
   "codemirror_mode": {
    "name": "ipython",
    "version": 3
   },
   "file_extension": ".py",
   "mimetype": "text/x-python",
   "name": "python",
   "nbconvert_exporter": "python",
   "pygments_lexer": "ipython3",
   "version": "3.8.8"
  }
 },
 "nbformat": 4,
 "nbformat_minor": 5
}
