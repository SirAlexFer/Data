{
 "cells": [
  {
   "cell_type": "code",
   "execution_count": 251,
   "id": "c2286cf8-2571-4321-ae14-a113e950cc8b",
   "metadata": {},
   "outputs": [],
   "source": [
    "import pandas as pd\n",
    "import requests\n",
    "from bs4 import BeautifulSoup\n",
    "parse_url ='https://zakupki.gov.ru/epz/contractfz223/search/results.html?morphology=on&search-filter=%D0%94%D0%B0%D1%82%D0%B5+%D1%80%D0%B0%D0%B7%D0%BC%D0%B5%D1%89%D0%B5%D0%BD%D0%B8%D1%8F&statuses_0=on&statuses=0&currencyId=-1&sortBy=BY_UPDATE_DATE&pageNumber=1&sortDirection=false&recordsPerPage=_10&showLotsInfoHidden=false'\n",
    "parse_url = parse_url.replace('recordsPerPage=_10','recordsPerPage=_50')\n",
    "\n"
   ]
  },
  {
   "cell_type": "code",
   "execution_count": 103,
   "id": "c7e479a8-e261-46b6-82dd-4c96b04e4f2f",
   "metadata": {},
   "outputs": [],
   "source": [
    "def get_all_parse_url(main_url:str):\n",
    "    \"\"\"Возвращает список URL, из 20 значение\n",
    "    Проход по сайту Госзакупок\"\"\"\n",
    "    total = [main_url]\n",
    "    for i in range(2,20):\n",
    "        if 'pageNumber' in main_url:\n",
    "            total.append(main_url.replace('pageNumber=1','pageNumber'+str(i)))\n",
    "        else:\n",
    "             raise ValueError(\"Несоответствующее значение\")          \n",
    "    return total\n",
    " \n",
    "def get_upr_page(url_page:str):\n",
    "    totalurl = []\n",
    "    \n",
    "    page = requests.get(url_page)\n",
    "    soup = BeautifulSoup(page.content, \"html.parser\")\n",
    "    \n",
    "    job_elements = soup.find_all(\"div\", class_=\"registry-entry__header-mid__number\")\n",
    "    for job_title in job_elements:\n",
    "        parent = job_title.parent\n",
    "        company_element = parent.find(\"a\")['href']\n",
    "        totalurl.append(company_element)\n",
    "    return totalurl"
   ]
  },
  {
   "cell_type": "code",
   "execution_count": 1,
   "id": "1ff8d2aa-8e7c-4513-9dbb-8f16bf6ea2d7",
   "metadata": {},
   "outputs": [],
   "source": [
    "from GetContractGov import GetContractGov"
   ]
  },
  {
   "cell_type": "code",
   "execution_count": 2,
   "id": "ce67f980-9730-4006-8edb-cc652926c1df",
   "metadata": {},
   "outputs": [],
   "source": [
    "obj = GetContractGov(r'C:\\Users\\Кимон\\Documents\\chromedriver.exe')"
   ]
  },
  {
   "cell_type": "code",
   "execution_count": 3,
   "id": "f6236115-eeb8-443a-8a2d-ece8b0ce887c",
   "metadata": {},
   "outputs": [
    {
     "data": {
      "text/plain": [
       "(array([['1', 'Поставка продуктов питания\\nТип объекта закупки: Товар',\n",
       "         'ОКПД2: 10 Продукты пищевые', '-',\n",
       "         '2 808 590.32 Российский рубль', 'Российская Федерация', '-',\n",
       "         '-'],\n",
       "        ['2', 'Поставка продуктов питания\\nТип объекта закупки: Товар',\n",
       "         'ОКПД2: 10 Продукты пищевые', '-',\n",
       "         '9 641 163.18 Российский рубль', 'Российская Федерация', '-',\n",
       "         '-']], dtype='<U53'),\n",
       " '11794116')"
      ]
     },
     "execution_count": 3,
     "metadata": {},
     "output_type": "execute_result"
    }
   ],
   "source": [
    "obj.parse_table('https://zakupki.gov.ru/223/contract/public/contract/view/subject-contract.html?id=11794116&viewMode=FULL')"
   ]
  },
  {
   "cell_type": "code",
   "execution_count": 4,
   "id": "8fcfb9fe-a9a3-4c23-b7bb-e235ae1c9d35",
   "metadata": {},
   "outputs": [
    {
     "data": {
      "text/plain": [
       "{'Цена договора': '12 449 753,50',\n",
       " 'Валюта': 'Российский рубль',\n",
       " 'Дата начала исполнения договора': '12.07.2021',\n",
       " 'Условие начала исполнения договора': '-',\n",
       " 'Дата окончания исполнения договора': '31.12.2021',\n",
       " 'Условие окончания исполнения договора': '-',\n",
       " 'id': '11794116'}"
      ]
     },
     "execution_count": 4,
     "metadata": {},
     "output_type": "execute_result"
    }
   ],
   "source": [
    "obj.parse_general('https://zakupki.gov.ru/223/contract/public/contract/view/subject-contract.html?id=11794116&viewMode=FULL')"
   ]
  },
  {
   "cell_type": "code",
   "execution_count": 8,
   "id": "9f702aa2-6d72-4b9e-8b75-179e2227e9e6",
   "metadata": {},
   "outputs": [],
   "source": [
    "from MainFunction import MainFunction\n",
    "\n",
    "class GetEventGov(MainFunction):\n",
    "    def __init__(self,path_chrome_driver):\n",
    "        from SeleniumParse import SeleniumParse\n",
    "        \n",
    "        self.path_chrome_driver = path_chrome_driver\n",
    "        self.browser = SeleniumParse(self.path_chrome_driver)\n",
    "    \n",
    "    def __del__(self):\n",
    "        self.browser.out_browser()\n",
    "        \n",
    "    \n",
    "    \n",
    "    def parse_table(self,url_contract):\n",
    "        import numpy as np\n",
    "        \n",
    "        self.url_id_table = self._get_id(url_contract)\n",
    "        self.url__contract_1 = 'https://zakupki.gov.ru/223/contract/public/contract/view/journal.html?id='+self.url_id_table\n",
    "        self.browser.get_url(self.url__contract_1)\n",
    "        \n",
    "        #elements = self.browser.browser.find_elements_by_tag_name('tbody')\n",
    "        #list_info_good = []\n",
    "        #elements_2 = elements[-1].find_elements_by_tag_name('td')\n",
    "        #for elem_2 in elements_2:\n",
    "        #    list_info_good.append(elem_2.text)\n",
    "        #    \n",
    "        #arr = np.array(list_info_good)\n",
    "        #mass = arr.reshape(-1,8)\n",
    "        #return arr.reshape(-1,8),self.url_id_table"
   ]
  },
  {
   "cell_type": "code",
   "execution_count": 9,
   "id": "31d16c8d-420c-4828-8c26-3ff44b53d269",
   "metadata": {},
   "outputs": [],
   "source": [
    "#from GetEventGov import GetEventGov\n",
    "obj = GetEventGov(r'C:\\Users\\Кимон\\Documents\\chromedriver.exe')"
   ]
  },
  {
   "cell_type": "code",
   "execution_count": 10,
   "id": "3ce5dfce-c046-49ed-b67f-37ca317b949f",
   "metadata": {},
   "outputs": [],
   "source": [
    "obj.parse_table('https://zakupki.gov.ru/223/contract/public/contract/view/subject-contract.html?id=11794116&viewMode=FULL')"
   ]
  },
  {
   "cell_type": "code",
   "execution_count": null,
   "id": "2c5a90e7-b196-4615-83b3-fbe997162373",
   "metadata": {},
   "outputs": [],
   "source": [
    "elements = self.browser.browser.find_elements_by_tag_name('tbody')"
   ]
  },
  {
   "cell_type": "code",
   "execution_count": null,
   "id": "77572721-3bf3-462d-9d4a-b8a50ec76201",
   "metadata": {},
   "outputs": [],
   "source": []
  },
  {
   "cell_type": "code",
   "execution_count": null,
   "id": "16cf0ff3-a411-4f36-b845-f8c27725e3e1",
   "metadata": {},
   "outputs": [],
   "source": []
  },
  {
   "cell_type": "code",
   "execution_count": null,
   "id": "4018d8f9-51a8-479e-8ad5-fb93fc3647ee",
   "metadata": {},
   "outputs": [],
   "source": []
  },
  {
   "cell_type": "code",
   "execution_count": null,
   "id": "20ad03a1-3e63-46c4-bc9b-f89f38ada650",
   "metadata": {},
   "outputs": [],
   "source": []
  },
  {
   "cell_type": "code",
   "execution_count": null,
   "id": "262e2a32-637e-4288-9d26-d46c5fd92b82",
   "metadata": {},
   "outputs": [],
   "source": []
  },
  {
   "cell_type": "code",
   "execution_count": null,
   "id": "13c0e83e-dc39-4485-87d0-7c67376f7cd5",
   "metadata": {},
   "outputs": [],
   "source": []
  },
  {
   "cell_type": "code",
   "execution_count": 113,
   "id": "01ed16c0-85b4-433b-934d-22c8a3772d77",
   "metadata": {},
   "outputs": [
    {
     "data": {
      "text/plain": [
       "'https://zakupki.gov.ru/223/contract/public/contract/view/general-information.html?style44=false&id=11999617'"
      ]
     },
     "execution_count": 113,
     "metadata": {},
     "output_type": "execute_result"
    }
   ],
   "source": [
    "url_gov_last[0]"
   ]
  },
  {
   "cell_type": "code",
   "execution_count": 37,
   "id": "8d35a84c-7102-4166-a249-17147e76681f",
   "metadata": {},
   "outputs": [],
   "source": [
    "from tkinter import Tk, Entry , Button\n",
    "\n",
    "\n",
    "def clicked():  \n",
    "    print(text.get())\n",
    "\n",
    "\n",
    "\n",
    "root = Tk()\n",
    "root.geometry(\"600x100\")\n",
    "\n",
    "root.title(\"Введите ссылку в открывшееся окно\")\n",
    "text = Entry(root, width=50,font=(\"Calibri\",14))\n",
    "text.insert(0, \"https://zakupki.gov.ru/epz/contractfz223/search/results.html\")\n",
    "text.focus()\n",
    "text.pack()\n",
    "\n",
    "button = Button(root, text=\"Enter\", command=clicked)\n",
    "button.pack()\n",
    "root.mainloop()\n"
   ]
  },
  {
   "cell_type": "code",
   "execution_count": null,
   "id": "e4f672a7-7ef7-4201-876a-40a31442d41c",
   "metadata": {},
   "outputs": [],
   "source": []
  },
  {
   "cell_type": "code",
   "execution_count": null,
   "id": "7fd57661-ed53-4a5c-8260-53fdb37580b2",
   "metadata": {},
   "outputs": [],
   "source": []
  },
  {
   "cell_type": "code",
   "execution_count": null,
   "id": "b0393402-87b3-48a0-8b7e-48c8d58f8f36",
   "metadata": {},
   "outputs": [],
   "source": []
  }
 ],
 "metadata": {
  "kernelspec": {
   "display_name": "Python 3",
   "language": "python",
   "name": "python3"
  },
  "language_info": {
   "codemirror_mode": {
    "name": "ipython",
    "version": 3
   },
   "file_extension": ".py",
   "mimetype": "text/x-python",
   "name": "python",
   "nbconvert_exporter": "python",
   "pygments_lexer": "ipython3",
   "version": "3.8.8"
  }
 },
 "nbformat": 4,
 "nbformat_minor": 5
}
