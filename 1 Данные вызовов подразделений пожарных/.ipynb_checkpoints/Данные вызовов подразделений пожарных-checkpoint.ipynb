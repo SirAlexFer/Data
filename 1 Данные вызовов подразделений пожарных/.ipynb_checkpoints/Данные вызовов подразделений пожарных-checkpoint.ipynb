{
 "cells": [
  {
   "cell_type": "markdown",
   "id": "96734ca3",
   "metadata": {},
   "source": [
    "Данный датасет скачан с сайта https://data.mos.ru/opendata/ из открытого источника\n",
    "\n",
    "**Цель исследования - провести краткий анализ датасета и возможно получить какие-то инсайды**"
   ]
  },
  {
   "cell_type": "markdown",
   "id": "3b9db5cd",
   "metadata": {},
   "source": [
    "# Загрузка и разбор набора данных"
   ]
  },
  {
   "cell_type": "markdown",
   "id": "77f78c87",
   "metadata": {},
   "source": [
    "Загружаем библиотеки"
   ]
  },
  {
   "cell_type": "code",
   "execution_count": 87,
   "id": "90168639",
   "metadata": {},
   "outputs": [],
   "source": [
    "import pandas as pd\n",
    "import matplotlib.pyplot as plt\n",
    "import seaborn as sns\n",
    "\n",
    "%matplotlib inline"
   ]
  },
  {
   "cell_type": "code",
   "execution_count": 126,
   "id": "f19b2dea",
   "metadata": {},
   "outputs": [],
   "source": [
    "df = pd.read_csv('data-5283-2021-06-17.csv',sep=';',encoding='ANSI')\n",
    "df = df[df.columns[:-1]]"
   ]
  },
  {
   "cell_type": "code",
   "execution_count": 127,
   "id": "c9e98c3f",
   "metadata": {},
   "outputs": [
    {
     "data": {
      "text/html": [
       "<div>\n",
       "<style scoped>\n",
       "    .dataframe tbody tr th:only-of-type {\n",
       "        vertical-align: middle;\n",
       "    }\n",
       "\n",
       "    .dataframe tbody tr th {\n",
       "        vertical-align: top;\n",
       "    }\n",
       "\n",
       "    .dataframe thead th {\n",
       "        text-align: right;\n",
       "    }\n",
       "</style>\n",
       "<table border=\"1\" class=\"dataframe\">\n",
       "  <thead>\n",
       "    <tr style=\"text-align: right;\">\n",
       "      <th></th>\n",
       "      <th>ID</th>\n",
       "      <th>AdmArea</th>\n",
       "      <th>Year</th>\n",
       "      <th>global_id</th>\n",
       "      <th>Month</th>\n",
       "      <th>Calls</th>\n",
       "    </tr>\n",
       "  </thead>\n",
       "  <tbody>\n",
       "    <tr>\n",
       "      <th>0</th>\n",
       "      <td>1</td>\n",
       "      <td>Центральный административный округ</td>\n",
       "      <td>2015</td>\n",
       "      <td>37153160</td>\n",
       "      <td>Январь</td>\n",
       "      <td>408</td>\n",
       "    </tr>\n",
       "    <tr>\n",
       "      <th>1</th>\n",
       "      <td>2</td>\n",
       "      <td>Северный административный округ</td>\n",
       "      <td>2015</td>\n",
       "      <td>37153161</td>\n",
       "      <td>Январь</td>\n",
       "      <td>408</td>\n",
       "    </tr>\n",
       "    <tr>\n",
       "      <th>2</th>\n",
       "      <td>3</td>\n",
       "      <td>Северо-Восточный административный округ</td>\n",
       "      <td>2015</td>\n",
       "      <td>37153162</td>\n",
       "      <td>Январь</td>\n",
       "      <td>445</td>\n",
       "    </tr>\n",
       "    <tr>\n",
       "      <th>3</th>\n",
       "      <td>4</td>\n",
       "      <td>Восточный административный округ</td>\n",
       "      <td>2015</td>\n",
       "      <td>37153163</td>\n",
       "      <td>Январь</td>\n",
       "      <td>619</td>\n",
       "    </tr>\n",
       "    <tr>\n",
       "      <th>4</th>\n",
       "      <td>5</td>\n",
       "      <td>Юго-Восточный административный округ</td>\n",
       "      <td>2015</td>\n",
       "      <td>37153164</td>\n",
       "      <td>Январь</td>\n",
       "      <td>541</td>\n",
       "    </tr>\n",
       "  </tbody>\n",
       "</table>\n",
       "</div>"
      ],
      "text/plain": [
       "   ID                                  AdmArea  Year  global_id   Month  Calls\n",
       "0   1       Центральный административный округ  2015   37153160  Январь    408\n",
       "1   2          Северный административный округ  2015   37153161  Январь    408\n",
       "2   3  Северо-Восточный административный округ  2015   37153162  Январь    445\n",
       "3   4         Восточный административный округ  2015   37153163  Январь    619\n",
       "4   5     Юго-Восточный административный округ  2015   37153164  Январь    541"
      ]
     },
     "execution_count": 127,
     "metadata": {},
     "output_type": "execute_result"
    }
   ],
   "source": [
    "df.head()"
   ]
  },
  {
   "cell_type": "code",
   "execution_count": 23,
   "id": "0265b0ca",
   "metadata": {},
   "outputs": [
    {
     "name": "stdout",
     "output_type": "stream",
     "text": [
      "<class 'pandas.core.frame.DataFrame'>\n",
      "RangeIndex: 847 entries, 0 to 846\n",
      "Data columns (total 6 columns):\n",
      " #   Column     Non-Null Count  Dtype \n",
      "---  ------     --------------  ----- \n",
      " 0   ID         847 non-null    int64 \n",
      " 1   AdmArea    847 non-null    object\n",
      " 2   Year       847 non-null    int64 \n",
      " 3   global_id  847 non-null    int64 \n",
      " 4   Month      847 non-null    object\n",
      " 5   Calls      847 non-null    int64 \n",
      "dtypes: int64(4), object(2)\n",
      "memory usage: 39.8+ KB\n"
     ]
    }
   ],
   "source": [
    "df.info()"
   ]
  },
  {
   "cell_type": "markdown",
   "id": "515fa2b2",
   "metadata": {},
   "source": [
    "Проверим теперь месяца на верность заполнения"
   ]
  },
  {
   "cell_type": "code",
   "execution_count": 57,
   "id": "ac527b20",
   "metadata": {},
   "outputs": [],
   "source": [
    "mouth_list =list(df['Month'].unique())"
   ]
  },
  {
   "cell_type": "markdown",
   "id": "65d881ac",
   "metadata": {},
   "source": [
    "Исправим некорректно заполненные месяца"
   ]
  },
  {
   "cell_type": "code",
   "execution_count": 171,
   "id": "cd941c11",
   "metadata": {},
   "outputs": [],
   "source": [
    "df['Month'].replace('август','Август',inplace=True)\n",
    "df['Month'].replace('сентябрь','Сентябрь',inplace=True)\n",
    "df['Month'].replace('февраль','Февраль',inplace=True)\n",
    "df['Month'].replace('Сентября','Сентябрь',inplace=True)\n",
    "df['Month'].replace('март','Март',inplace=True)"
   ]
  },
  {
   "cell_type": "markdown",
   "id": "baee330c",
   "metadata": {},
   "source": [
    "# Краткий анализ на основе существующих данных "
   ]
  },
  {
   "cell_type": "code",
   "execution_count": 63,
   "id": "6e9c2ee8",
   "metadata": {},
   "outputs": [],
   "source": [
    "df_mouth = df.groupby(by='Month',sort=False)['Calls'].sum().reset_index()"
   ]
  },
  {
   "cell_type": "code",
   "execution_count": 67,
   "id": "92163ebb",
   "metadata": {},
   "outputs": [
    {
     "data": {
      "image/png": "[encoded data removed]",
      "text/plain": [
       "<Figure size 432x288 with 1 Axes>"
      ]
     },
     "metadata": {
      "needs_background": "light"
     },
     "output_type": "display_data"
    }
   ],
   "source": [
    "sns.barplot(x = 'Month',y = 'Calls',data=df_mouth)\n",
    "\n",
    "locs, labels = plt.xticks()\n",
    "plt.setp(labels, rotation=45)\n",
    "\n",
    "plt.show()"
   ]
  },
  {
   "cell_type": "markdown",
   "id": "937d1cca",
   "metadata": {},
   "source": [
    "Как мы видим в целом наибольшее количество вызовов приходится на весенний период"
   ]
  },
  {
   "cell_type": "markdown",
   "id": "709a1b64",
   "metadata": {},
   "source": [
    "Расмотрим теперь распределение по округам"
   ]
  },
  {
   "cell_type": "markdown",
   "id": "60972637",
   "metadata": {},
   "source": [
    "Уберем из названия административный округ"
   ]
  },
  {
   "cell_type": "code",
   "execution_count": 128,
   "id": "59f7bdaa",
   "metadata": {},
   "outputs": [],
   "source": [
    "df['AdmArea'] = df['AdmArea'].apply(lambda x:x.replace('  ',' '))\n",
    "df['AdmArea'] = df['AdmArea'].apply(lambda x:x.replace(' административные округа',''))\n",
    "df['AdmArea'] = df['AdmArea'].apply(lambda x:x.replace(' административный округа',''))\n",
    "df['AdmArea'] = df['AdmArea'].apply(lambda x:x.replace(' административный округ',''))\n",
    "df['AdmArea'] = df['AdmArea'].apply(lambda x:x.replace(' административные округ а',''))\n",
    "df['AdmArea'] = df['AdmArea'].apply(lambda x:x.strip())\n",
    "df['AdmArea'] = df['AdmArea'].apply(lambda x:x.replace(' административные округа',''))\n",
    "\n",
    "\n",
    "\n",
    "\n"
   ]
  },
  {
   "cell_type": "markdown",
   "id": "db6b66b9",
   "metadata": {},
   "source": [
    "Мы видим, что названия не везде корректно занесены, поэтому скорректируем столбец, как мы это делали с месяцами. Мы знаем, что в Москве 12 административных округов. Отредактируем исходя из этого.\n",
    "\n",
    "Причем мы видим из Датасета, что Троицкий и Новомосковский административный округа объединены. Следовательно по итогу у нас должно получиться 11 округов"
   ]
  },
  {
   "cell_type": "code",
   "execution_count": 138,
   "id": "5cfccac2",
   "metadata": {},
   "outputs": [],
   "source": [
    "dict_error = {\n",
    "    'ЮгоЗападный':'Юго-Западный',\n",
    "    'Юго-западный':'Юго-Западный',\n",
    "    'Юго=Восточный':'Юго-Восточный',\n",
    "    'Юго-Востосный':'Юго-Восточный',\n",
    "    'Юго-Восточнный':'Юго-Восточный',\n",
    "    'Запдный':'Западный',\n",
    "    'Северо-Закпадный':'Северо-Западный',\n",
    "    'Северо-Заподный':'Северо-Западный',\n",
    "    'Севеврный':'Северный',\n",
    "    'Северо-Востосный':'Северо-Восточный',\n",
    "    'Троицкий и новомосковский':'Троицкий и Новомосковский',\n",
    "    'Северно-Западный':'Северо-Западный'\n",
    "    \n",
    "}\n",
    "\n",
    "def error_replace(text_area):\n",
    "    if text_area in dict_error.keys():\n",
    "        return dict_error[text_area]\n",
    "    return text_area"
   ]
  },
  {
   "cell_type": "code",
   "execution_count": 139,
   "id": "ecd8a2cb",
   "metadata": {},
   "outputs": [],
   "source": [
    "df['AdmArea'] = df['AdmArea'].apply(lambda x:error_replace(x))"
   ]
  },
  {
   "cell_type": "code",
   "execution_count": 140,
   "id": "a4777415",
   "metadata": {},
   "outputs": [],
   "source": [
    "list_area = df['AdmArea'].unique()"
   ]
  },
  {
   "cell_type": "code",
   "execution_count": 141,
   "id": "d085aa6f",
   "metadata": {},
   "outputs": [
    {
     "name": "stdout",
     "output_type": "stream",
     "text": [
      "['Центральный' 'Северный' 'Северо-Восточный' 'Восточный' 'Юго-Восточный'\n",
      " 'Южный' 'Юго-Западный' 'Западный' 'Северо-Западный' 'Зеленоградский'\n",
      " 'Троицкий и Новомосковский']\n",
      "Длина списка составляет 11\n"
     ]
    }
   ],
   "source": [
    "print(list_area)\n",
    "print(f'Длина списка составляет {len(list_area)}')"
   ]
  },
  {
   "cell_type": "markdown",
   "id": "4fb8d72b",
   "metadata": {},
   "source": [
    "Теперь можем получить статистику по Административным районам"
   ]
  },
  {
   "cell_type": "code",
   "execution_count": 145,
   "id": "e04ac47b",
   "metadata": {},
   "outputs": [],
   "source": [
    "df_area = df.groupby(by='AdmArea')['Calls'].sum().reset_index()"
   ]
  },
  {
   "cell_type": "code",
   "execution_count": 189,
   "id": "0dc9a5b2",
   "metadata": {},
   "outputs": [
    {
     "data": {
      "text/html": [
       "<div>\n",
       "<style scoped>\n",
       "    .dataframe tbody tr th:only-of-type {\n",
       "        vertical-align: middle;\n",
       "    }\n",
       "\n",
       "    .dataframe tbody tr th {\n",
       "        vertical-align: top;\n",
       "    }\n",
       "\n",
       "    .dataframe thead th {\n",
       "        text-align: right;\n",
       "    }\n",
       "</style>\n",
       "<table border=\"1\" class=\"dataframe\">\n",
       "  <thead>\n",
       "    <tr style=\"text-align: right;\">\n",
       "      <th></th>\n",
       "      <th>AdmArea</th>\n",
       "      <th>Calls</th>\n",
       "    </tr>\n",
       "  </thead>\n",
       "  <tbody>\n",
       "    <tr>\n",
       "      <th>0</th>\n",
       "      <td>Южный</td>\n",
       "      <td>53429</td>\n",
       "    </tr>\n",
       "    <tr>\n",
       "      <th>1</th>\n",
       "      <td>Восточный</td>\n",
       "      <td>51101</td>\n",
       "    </tr>\n",
       "    <tr>\n",
       "      <th>2</th>\n",
       "      <td>Юго-Восточный</td>\n",
       "      <td>47806</td>\n",
       "    </tr>\n",
       "    <tr>\n",
       "      <th>3</th>\n",
       "      <td>Северо-Восточный</td>\n",
       "      <td>45015</td>\n",
       "    </tr>\n",
       "    <tr>\n",
       "      <th>4</th>\n",
       "      <td>Западный</td>\n",
       "      <td>43741</td>\n",
       "    </tr>\n",
       "    <tr>\n",
       "      <th>5</th>\n",
       "      <td>Юго-Западный</td>\n",
       "      <td>38029</td>\n",
       "    </tr>\n",
       "    <tr>\n",
       "      <th>6</th>\n",
       "      <td>Северный</td>\n",
       "      <td>36676</td>\n",
       "    </tr>\n",
       "    <tr>\n",
       "      <th>7</th>\n",
       "      <td>Центральный</td>\n",
       "      <td>35209</td>\n",
       "    </tr>\n",
       "    <tr>\n",
       "      <th>8</th>\n",
       "      <td>Северо-Западный</td>\n",
       "      <td>32260</td>\n",
       "    </tr>\n",
       "    <tr>\n",
       "      <th>9</th>\n",
       "      <td>Троицкий и Новомосковский</td>\n",
       "      <td>29609</td>\n",
       "    </tr>\n",
       "    <tr>\n",
       "      <th>10</th>\n",
       "      <td>Зеленоградский</td>\n",
       "      <td>12360</td>\n",
       "    </tr>\n",
       "  </tbody>\n",
       "</table>\n",
       "</div>"
      ],
      "text/plain": [
       "                      AdmArea  Calls\n",
       "0                       Южный  53429\n",
       "1                   Восточный  51101\n",
       "2               Юго-Восточный  47806\n",
       "3            Северо-Восточный  45015\n",
       "4                    Западный  43741\n",
       "5                Юго-Западный  38029\n",
       "6                    Северный  36676\n",
       "7                 Центральный  35209\n",
       "8             Северо-Западный  32260\n",
       "9   Троицкий и Новомосковский  29609\n",
       "10             Зеленоградский  12360"
      ]
     },
     "execution_count": 189,
     "metadata": {},
     "output_type": "execute_result"
    }
   ],
   "source": [
    "df_area.sort_values(by='Calls',ascending=False).reset_index(drop=True)"
   ]
  },
  {
   "cell_type": "code",
   "execution_count": 157,
   "id": "7c85f4b3",
   "metadata": {},
   "outputs": [
    {
     "data": {
      "image/png": "[encoded data removed]",
      "text/plain": [
       "<Figure size 720x432 with 1 Axes>"
      ]
     },
     "metadata": {
      "needs_background": "light"
     },
     "output_type": "display_data"
    }
   ],
   "source": [
    "sns.barplot(x = 'AdmArea',y = 'Calls',data=df_area.sort_values(by='Calls'),palette='Paired')\n",
    "\n",
    "locs, labels = plt.xticks()\n",
    "plt.setp(labels, rotation=60)\n",
    "\n",
    "fig=plt.gcf()\n",
    "fig.set_size_inches(10,6)\n",
    "\n",
    "plt.show()"
   ]
  },
  {
   "cell_type": "markdown",
   "id": "64c1e250",
   "metadata": {},
   "source": [
    "Мы видим, что Зеленоградский район значительно уступает по вызовам, однако и площадь его значительно меньше"
   ]
  },
  {
   "cell_type": "markdown",
   "id": "83cf850a",
   "metadata": {},
   "source": [
    "Стоит отметить, что лидерами по вызовам является Восточная часть Москвы"
   ]
  },
  {
   "cell_type": "markdown",
   "id": "b9d01a15",
   "metadata": {},
   "source": [
    "# Статистика в динамике"
   ]
  },
  {
   "cell_type": "markdown",
   "id": "7a56b63e",
   "metadata": {},
   "source": [
    "Теперь рассмотрим общую динамику по вызовам пожарных"
   ]
  },
  {
   "cell_type": "code",
   "execution_count": 161,
   "id": "fb2b42ca",
   "metadata": {},
   "outputs": [
    {
     "data": {
      "text/plain": [
       "array([2015, 2016, 2017, 2018, 2019, 2020, 2021], dtype=int64)"
      ]
     },
     "execution_count": 161,
     "metadata": {},
     "output_type": "execute_result"
    }
   ],
   "source": [
    "df['Year'].unique()"
   ]
  },
  {
   "cell_type": "code",
   "execution_count": 163,
   "id": "77f099aa",
   "metadata": {},
   "outputs": [],
   "source": [
    "df_year_total = df.groupby(by = 'Year')['Calls'].sum()"
   ]
  },
  {
   "cell_type": "markdown",
   "id": "a5970682",
   "metadata": {},
   "source": [
    "Среднее количество вызовов в месяц"
   ]
  },
  {
   "cell_type": "code",
   "execution_count": 247,
   "id": "4f3b4acc",
   "metadata": {},
   "outputs": [
    {
     "name": "stdout",
     "output_type": "stream",
     "text": [
      "Среднее в месяц за 2015 год равно 4698.0\n",
      "Среднее в месяц за 2016 год равно 4652.0\n",
      "Среднее в месяц за 2017 год равно 5043.0\n",
      "Среднее в месяц за 2018 год равно 6590.0\n",
      "Среднее в месяц за 2019 год равно 6303.0\n",
      "Среднее в месяц за 2020 год равно 5562.0\n",
      "Среднее в месяц за 2021 год равно 6213.0\n"
     ]
    }
   ],
   "source": [
    " for k,v in df_year_total.items():\n",
    "     if k == 2021:\n",
    "         print(f'Среднее в месяц за {k} год равно {round(v/5,2)}')\n",
    "     else:\n",
    "         print(f'Среднее в месяц за {k} год равно {round(v/12,0)}')"
   ]
  },
  {
   "cell_type": "markdown",
   "id": "119c27c3",
   "metadata": {},
   "source": [
    "Количество вызовов за каждый год"
   ]
  },
  {
   "cell_type": "code",
   "execution_count": 249,
   "id": "95f99180",
   "metadata": {},
   "outputs": [
    {
     "data": {
      "text/html": [
       "<div>\n",
       "<style scoped>\n",
       "    .dataframe tbody tr th:only-of-type {\n",
       "        vertical-align: middle;\n",
       "    }\n",
       "\n",
       "    .dataframe tbody tr th {\n",
       "        vertical-align: top;\n",
       "    }\n",
       "\n",
       "    .dataframe thead th {\n",
       "        text-align: right;\n",
       "    }\n",
       "</style>\n",
       "<table border=\"1\" class=\"dataframe\">\n",
       "  <thead>\n",
       "    <tr style=\"text-align: right;\">\n",
       "      <th></th>\n",
       "      <th>Year</th>\n",
       "      <th>Calls</th>\n",
       "    </tr>\n",
       "  </thead>\n",
       "  <tbody>\n",
       "    <tr>\n",
       "      <th>0</th>\n",
       "      <td>2015</td>\n",
       "      <td>56373</td>\n",
       "    </tr>\n",
       "    <tr>\n",
       "      <th>1</th>\n",
       "      <td>2016</td>\n",
       "      <td>55820</td>\n",
       "    </tr>\n",
       "    <tr>\n",
       "      <th>2</th>\n",
       "      <td>2017</td>\n",
       "      <td>60516</td>\n",
       "    </tr>\n",
       "    <tr>\n",
       "      <th>3</th>\n",
       "      <td>2018</td>\n",
       "      <td>79077</td>\n",
       "    </tr>\n",
       "    <tr>\n",
       "      <th>4</th>\n",
       "      <td>2019</td>\n",
       "      <td>75636</td>\n",
       "    </tr>\n",
       "    <tr>\n",
       "      <th>5</th>\n",
       "      <td>2020</td>\n",
       "      <td>66748</td>\n",
       "    </tr>\n",
       "    <tr>\n",
       "      <th>6</th>\n",
       "      <td>2021</td>\n",
       "      <td>31065</td>\n",
       "    </tr>\n",
       "  </tbody>\n",
       "</table>\n",
       "</div>"
      ],
      "text/plain": [
       "   Year  Calls\n",
       "0  2015  56373\n",
       "1  2016  55820\n",
       "2  2017  60516\n",
       "3  2018  79077\n",
       "4  2019  75636\n",
       "5  2020  66748\n",
       "6  2021  31065"
      ]
     },
     "execution_count": 249,
     "metadata": {},
     "output_type": "execute_result"
    }
   ],
   "source": [
    "df_year_total.reset_index()"
   ]
  },
  {
   "cell_type": "code",
   "execution_count": 166,
   "id": "c047db0f",
   "metadata": {},
   "outputs": [
    {
     "data": {
      "text/plain": [
       "<AxesSubplot:xlabel='Year'>"
      ]
     },
     "execution_count": 166,
     "metadata": {},
     "output_type": "execute_result"
    },
    {
     "data": {
      "image/png": "[encoded data removed]",
      "text/plain": [
       "<Figure size 432x288 with 1 Axes>"
      ]
     },
     "metadata": {},
     "output_type": "display_data"
    }
   ],
   "source": [
    "sns.set_style(\"darkgrid\")\n",
    "\n",
    "df_year_total.plot()"
   ]
  },
  {
   "cell_type": "markdown",
   "id": "94fc8585",
   "metadata": {},
   "source": [
    "**Мы видим, что в 2018 году было значительное увеличение вызовов пожарных, но затем постепенно тенденция пошла на спад**"
   ]
  },
  {
   "cell_type": "markdown",
   "id": "14045a89",
   "metadata": {},
   "source": [
    "Попробуем разобраться поподробнее. Для этого сделаем статистику по месяцам и годам"
   ]
  },
  {
   "cell_type": "code",
   "execution_count": 176,
   "id": "a5763c92",
   "metadata": {},
   "outputs": [],
   "source": [
    "dict_month = {}\n",
    "for k,v in enumerate(mouth_list,start=1):\n",
    "    dict_month[v] = str(k)\n",
    "    \n",
    "    \n",
    "df['Month_num'] = df['Month'].apply(lambda x: dict_month[x])"
   ]
  },
  {
   "cell_type": "code",
   "execution_count": 177,
   "id": "a56e9c7a",
   "metadata": {},
   "outputs": [
    {
     "data": {
      "text/plain": [
       "{'Январь': '1',\n",
       " 'Февраль': '2',\n",
       " 'Март': '3',\n",
       " 'Апрель': '4',\n",
       " 'Май': '5',\n",
       " 'Июнь': '6',\n",
       " 'Июль': '7',\n",
       " 'Август': '8',\n",
       " 'Сентябрь': '9',\n",
       " 'Октябрь': '10',\n",
       " 'Ноябрь': '11',\n",
       " 'Декабрь': '12'}"
      ]
     },
     "execution_count": 177,
     "metadata": {},
     "output_type": "execute_result"
    }
   ],
   "source": [
    "dict_month"
   ]
  },
  {
   "cell_type": "code",
   "execution_count": 182,
   "id": "b53cd5f4",
   "metadata": {},
   "outputs": [],
   "source": [
    "df['Date'] = df['Year'].apply(str)+'.'+df['Month_num']\n",
    "df['Date'] = pd.to_datetime(df['Date'])"
   ]
  },
  {
   "cell_type": "code",
   "execution_count": 194,
   "id": "c2d74eac",
   "metadata": {},
   "outputs": [
    {
     "data": {
      "text/plain": [
       "<AxesSubplot:xlabel='Date'>"
      ]
     },
     "execution_count": 194,
     "metadata": {},
     "output_type": "execute_result"
    },
    {
     "data": {
      "image/png": "[encoded data removed]",
      "text/plain": [
       "<Figure size 432x288 with 1 Axes>"
      ]
     },
     "metadata": {},
     "output_type": "display_data"
    }
   ],
   "source": [
    "df_date_total = df.groupby(by = 'Date')['Calls'].sum()\n",
    "\n",
    "df_date_total.plot()"
   ]
  },
  {
   "cell_type": "markdown",
   "id": "9987cf42",
   "metadata": {},
   "source": [
    "Мы видим, что определенно весна играет большой вес в общем росте звонков, но тем не менее не наблюдается каких-то либо выбросов(кроме 2015 года)"
   ]
  },
  {
   "cell_type": "code",
   "execution_count": 202,
   "id": "920e555b",
   "metadata": {},
   "outputs": [
    {
     "data": {
      "text/html": [
       "<div>\n",
       "<style scoped>\n",
       "    .dataframe tbody tr th:only-of-type {\n",
       "        vertical-align: middle;\n",
       "    }\n",
       "\n",
       "    .dataframe tbody tr th {\n",
       "        vertical-align: top;\n",
       "    }\n",
       "\n",
       "    .dataframe thead th {\n",
       "        text-align: right;\n",
       "    }\n",
       "</style>\n",
       "<table border=\"1\" class=\"dataframe\">\n",
       "  <thead>\n",
       "    <tr style=\"text-align: right;\">\n",
       "      <th></th>\n",
       "      <th>ID</th>\n",
       "      <th>AdmArea</th>\n",
       "      <th>Year</th>\n",
       "      <th>global_id</th>\n",
       "      <th>Month</th>\n",
       "      <th>Calls</th>\n",
       "      <th>Month_num</th>\n",
       "      <th>Date</th>\n",
       "    </tr>\n",
       "  </thead>\n",
       "  <tbody>\n",
       "    <tr>\n",
       "      <th>0</th>\n",
       "      <td>1</td>\n",
       "      <td>Центральный</td>\n",
       "      <td>2015</td>\n",
       "      <td>37153160</td>\n",
       "      <td>Январь</td>\n",
       "      <td>408</td>\n",
       "      <td>1</td>\n",
       "      <td>2015-01-01</td>\n",
       "    </tr>\n",
       "    <tr>\n",
       "      <th>1</th>\n",
       "      <td>2</td>\n",
       "      <td>Северный</td>\n",
       "      <td>2015</td>\n",
       "      <td>37153161</td>\n",
       "      <td>Январь</td>\n",
       "      <td>408</td>\n",
       "      <td>1</td>\n",
       "      <td>2015-01-01</td>\n",
       "    </tr>\n",
       "    <tr>\n",
       "      <th>2</th>\n",
       "      <td>3</td>\n",
       "      <td>Северо-Восточный</td>\n",
       "      <td>2015</td>\n",
       "      <td>37153162</td>\n",
       "      <td>Январь</td>\n",
       "      <td>445</td>\n",
       "      <td>1</td>\n",
       "      <td>2015-01-01</td>\n",
       "    </tr>\n",
       "    <tr>\n",
       "      <th>3</th>\n",
       "      <td>4</td>\n",
       "      <td>Восточный</td>\n",
       "      <td>2015</td>\n",
       "      <td>37153163</td>\n",
       "      <td>Январь</td>\n",
       "      <td>619</td>\n",
       "      <td>1</td>\n",
       "      <td>2015-01-01</td>\n",
       "    </tr>\n",
       "    <tr>\n",
       "      <th>4</th>\n",
       "      <td>5</td>\n",
       "      <td>Юго-Восточный</td>\n",
       "      <td>2015</td>\n",
       "      <td>37153164</td>\n",
       "      <td>Январь</td>\n",
       "      <td>541</td>\n",
       "      <td>1</td>\n",
       "      <td>2015-01-01</td>\n",
       "    </tr>\n",
       "    <tr>\n",
       "      <th>5</th>\n",
       "      <td>6</td>\n",
       "      <td>Южный</td>\n",
       "      <td>2015</td>\n",
       "      <td>37153165</td>\n",
       "      <td>Январь</td>\n",
       "      <td>549</td>\n",
       "      <td>1</td>\n",
       "      <td>2015-01-01</td>\n",
       "    </tr>\n",
       "    <tr>\n",
       "      <th>6</th>\n",
       "      <td>7</td>\n",
       "      <td>Юго-Западный</td>\n",
       "      <td>2015</td>\n",
       "      <td>37153166</td>\n",
       "      <td>Январь</td>\n",
       "      <td>461</td>\n",
       "      <td>1</td>\n",
       "      <td>2015-01-01</td>\n",
       "    </tr>\n",
       "    <tr>\n",
       "      <th>7</th>\n",
       "      <td>8</td>\n",
       "      <td>Западный</td>\n",
       "      <td>2015</td>\n",
       "      <td>37153168</td>\n",
       "      <td>Январь</td>\n",
       "      <td>479</td>\n",
       "      <td>1</td>\n",
       "      <td>2015-01-01</td>\n",
       "    </tr>\n",
       "    <tr>\n",
       "      <th>8</th>\n",
       "      <td>9</td>\n",
       "      <td>Северо-Западный</td>\n",
       "      <td>2015</td>\n",
       "      <td>37153169</td>\n",
       "      <td>Январь</td>\n",
       "      <td>379</td>\n",
       "      <td>1</td>\n",
       "      <td>2015-01-01</td>\n",
       "    </tr>\n",
       "    <tr>\n",
       "      <th>9</th>\n",
       "      <td>10</td>\n",
       "      <td>Зеленоградский</td>\n",
       "      <td>2015</td>\n",
       "      <td>37153170</td>\n",
       "      <td>Январь</td>\n",
       "      <td>128</td>\n",
       "      <td>1</td>\n",
       "      <td>2015-01-01</td>\n",
       "    </tr>\n",
       "  </tbody>\n",
       "</table>\n",
       "</div>"
      ],
      "text/plain": [
       "   ID           AdmArea  Year  global_id   Month  Calls Month_num       Date\n",
       "0   1       Центральный  2015   37153160  Январь    408         1 2015-01-01\n",
       "1   2          Северный  2015   37153161  Январь    408         1 2015-01-01\n",
       "2   3  Северо-Восточный  2015   37153162  Январь    445         1 2015-01-01\n",
       "3   4         Восточный  2015   37153163  Январь    619         1 2015-01-01\n",
       "4   5     Юго-Восточный  2015   37153164  Январь    541         1 2015-01-01\n",
       "5   6             Южный  2015   37153165  Январь    549         1 2015-01-01\n",
       "6   7      Юго-Западный  2015   37153166  Январь    461         1 2015-01-01\n",
       "7   8          Западный  2015   37153168  Январь    479         1 2015-01-01\n",
       "8   9   Северо-Западный  2015   37153169  Январь    379         1 2015-01-01\n",
       "9  10    Зеленоградский  2015   37153170  Январь    128         1 2015-01-01"
      ]
     },
     "execution_count": 202,
     "metadata": {},
     "output_type": "execute_result"
    }
   ],
   "source": [
    "df[:10]"
   ]
  },
  {
   "cell_type": "markdown",
   "id": "8202f84b",
   "metadata": {},
   "source": [
    "Рассмотрим теперь статистику в разрезе административных округов"
   ]
  },
  {
   "cell_type": "code",
   "execution_count": 211,
   "id": "7ed60c12",
   "metadata": {},
   "outputs": [
    {
     "data": {
      "image/png": "[encoded data removed]",
      "text/plain": [
       "<Figure size 720x720 with 1 Axes>"
      ]
     },
     "metadata": {},
     "output_type": "display_data"
    }
   ],
   "source": [
    "sns.barplot(x = 'Year',y = 'Calls',data=df,hue = 'AdmArea')\n",
    "plt.tight_layout()\n",
    "locs, labels = plt.xticks()\n",
    "plt.setp(labels, rotation=60)\n",
    "\n",
    "fig=plt.gcf()\n",
    "fig.set_size_inches(10,10)"
   ]
  },
  {
   "cell_type": "markdown",
   "id": "35f9e527",
   "metadata": {},
   "source": [
    "Не совсем информативно. В данном случае определенно лучше сделать сводную таблицу"
   ]
  },
  {
   "cell_type": "code",
   "execution_count": 217,
   "id": "0e5b24f9",
   "metadata": {},
   "outputs": [],
   "source": [
    "df_pivot = df.pivot_table(values = \"Calls\",index = 'AdmArea',columns='Year',aggfunc='sum')"
   ]
  },
  {
   "cell_type": "code",
   "execution_count": 218,
   "id": "50425a68",
   "metadata": {},
   "outputs": [
    {
     "data": {
      "text/html": [
       "<div>\n",
       "<style scoped>\n",
       "    .dataframe tbody tr th:only-of-type {\n",
       "        vertical-align: middle;\n",
       "    }\n",
       "\n",
       "    .dataframe tbody tr th {\n",
       "        vertical-align: top;\n",
       "    }\n",
       "\n",
       "    .dataframe thead th {\n",
       "        text-align: right;\n",
       "    }\n",
       "</style>\n",
       "<table border=\"1\" class=\"dataframe\">\n",
       "  <thead>\n",
       "    <tr style=\"text-align: right;\">\n",
       "      <th>Year</th>\n",
       "      <th>2015</th>\n",
       "      <th>2016</th>\n",
       "      <th>2017</th>\n",
       "      <th>2018</th>\n",
       "      <th>2019</th>\n",
       "      <th>2020</th>\n",
       "      <th>2021</th>\n",
       "    </tr>\n",
       "    <tr>\n",
       "      <th>AdmArea</th>\n",
       "      <th></th>\n",
       "      <th></th>\n",
       "      <th></th>\n",
       "      <th></th>\n",
       "      <th></th>\n",
       "      <th></th>\n",
       "      <th></th>\n",
       "    </tr>\n",
       "  </thead>\n",
       "  <tbody>\n",
       "    <tr>\n",
       "      <th>Восточный</th>\n",
       "      <td>6921</td>\n",
       "      <td>6444</td>\n",
       "      <td>7940</td>\n",
       "      <td>9376</td>\n",
       "      <td>8821</td>\n",
       "      <td>7823</td>\n",
       "      <td>3776</td>\n",
       "    </tr>\n",
       "    <tr>\n",
       "      <th>Западный</th>\n",
       "      <td>5972</td>\n",
       "      <td>5482</td>\n",
       "      <td>6345</td>\n",
       "      <td>7967</td>\n",
       "      <td>7990</td>\n",
       "      <td>6697</td>\n",
       "      <td>3288</td>\n",
       "    </tr>\n",
       "    <tr>\n",
       "      <th>Зеленоградский</th>\n",
       "      <td>1469</td>\n",
       "      <td>1524</td>\n",
       "      <td>1550</td>\n",
       "      <td>2598</td>\n",
       "      <td>2244</td>\n",
       "      <td>2074</td>\n",
       "      <td>901</td>\n",
       "    </tr>\n",
       "    <tr>\n",
       "      <th>Северный</th>\n",
       "      <td>4850</td>\n",
       "      <td>4392</td>\n",
       "      <td>5265</td>\n",
       "      <td>7163</td>\n",
       "      <td>6681</td>\n",
       "      <td>5646</td>\n",
       "      <td>2679</td>\n",
       "    </tr>\n",
       "    <tr>\n",
       "      <th>Северо-Восточный</th>\n",
       "      <td>6039</td>\n",
       "      <td>8497</td>\n",
       "      <td>6190</td>\n",
       "      <td>8072</td>\n",
       "      <td>7126</td>\n",
       "      <td>6196</td>\n",
       "      <td>2895</td>\n",
       "    </tr>\n",
       "    <tr>\n",
       "      <th>Северо-Западный</th>\n",
       "      <td>4628</td>\n",
       "      <td>4652</td>\n",
       "      <td>4746</td>\n",
       "      <td>5830</td>\n",
       "      <td>5373</td>\n",
       "      <td>4843</td>\n",
       "      <td>2188</td>\n",
       "    </tr>\n",
       "    <tr>\n",
       "      <th>Троицкий и Новомосковский</th>\n",
       "      <td>3636</td>\n",
       "      <td>3691</td>\n",
       "      <td>3974</td>\n",
       "      <td>5220</td>\n",
       "      <td>5411</td>\n",
       "      <td>5324</td>\n",
       "      <td>2353</td>\n",
       "    </tr>\n",
       "    <tr>\n",
       "      <th>Центральный</th>\n",
       "      <td>4738</td>\n",
       "      <td>4682</td>\n",
       "      <td>5377</td>\n",
       "      <td>6529</td>\n",
       "      <td>6204</td>\n",
       "      <td>5226</td>\n",
       "      <td>2453</td>\n",
       "    </tr>\n",
       "    <tr>\n",
       "      <th>Юго-Восточный</th>\n",
       "      <td>6179</td>\n",
       "      <td>5838</td>\n",
       "      <td>6555</td>\n",
       "      <td>8879</td>\n",
       "      <td>9087</td>\n",
       "      <td>7637</td>\n",
       "      <td>3631</td>\n",
       "    </tr>\n",
       "    <tr>\n",
       "      <th>Юго-Западный</th>\n",
       "      <td>5131</td>\n",
       "      <td>4756</td>\n",
       "      <td>5675</td>\n",
       "      <td>7122</td>\n",
       "      <td>6772</td>\n",
       "      <td>5989</td>\n",
       "      <td>2584</td>\n",
       "    </tr>\n",
       "    <tr>\n",
       "      <th>Южный</th>\n",
       "      <td>6810</td>\n",
       "      <td>5862</td>\n",
       "      <td>6899</td>\n",
       "      <td>10321</td>\n",
       "      <td>9927</td>\n",
       "      <td>9293</td>\n",
       "      <td>4317</td>\n",
       "    </tr>\n",
       "  </tbody>\n",
       "</table>\n",
       "</div>"
      ],
      "text/plain": [
       "Year                       2015  2016  2017   2018  2019  2020  2021\n",
       "AdmArea                                                             \n",
       "Восточный                  6921  6444  7940   9376  8821  7823  3776\n",
       "Западный                   5972  5482  6345   7967  7990  6697  3288\n",
       "Зеленоградский             1469  1524  1550   2598  2244  2074   901\n",
       "Северный                   4850  4392  5265   7163  6681  5646  2679\n",
       "Северо-Восточный           6039  8497  6190   8072  7126  6196  2895\n",
       "Северо-Западный            4628  4652  4746   5830  5373  4843  2188\n",
       "Троицкий и Новомосковский  3636  3691  3974   5220  5411  5324  2353\n",
       "Центральный                4738  4682  5377   6529  6204  5226  2453\n",
       "Юго-Восточный              6179  5838  6555   8879  9087  7637  3631\n",
       "Юго-Западный               5131  4756  5675   7122  6772  5989  2584\n",
       "Южный                      6810  5862  6899  10321  9927  9293  4317"
      ]
     },
     "execution_count": 218,
     "metadata": {},
     "output_type": "execute_result"
    }
   ],
   "source": [
    "df_pivot"
   ]
  },
  {
   "cell_type": "code",
   "execution_count": 225,
   "id": "68776103",
   "metadata": {},
   "outputs": [
    {
     "data": {
      "image/png": "[encoded data removed]",
      "text/plain": [
       "<Figure size 720x720 with 2 Axes>"
      ]
     },
     "metadata": {},
     "output_type": "display_data"
    }
   ],
   "source": [
    "sns.heatmap(df_pivot/1000,annot = True,cmap= 'coolwarm')\n",
    "\n",
    "fig=plt.gcf()\n",
    "fig.set_size_inches(10,10)\n",
    "\n",
    "plt.show()"
   ]
  },
  {
   "cell_type": "markdown",
   "id": "bb1f7c59",
   "metadata": {},
   "source": [
    "Итак по итогам исследования можно сделать несколько выводов\n",
    "- Количество вызовов пожарных зависит от месяца, наибольшее количество вызовов приходится на весенний период\n",
    "- В 2018 году значительно возрасло количество вызовов пожарных во всех районах\n",
    "- В 2020 по некоторым регионам количество вызовов сократилось. Связано это было предположительно с тем, что люди больше находились дома, и таким образом предотвращали потенциальные пожары.\n",
    "- В южном районе в 2019 г количество вызовов практически не изменилось. Причины необходимо искать за пределами данного датасета"
   ]
  }
 ],
 "metadata": {
  "kernelspec": {
   "display_name": "Python 3",
   "language": "python",
   "name": "python3"
  },
  "latex_envs": {
   "LaTeX_envs_menu_present": true,
   "autoclose": false,
   "autocomplete": true,
   "bibliofile": "biblio.bib",
   "cite_by": "apalike",
   "current_citInitial": 1,
   "eqLabelWithNumbers": true,
   "eqNumInitial": 1,
   "hotkeys": {
    "equation": "Ctrl-E",
    "itemize": "Ctrl-I"
   },
   "labels_anchors": false,
   "latex_user_defs": false,
   "report_style_numbering": false,
   "user_envs_cfg": false
  }
 },
 "nbformat": 4,
 "nbformat_minor": 5
}
