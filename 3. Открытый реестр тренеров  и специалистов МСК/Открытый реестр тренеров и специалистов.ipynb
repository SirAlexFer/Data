{
 "cells": [
  {
   "cell_type": "markdown",
   "id": "4777099c-7269-4ee5-9602-938f84e062a1",
   "metadata": {},
   "source": [
    "Данный датасет скачан с сайта https://data.mos.ru/opendata/ из открытого источника"
   ]
  },
  {
   "cell_type": "markdown",
   "id": "354ec97c-89e0-43ae-894c-623d926deb5a",
   "metadata": {
    "tags": []
   },
   "source": [
    "**Во вложении оставим датасет со скачанным JSON объектом. Сами же мы будет импортировать данные по API**"
   ]
  },
  {
   "cell_type": "markdown",
   "id": "212b47e8-d8f8-4eee-8169-6ba3e90b72f9",
   "metadata": {},
   "source": [
    "## Загружаем все необходимые библиотеки "
   ]
  },
  {
   "cell_type": "code",
   "execution_count": 1,
   "id": "aaf703dd-0e7c-44f5-b3a1-e797683ec754",
   "metadata": {},
   "outputs": [],
   "source": [
    "import requests\n",
    "import json\n",
    "import pandas as pd\n",
    "import numpy as np\n",
    "\n",
    "import matplotlib.pyplot as plt\n",
    "import seaborn as sns\n",
    "\n",
    "plt.style.use('seaborn')\n",
    "\n",
    "%matplotlib inline"
   ]
  },
  {
   "cell_type": "code",
   "execution_count": 2,
   "id": "c2a11fc1-e3a4-45f9-a536-6daa72f0c421",
   "metadata": {},
   "outputs": [
    {
     "data": {
      "text/plain": [
       "dict_keys(['bmh', 'classic', 'dark_background', 'fast', 'fivethirtyeight', 'ggplot', 'grayscale', 'seaborn-bright', 'seaborn-colorblind', 'seaborn-dark-palette', 'seaborn-dark', 'seaborn-darkgrid', 'seaborn-deep', 'seaborn-muted', 'seaborn-notebook', 'seaborn-paper', 'seaborn-pastel', 'seaborn-poster', 'seaborn-talk', 'seaborn-ticks', 'seaborn-white', 'seaborn-whitegrid', 'seaborn', 'Solarize_Light2', 'tableau-colorblind10', '_classic_test_patch'])"
      ]
     },
     "execution_count": 2,
     "metadata": {},
     "output_type": "execute_result"
    }
   ],
   "source": [
    "plt.style.library.keys()"
   ]
  },
  {
   "cell_type": "markdown",
   "id": "c4534eec-3da5-4cfb-a665-d9d130eae62e",
   "metadata": {},
   "source": [
    "## Выгрузка данных "
   ]
  },
  {
   "cell_type": "markdown",
   "id": "aba613e4-60aa-4d6d-ac95-e97c50f65bd9",
   "metadata": {},
   "source": [
    "https://apidata.mos.ru/Docs"
   ]
  },
  {
   "cell_type": "markdown",
   "id": "f356b601-f481-4c19-b743-37d3796ded82",
   "metadata": {},
   "source": [
    "Мы зарегистрировались на портале, чтобы получить  API  ключ"
   ]
  },
  {
   "cell_type": "code",
   "execution_count": 3,
   "id": "a69afc30-1d44-4cbf-9ed4-ea4799fead84",
   "metadata": {},
   "outputs": [],
   "source": [
    "datasetId= 61321\n",
    "api_key = '57331609a2e872cf572e5ed03f1a02ce'\n",
    "\n",
    "url = f'https://apidata.mos.ru/v1/datasets/{datasetId}/features'\n",
    "url_structure = f'https://apidata.mos.ru/v1/datasets/{datasetId}'\n",
    "\n",
    "params = {\n",
    "    'api_key':api_key\n",
    "}\n",
    "\n"
   ]
  },
  {
   "cell_type": "markdown",
   "id": "311bd641-3c08-4d6b-8e44-7acfc6de1f44",
   "metadata": {},
   "source": [
    "##### Выгрузка структуры данных"
   ]
  },
  {
   "cell_type": "code",
   "execution_count": 4,
   "id": "1e22bddc-ce0b-42d4-b9fa-f051db73b157",
   "metadata": {},
   "outputs": [],
   "source": [
    "response = requests.get(url_structure,params)\n",
    "structure_json = response.json()"
   ]
  },
  {
   "cell_type": "code",
   "execution_count": 5,
   "id": "a1c95063-86a0-47dc-a0e6-8c27872ed684",
   "metadata": {},
   "outputs": [
    {
     "name": "stdout",
     "output_type": "stream",
     "text": [
      "Название датасета: Открытый реестр тренеров и специалистов (в том числе педагогов дополнительного образования по дополнительным общеразвивающим программам) в области физической культуры и спорта города Москвы\n",
      "Версия датасета: 1.33\n",
      "Дата выгрузки датасета датасета: 08.11.2021\n"
     ]
    }
   ],
   "source": [
    "print('Название датасета:',structure_json['Caption'])\n",
    "print('Версия датасета:',structure_json['VersionNumber'])\n",
    "print('Дата выгрузки датасета датасета:',structure_json['VersionDate'])"
   ]
  },
  {
   "cell_type": "code",
   "execution_count": 6,
   "id": "9a867a08-6941-4a83-bc6f-78fc7e40b9ac",
   "metadata": {},
   "outputs": [
    {
     "data": {
      "text/html": [
       "<div>\n",
       "<style scoped>\n",
       "    .dataframe tbody tr th:only-of-type {\n",
       "        vertical-align: middle;\n",
       "    }\n",
       "\n",
       "    .dataframe tbody tr th {\n",
       "        vertical-align: top;\n",
       "    }\n",
       "\n",
       "    .dataframe thead th {\n",
       "        text-align: right;\n",
       "    }\n",
       "</style>\n",
       "<table border=\"1\" class=\"dataframe\">\n",
       "  <thead>\n",
       "    <tr style=\"text-align: right;\">\n",
       "      <th></th>\n",
       "      <th>Name</th>\n",
       "      <th>Caption</th>\n",
       "      <th>Visible</th>\n",
       "      <th>Type</th>\n",
       "      <th>SubColumns</th>\n",
       "    </tr>\n",
       "  </thead>\n",
       "  <tbody>\n",
       "    <tr>\n",
       "      <th>0</th>\n",
       "      <td>LastName</td>\n",
       "      <td>Фамилия</td>\n",
       "      <td>True</td>\n",
       "      <td>STRING</td>\n",
       "      <td>None</td>\n",
       "    </tr>\n",
       "    <tr>\n",
       "      <th>1</th>\n",
       "      <td>Name</td>\n",
       "      <td>Имя</td>\n",
       "      <td>True</td>\n",
       "      <td>STRING</td>\n",
       "      <td>None</td>\n",
       "    </tr>\n",
       "    <tr>\n",
       "      <th>2</th>\n",
       "      <td>MiddleName</td>\n",
       "      <td>Отчество</td>\n",
       "      <td>True</td>\n",
       "      <td>STRING</td>\n",
       "      <td>None</td>\n",
       "    </tr>\n",
       "    <tr>\n",
       "      <th>3</th>\n",
       "      <td>Gender</td>\n",
       "      <td>Пол</td>\n",
       "      <td>True</td>\n",
       "      <td>DICTIONARY</td>\n",
       "      <td>None</td>\n",
       "    </tr>\n",
       "    <tr>\n",
       "      <th>4</th>\n",
       "      <td>DateOfBirth</td>\n",
       "      <td>Дата рождения</td>\n",
       "      <td>True</td>\n",
       "      <td>DATE</td>\n",
       "      <td>None</td>\n",
       "    </tr>\n",
       "    <tr>\n",
       "      <th>5</th>\n",
       "      <td>Photo</td>\n",
       "      <td>Фотография</td>\n",
       "      <td>False</td>\n",
       "      <td>FILE</td>\n",
       "      <td>None</td>\n",
       "    </tr>\n",
       "    <tr>\n",
       "      <th>6</th>\n",
       "      <td>Citizenship</td>\n",
       "      <td>Гражданство</td>\n",
       "      <td>False</td>\n",
       "      <td>CATALOG</td>\n",
       "      <td>[{'Name': 'Citizenship', 'Caption': 'Гражданст...</td>\n",
       "    </tr>\n",
       "    <tr>\n",
       "      <th>7</th>\n",
       "      <td>PublicPhone</td>\n",
       "      <td>Контактный телефон</td>\n",
       "      <td>False</td>\n",
       "      <td>CATALOG</td>\n",
       "      <td>[{'Name': 'PublicPhone', 'Caption': 'Контактны...</td>\n",
       "    </tr>\n",
       "    <tr>\n",
       "      <th>8</th>\n",
       "      <td>Email</td>\n",
       "      <td>Адрес электронной почты</td>\n",
       "      <td>False</td>\n",
       "      <td>CATALOG</td>\n",
       "      <td>[{'Name': 'Email', 'Caption': 'Адрес электронн...</td>\n",
       "    </tr>\n",
       "    <tr>\n",
       "      <th>9</th>\n",
       "      <td>AcademicDegree</td>\n",
       "      <td>Ученая степень,звание</td>\n",
       "      <td>False</td>\n",
       "      <td>CATALOG</td>\n",
       "      <td>[{'Name': 'AcademicDegreeName', 'Caption': 'На...</td>\n",
       "    </tr>\n",
       "  </tbody>\n",
       "</table>\n",
       "</div>"
      ],
      "text/plain": [
       "             Name                  Caption  Visible        Type  \\\n",
       "0        LastName                  Фамилия     True      STRING   \n",
       "1            Name                      Имя     True      STRING   \n",
       "2      MiddleName                 Отчество     True      STRING   \n",
       "3          Gender                      Пол     True  DICTIONARY   \n",
       "4     DateOfBirth            Дата рождения     True        DATE   \n",
       "5           Photo               Фотография    False        FILE   \n",
       "6     Citizenship              Гражданство    False     CATALOG   \n",
       "7     PublicPhone       Контактный телефон    False     CATALOG   \n",
       "8           Email  Адрес электронной почты    False     CATALOG   \n",
       "9  AcademicDegree    Ученая степень,звание    False     CATALOG   \n",
       "\n",
       "                                          SubColumns  \n",
       "0                                               None  \n",
       "1                                               None  \n",
       "2                                               None  \n",
       "3                                               None  \n",
       "4                                               None  \n",
       "5                                               None  \n",
       "6  [{'Name': 'Citizenship', 'Caption': 'Гражданст...  \n",
       "7  [{'Name': 'PublicPhone', 'Caption': 'Контактны...  \n",
       "8  [{'Name': 'Email', 'Caption': 'Адрес электронн...  \n",
       "9  [{'Name': 'AcademicDegreeName', 'Caption': 'На...  "
      ]
     },
     "execution_count": 6,
     "metadata": {},
     "output_type": "execute_result"
    }
   ],
   "source": [
    "df_structure = pd.DataFrame(structure_json['Columns'])\n",
    "df_structure.head(10)"
   ]
  },
  {
   "cell_type": "code",
   "execution_count": 7,
   "id": "ef2c182e-350c-4d16-8d98-f00b89ef0739",
   "metadata": {},
   "outputs": [
    {
     "data": {
      "text/plain": [
       "array(['STRING', 'DICTIONARY', 'DATE', 'FILE', 'CATALOG', 'INTEGER',\n",
       "       'NUMBER'], dtype=object)"
      ]
     },
     "execution_count": 7,
     "metadata": {},
     "output_type": "execute_result"
    }
   ],
   "source": [
    "df_structure['Type'].unique()"
   ]
  },
  {
   "cell_type": "markdown",
   "id": "54b07a98-55a7-4fbc-86e3-b355e31955b6",
   "metadata": {},
   "source": [
    "*Как можно заметить типы столбцов различны, но в данном случае нас интересуют три столбца ('DICTIONARY', 'FILE', 'CATALOG')*"
   ]
  },
  {
   "cell_type": "code",
   "execution_count": 8,
   "id": "f4bc46cf-f9e8-4118-bed6-fbad6c516c57",
   "metadata": {},
   "outputs": [
    {
     "data": {
      "text/html": [
       "<div>\n",
       "<style scoped>\n",
       "    .dataframe tbody tr th:only-of-type {\n",
       "        vertical-align: middle;\n",
       "    }\n",
       "\n",
       "    .dataframe tbody tr th {\n",
       "        vertical-align: top;\n",
       "    }\n",
       "\n",
       "    .dataframe thead th {\n",
       "        text-align: right;\n",
       "    }\n",
       "</style>\n",
       "<table border=\"1\" class=\"dataframe\">\n",
       "  <thead>\n",
       "    <tr style=\"text-align: right;\">\n",
       "      <th></th>\n",
       "      <th>Name</th>\n",
       "      <th>Caption</th>\n",
       "      <th>Visible</th>\n",
       "      <th>Type</th>\n",
       "      <th>SubColumns</th>\n",
       "    </tr>\n",
       "  </thead>\n",
       "  <tbody>\n",
       "    <tr>\n",
       "      <th>3</th>\n",
       "      <td>Gender</td>\n",
       "      <td>Пол</td>\n",
       "      <td>True</td>\n",
       "      <td>DICTIONARY</td>\n",
       "      <td>None</td>\n",
       "    </tr>\n",
       "    <tr>\n",
       "      <th>5</th>\n",
       "      <td>Photo</td>\n",
       "      <td>Фотография</td>\n",
       "      <td>False</td>\n",
       "      <td>FILE</td>\n",
       "      <td>None</td>\n",
       "    </tr>\n",
       "    <tr>\n",
       "      <th>6</th>\n",
       "      <td>Citizenship</td>\n",
       "      <td>Гражданство</td>\n",
       "      <td>False</td>\n",
       "      <td>CATALOG</td>\n",
       "      <td>[{'Name': 'Citizenship', 'Caption': 'Гражданст...</td>\n",
       "    </tr>\n",
       "    <tr>\n",
       "      <th>7</th>\n",
       "      <td>PublicPhone</td>\n",
       "      <td>Контактный телефон</td>\n",
       "      <td>False</td>\n",
       "      <td>CATALOG</td>\n",
       "      <td>[{'Name': 'PublicPhone', 'Caption': 'Контактны...</td>\n",
       "    </tr>\n",
       "    <tr>\n",
       "      <th>8</th>\n",
       "      <td>Email</td>\n",
       "      <td>Адрес электронной почты</td>\n",
       "      <td>False</td>\n",
       "      <td>CATALOG</td>\n",
       "      <td>[{'Name': 'Email', 'Caption': 'Адрес электронн...</td>\n",
       "    </tr>\n",
       "    <tr>\n",
       "      <th>9</th>\n",
       "      <td>AcademicDegree</td>\n",
       "      <td>Ученая степень,звание</td>\n",
       "      <td>False</td>\n",
       "      <td>CATALOG</td>\n",
       "      <td>[{'Name': 'AcademicDegreeName', 'Caption': 'На...</td>\n",
       "    </tr>\n",
       "    <tr>\n",
       "      <th>11</th>\n",
       "      <td>Sport</td>\n",
       "      <td>Вид спорта тренера</td>\n",
       "      <td>False</td>\n",
       "      <td>CATALOG</td>\n",
       "      <td>[{'Name': 'SportName', 'Caption': 'Наименовани...</td>\n",
       "    </tr>\n",
       "    <tr>\n",
       "      <th>12</th>\n",
       "      <td>Education</td>\n",
       "      <td>Профильное образование повиду спорта</td>\n",
       "      <td>False</td>\n",
       "      <td>CATALOG</td>\n",
       "      <td>[{'Name': 'EducationLevel', 'Caption': 'Уровен...</td>\n",
       "    </tr>\n",
       "    <tr>\n",
       "      <th>13</th>\n",
       "      <td>AdditionalEducation</td>\n",
       "      <td>Дополнительное образование по виду спорта</td>\n",
       "      <td>False</td>\n",
       "      <td>CATALOG</td>\n",
       "      <td>[{'Name': 'AdditionalEducationLevel', 'Caption...</td>\n",
       "    </tr>\n",
       "    <tr>\n",
       "      <th>14</th>\n",
       "      <td>Attestation</td>\n",
       "      <td>Аттестация по виду спорта</td>\n",
       "      <td>False</td>\n",
       "      <td>CATALOG</td>\n",
       "      <td>[{'Name': 'AvailabilityOfCertification', 'Capt...</td>\n",
       "    </tr>\n",
       "    <tr>\n",
       "      <th>15</th>\n",
       "      <td>JobOrganisation</td>\n",
       "      <td>Организация (место работы)</td>\n",
       "      <td>False</td>\n",
       "      <td>CATALOG</td>\n",
       "      <td>[{'Name': 'JobOrganizationName', 'Caption': 'Н...</td>\n",
       "    </tr>\n",
       "    <tr>\n",
       "      <th>16</th>\n",
       "      <td>CoachCategory</td>\n",
       "      <td>Тренерская категория</td>\n",
       "      <td>False</td>\n",
       "      <td>CATALOG</td>\n",
       "      <td>[{'Name': 'CoachCategoryName', 'Caption': 'Наи...</td>\n",
       "    </tr>\n",
       "    <tr>\n",
       "      <th>17</th>\n",
       "      <td>SportSpecialization</td>\n",
       "      <td>Развиваемая тренером часть спорта</td>\n",
       "      <td>True</td>\n",
       "      <td>DICTIONARY</td>\n",
       "      <td>None</td>\n",
       "    </tr>\n",
       "    <tr>\n",
       "      <th>18</th>\n",
       "      <td>SportActivityGender</td>\n",
       "      <td>Пол, с которым работает тренер</td>\n",
       "      <td>True</td>\n",
       "      <td>DICTIONARY</td>\n",
       "      <td>None</td>\n",
       "    </tr>\n",
       "    <tr>\n",
       "      <th>21</th>\n",
       "      <td>Services</td>\n",
       "      <td>Услуги,предоставляемые тренером</td>\n",
       "      <td>False</td>\n",
       "      <td>CATALOG</td>\n",
       "      <td>[{'Name': 'ServiceName', 'Caption': 'Название ...</td>\n",
       "    </tr>\n",
       "    <tr>\n",
       "      <th>23</th>\n",
       "      <td>Rank</td>\n",
       "      <td>Спортивные разряды, звания тренера</td>\n",
       "      <td>False</td>\n",
       "      <td>CATALOG</td>\n",
       "      <td>[{'Name': 'RankName', 'Caption': 'Спортивный р...</td>\n",
       "    </tr>\n",
       "    <tr>\n",
       "      <th>25</th>\n",
       "      <td>FederationMembership</td>\n",
       "      <td>Членство в спортивных федерациях и обществах п...</td>\n",
       "      <td>False</td>\n",
       "      <td>CATALOG</td>\n",
       "      <td>[{'Name': 'FederationMembershipOrganisation', ...</td>\n",
       "    </tr>\n",
       "  </tbody>\n",
       "</table>\n",
       "</div>"
      ],
      "text/plain": [
       "                    Name                                            Caption  \\\n",
       "3                 Gender                                                Пол   \n",
       "5                  Photo                                         Фотография   \n",
       "6            Citizenship                                        Гражданство   \n",
       "7            PublicPhone                                 Контактный телефон   \n",
       "8                  Email                            Адрес электронной почты   \n",
       "9         AcademicDegree                              Ученая степень,звание   \n",
       "11                 Sport                                 Вид спорта тренера   \n",
       "12             Education               Профильное образование повиду спорта   \n",
       "13   AdditionalEducation          Дополнительное образование по виду спорта   \n",
       "14           Attestation                          Аттестация по виду спорта   \n",
       "15       JobOrganisation                         Организация (место работы)   \n",
       "16         CoachCategory                               Тренерская категория   \n",
       "17   SportSpecialization                  Развиваемая тренером часть спорта   \n",
       "18   SportActivityGender                     Пол, с которым работает тренер   \n",
       "21              Services                    Услуги,предоставляемые тренером   \n",
       "23                  Rank                 Спортивные разряды, звания тренера   \n",
       "25  FederationMembership  Членство в спортивных федерациях и обществах п...   \n",
       "\n",
       "    Visible        Type                                         SubColumns  \n",
       "3      True  DICTIONARY                                               None  \n",
       "5     False        FILE                                               None  \n",
       "6     False     CATALOG  [{'Name': 'Citizenship', 'Caption': 'Гражданст...  \n",
       "7     False     CATALOG  [{'Name': 'PublicPhone', 'Caption': 'Контактны...  \n",
       "8     False     CATALOG  [{'Name': 'Email', 'Caption': 'Адрес электронн...  \n",
       "9     False     CATALOG  [{'Name': 'AcademicDegreeName', 'Caption': 'На...  \n",
       "11    False     CATALOG  [{'Name': 'SportName', 'Caption': 'Наименовани...  \n",
       "12    False     CATALOG  [{'Name': 'EducationLevel', 'Caption': 'Уровен...  \n",
       "13    False     CATALOG  [{'Name': 'AdditionalEducationLevel', 'Caption...  \n",
       "14    False     CATALOG  [{'Name': 'AvailabilityOfCertification', 'Capt...  \n",
       "15    False     CATALOG  [{'Name': 'JobOrganizationName', 'Caption': 'Н...  \n",
       "16    False     CATALOG  [{'Name': 'CoachCategoryName', 'Caption': 'Наи...  \n",
       "17     True  DICTIONARY                                               None  \n",
       "18     True  DICTIONARY                                               None  \n",
       "21    False     CATALOG  [{'Name': 'ServiceName', 'Caption': 'Название ...  \n",
       "23    False     CATALOG  [{'Name': 'RankName', 'Caption': 'Спортивный р...  \n",
       "25    False     CATALOG  [{'Name': 'FederationMembershipOrganisation', ...  "
      ]
     },
     "execution_count": 8,
     "metadata": {},
     "output_type": "execute_result"
    }
   ],
   "source": [
    "df_structure[df_structure['Type'].isin(['DICTIONARY', 'FILE', 'CATALOG'])]"
   ]
  },
  {
   "cell_type": "markdown",
   "id": "b2bdd242-eac9-471d-9c5b-f4d601ff00f4",
   "metadata": {},
   "source": [
    "*Выделим из данного датасета субколонки в отдельные строки*"
   ]
  },
  {
   "cell_type": "code",
   "execution_count": 9,
   "id": "cd7d700d-cddc-4ef6-b899-e1c89cf410f3",
   "metadata": {},
   "outputs": [],
   "source": [
    "df_subcolumns = df_structure[df_structure['Type']=='CATALOG'].reset_index(drop=True)"
   ]
  },
  {
   "cell_type": "code",
   "execution_count": 10,
   "id": "d18b6142-48fc-4542-9307-48a13d4e7aaa",
   "metadata": {},
   "outputs": [],
   "source": [
    "for i in range(df_subcolumns.shape[0]):\n",
    "    df_structure = df_structure.append(df_subcolumns['SubColumns'].iloc[i])"
   ]
  },
  {
   "cell_type": "code",
   "execution_count": 11,
   "id": "cf189f12-1083-4200-a1bb-b13d002aa5a3",
   "metadata": {},
   "outputs": [
    {
     "data": {
      "text/html": [
       "<div>\n",
       "<style scoped>\n",
       "    .dataframe tbody tr th:only-of-type {\n",
       "        vertical-align: middle;\n",
       "    }\n",
       "\n",
       "    .dataframe tbody tr th {\n",
       "        vertical-align: top;\n",
       "    }\n",
       "\n",
       "    .dataframe thead th {\n",
       "        text-align: right;\n",
       "    }\n",
       "</style>\n",
       "<table border=\"1\" class=\"dataframe\">\n",
       "  <thead>\n",
       "    <tr style=\"text-align: right;\">\n",
       "      <th></th>\n",
       "      <th>Name</th>\n",
       "      <th>Caption</th>\n",
       "      <th>Visible</th>\n",
       "      <th>Type</th>\n",
       "      <th>SubColumns</th>\n",
       "    </tr>\n",
       "  </thead>\n",
       "  <tbody>\n",
       "    <tr>\n",
       "      <th>0</th>\n",
       "      <td>LastName</td>\n",
       "      <td>Фамилия</td>\n",
       "      <td>True</td>\n",
       "      <td>STRING</td>\n",
       "      <td>None</td>\n",
       "    </tr>\n",
       "    <tr>\n",
       "      <th>1</th>\n",
       "      <td>Name</td>\n",
       "      <td>Имя</td>\n",
       "      <td>True</td>\n",
       "      <td>STRING</td>\n",
       "      <td>None</td>\n",
       "    </tr>\n",
       "    <tr>\n",
       "      <th>2</th>\n",
       "      <td>MiddleName</td>\n",
       "      <td>Отчество</td>\n",
       "      <td>True</td>\n",
       "      <td>STRING</td>\n",
       "      <td>None</td>\n",
       "    </tr>\n",
       "    <tr>\n",
       "      <th>3</th>\n",
       "      <td>Gender</td>\n",
       "      <td>Пол</td>\n",
       "      <td>True</td>\n",
       "      <td>DICTIONARY</td>\n",
       "      <td>None</td>\n",
       "    </tr>\n",
       "    <tr>\n",
       "      <th>4</th>\n",
       "      <td>DateOfBirth</td>\n",
       "      <td>Дата рождения</td>\n",
       "      <td>True</td>\n",
       "      <td>DATE</td>\n",
       "      <td>None</td>\n",
       "    </tr>\n",
       "  </tbody>\n",
       "</table>\n",
       "</div>"
      ],
      "text/plain": [
       "          Name        Caption  Visible        Type SubColumns\n",
       "0     LastName        Фамилия     True      STRING       None\n",
       "1         Name            Имя     True      STRING       None\n",
       "2   MiddleName       Отчество     True      STRING       None\n",
       "3       Gender            Пол     True  DICTIONARY       None\n",
       "4  DateOfBirth  Дата рождения     True        DATE       None"
      ]
     },
     "execution_count": 11,
     "metadata": {},
     "output_type": "execute_result"
    }
   ],
   "source": [
    "df_structure = df_structure[df_structure['Type']!='CATALOG']\n",
    "df_structure.reset_index(drop=True,inplace=True)\n",
    "df_structure.head()"
   ]
  },
  {
   "cell_type": "code",
   "execution_count": 12,
   "id": "ff3842fc-a3a3-4652-b321-c36067d807f5",
   "metadata": {},
   "outputs": [
    {
     "data": {
      "text/plain": [
       "53"
      ]
     },
     "execution_count": 12,
     "metadata": {},
     "output_type": "execute_result"
    }
   ],
   "source": [
    "df_structure['Caption'].nunique()"
   ]
  },
  {
   "cell_type": "markdown",
   "id": "15941b9a-3268-49d6-8074-594534f7de84",
   "metadata": {},
   "source": [
    "##### Выгрузка основных данных для анализа"
   ]
  },
  {
   "cell_type": "code",
   "execution_count": 13,
   "id": "6a13a31b-bc69-49c3-8905-0ca9d9081fdf",
   "metadata": {},
   "outputs": [],
   "source": [
    "response = requests.get('https://apidata.mos.ru/v1/datasets/61321/rows',params)\n",
    "data_json = response.json()"
   ]
  },
  {
   "cell_type": "code",
   "execution_count": 14,
   "id": "f1f690b2-7ba6-4c34-92bb-619deef25509",
   "metadata": {},
   "outputs": [],
   "source": [
    "def modern_dict(json_cells_data):\n",
    "    mod_dict = json_cells_data.copy()\n",
    "    for key, value in json_cells_data.items():\n",
    "        if isinstance(value,list) and value:\n",
    "            mod_dict.pop(key)\n",
    "            mod_dict = {**mod_dict, **value[0]}\n",
    "    return mod_dict"
   ]
  },
  {
   "cell_type": "code",
   "execution_count": 15,
   "id": "b831ea6d-b0f0-447b-b6bc-9cc9cad67d89",
   "metadata": {},
   "outputs": [],
   "source": [
    "for i in range(len(data_json)):\n",
    "    data_json[i]=modern_dict(data_json[i]['Cells'])"
   ]
  },
  {
   "cell_type": "code",
   "execution_count": 16,
   "id": "3dddb17b-5a29-4fd9-b87f-d5b63f234e71",
   "metadata": {},
   "outputs": [
    {
     "data": {
      "text/plain": [
       "39"
      ]
     },
     "execution_count": 16,
     "metadata": {},
     "output_type": "execute_result"
    }
   ],
   "source": [
    "columns_all = df_structure['Name'].unique()\n",
    "len(data_json[30])"
   ]
  },
  {
   "cell_type": "code",
   "execution_count": 17,
   "id": "8df7e065-7b7e-4005-a85f-7f6b247b19d3",
   "metadata": {},
   "outputs": [],
   "source": [
    "df_data = pd.DataFrame(columns = columns_all)"
   ]
  },
  {
   "cell_type": "code",
   "execution_count": 18,
   "id": "6edc2d92",
   "metadata": {},
   "outputs": [
    {
     "data": {
      "text/html": [
       "<div>\n",
       "<style scoped>\n",
       "    .dataframe tbody tr th:only-of-type {\n",
       "        vertical-align: middle;\n",
       "    }\n",
       "\n",
       "    .dataframe tbody tr th {\n",
       "        vertical-align: top;\n",
       "    }\n",
       "\n",
       "    .dataframe thead th {\n",
       "        text-align: right;\n",
       "    }\n",
       "</style>\n",
       "<table border=\"1\" class=\"dataframe\">\n",
       "  <thead>\n",
       "    <tr style=\"text-align: right;\">\n",
       "      <th></th>\n",
       "      <th>LastName</th>\n",
       "      <th>Name</th>\n",
       "      <th>MiddleName</th>\n",
       "      <th>Gender</th>\n",
       "      <th>DateOfBirth</th>\n",
       "      <th>Photo</th>\n",
       "      <th>OtherAchievements</th>\n",
       "      <th>SportSpecialization</th>\n",
       "      <th>SportActivityGender</th>\n",
       "      <th>SportActivityMinAge</th>\n",
       "      <th>...</th>\n",
       "      <th>CoachCategoryStartDate</th>\n",
       "      <th>CoachCategoryEndDate</th>\n",
       "      <th>ServiceName</th>\n",
       "      <th>ServiceObject</th>\n",
       "      <th>ServiceText</th>\n",
       "      <th>RankName</th>\n",
       "      <th>RankBeginDate</th>\n",
       "      <th>RankEndDate</th>\n",
       "      <th>FederationMembershipOrganisation</th>\n",
       "      <th>FederationMembershipDate</th>\n",
       "    </tr>\n",
       "  </thead>\n",
       "  <tbody>\n",
       "  </tbody>\n",
       "</table>\n",
       "<p>0 rows × 53 columns</p>\n",
       "</div>"
      ],
      "text/plain": [
       "Empty DataFrame\n",
       "Columns: [LastName, Name, MiddleName, Gender, DateOfBirth, Photo, OtherAchievements, SportSpecialization, SportActivityGender, SportActivityMinAge, SportActivityMaxAge, PersonalAchievement, PupilAchievements, CoachRankPosition, CoachRankTotal, CoachRankAverageScore, CoachComments, CoachCommentScore, global_id, Citizenship, PublicPhone, Email, AcademicDegreeName, AcademicDegreeDate, SportName, SeniorityPeriod, EducationLevel, EducationOrganization, EducationFaculty, EducationQualification, EducationEndDate, AdditionalEducationLevel, AdditionalEducationOrganization, AdditionalEducationFaculty, AdditionalEducationQualification, AdditionalEducationEndDate, AvailabilityOfCertification, AttestationBeginDate, AttestationEndDate, JobOrganizationName, JobOrganizationStartDate, SportDiscipline, CoachCategoryName, CoachCategoryStartDate, CoachCategoryEndDate, ServiceName, ServiceObject, ServiceText, RankName, RankBeginDate, RankEndDate, FederationMembershipOrganisation, FederationMembershipDate]\n",
       "Index: []\n",
       "\n",
       "[0 rows x 53 columns]"
      ]
     },
     "execution_count": 18,
     "metadata": {},
     "output_type": "execute_result"
    }
   ],
   "source": [
    "df_data"
   ]
  },
  {
   "cell_type": "code",
   "execution_count": 19,
   "id": "ec075dbd",
   "metadata": {
    "tags": []
   },
   "outputs": [],
   "source": [
    "for i in range(len(data_json)):\n",
    "    df_data.loc[i]=['']*len(columns_all)\n",
    "    for key,value in data_json[i].items():\n",
    "        if key not in columns_all:\n",
    "            #print(key,value)\n",
    "            continue\n",
    "        df_data.loc[i,key]=value"
   ]
  },
  {
   "cell_type": "markdown",
   "id": "5b802beb-1596-43fb-8219-8c3883d622ae",
   "metadata": {},
   "source": [
    "Мы обнаружили при помощи print, что ключи, которые мы удаляли присутствуют в Json данных. Связано это с тем, что мы не удаляли\n",
    "ключ, если его значение равно пустому словарю. Так что при загрузке в датасет мы исключим \"общие колонки\""
   ]
  },
  {
   "cell_type": "markdown",
   "id": "9744b70d-2e0c-4249-932f-822619720eec",
   "metadata": {},
   "source": [
    "## Общий анализ датасета"
   ]
  },
  {
   "cell_type": "code",
   "execution_count": 20,
   "id": "3cf00cb2-b313-48c4-bd93-4a02813b02b5",
   "metadata": {},
   "outputs": [
    {
     "data": {
      "text/html": [
       "<div>\n",
       "<style scoped>\n",
       "    .dataframe tbody tr th:only-of-type {\n",
       "        vertical-align: middle;\n",
       "    }\n",
       "\n",
       "    .dataframe tbody tr th {\n",
       "        vertical-align: top;\n",
       "    }\n",
       "\n",
       "    .dataframe thead th {\n",
       "        text-align: right;\n",
       "    }\n",
       "</style>\n",
       "<table border=\"1\" class=\"dataframe\">\n",
       "  <thead>\n",
       "    <tr style=\"text-align: right;\">\n",
       "      <th></th>\n",
       "      <th>LastName</th>\n",
       "      <th>Name</th>\n",
       "      <th>MiddleName</th>\n",
       "      <th>Gender</th>\n",
       "      <th>DateOfBirth</th>\n",
       "      <th>Photo</th>\n",
       "      <th>OtherAchievements</th>\n",
       "      <th>SportSpecialization</th>\n",
       "      <th>SportActivityGender</th>\n",
       "      <th>SportActivityMinAge</th>\n",
       "      <th>...</th>\n",
       "      <th>CoachCategoryStartDate</th>\n",
       "      <th>CoachCategoryEndDate</th>\n",
       "      <th>ServiceName</th>\n",
       "      <th>ServiceObject</th>\n",
       "      <th>ServiceText</th>\n",
       "      <th>RankName</th>\n",
       "      <th>RankBeginDate</th>\n",
       "      <th>RankEndDate</th>\n",
       "      <th>FederationMembershipOrganisation</th>\n",
       "      <th>FederationMembershipDate</th>\n",
       "    </tr>\n",
       "  </thead>\n",
       "  <tbody>\n",
       "    <tr>\n",
       "      <th>0</th>\n",
       "      <td>Абызова</td>\n",
       "      <td>Надежда</td>\n",
       "      <td>Викторовна</td>\n",
       "      <td>женский</td>\n",
       "      <td>19.01.1973</td>\n",
       "      <td>None</td>\n",
       "      <td>NaN</td>\n",
       "      <td>Большой спорт</td>\n",
       "      <td>Любой</td>\n",
       "      <td>6</td>\n",
       "      <td>...</td>\n",
       "      <td>06.05.2014</td>\n",
       "      <td>NaN</td>\n",
       "      <td>NaN</td>\n",
       "      <td>NaN</td>\n",
       "      <td>NaN</td>\n",
       "      <td>NaN</td>\n",
       "      <td>NaN</td>\n",
       "      <td>NaN</td>\n",
       "      <td>NaN</td>\n",
       "      <td>NaN</td>\n",
       "    </tr>\n",
       "    <tr>\n",
       "      <th>1</th>\n",
       "      <td>Алешина</td>\n",
       "      <td>Лариса</td>\n",
       "      <td>Владимировна</td>\n",
       "      <td>женский</td>\n",
       "      <td>01.02.1960</td>\n",
       "      <td>None</td>\n",
       "      <td>NaN</td>\n",
       "      <td>Большой спорт</td>\n",
       "      <td>Любой</td>\n",
       "      <td>6</td>\n",
       "      <td>...</td>\n",
       "      <td>01.04.2016</td>\n",
       "      <td>NaN</td>\n",
       "      <td>NaN</td>\n",
       "      <td>NaN</td>\n",
       "      <td>NaN</td>\n",
       "      <td>NaN</td>\n",
       "      <td>NaN</td>\n",
       "      <td>NaN</td>\n",
       "      <td>NaN</td>\n",
       "      <td>NaN</td>\n",
       "    </tr>\n",
       "    <tr>\n",
       "      <th>2</th>\n",
       "      <td>Андрюхин</td>\n",
       "      <td>Алексей</td>\n",
       "      <td>Михайлович</td>\n",
       "      <td>мужской</td>\n",
       "      <td>21.11.1973</td>\n",
       "      <td>None</td>\n",
       "      <td>NaN</td>\n",
       "      <td>Спортивный резерв</td>\n",
       "      <td>Любой</td>\n",
       "      <td>6</td>\n",
       "      <td>...</td>\n",
       "      <td>01.12.2010</td>\n",
       "      <td>NaN</td>\n",
       "      <td>NaN</td>\n",
       "      <td>NaN</td>\n",
       "      <td>NaN</td>\n",
       "      <td>NaN</td>\n",
       "      <td>NaN</td>\n",
       "      <td>NaN</td>\n",
       "      <td>NaN</td>\n",
       "      <td>NaN</td>\n",
       "    </tr>\n",
       "    <tr>\n",
       "      <th>3</th>\n",
       "      <td>Ануров</td>\n",
       "      <td>Александр</td>\n",
       "      <td>Львович</td>\n",
       "      <td>мужской</td>\n",
       "      <td>10.11.1957</td>\n",
       "      <td>None</td>\n",
       "      <td>NaN</td>\n",
       "      <td>Большой спорт</td>\n",
       "      <td>Любой</td>\n",
       "      <td>6</td>\n",
       "      <td>...</td>\n",
       "      <td>06.05.2009</td>\n",
       "      <td>NaN</td>\n",
       "      <td>NaN</td>\n",
       "      <td>NaN</td>\n",
       "      <td>NaN</td>\n",
       "      <td>NaN</td>\n",
       "      <td>NaN</td>\n",
       "      <td>NaN</td>\n",
       "      <td>NaN</td>\n",
       "      <td>NaN</td>\n",
       "    </tr>\n",
       "    <tr>\n",
       "      <th>4</th>\n",
       "      <td>Анурова</td>\n",
       "      <td>Екатерина</td>\n",
       "      <td>Александровна</td>\n",
       "      <td>женский</td>\n",
       "      <td>21.03.1993</td>\n",
       "      <td>None</td>\n",
       "      <td>NaN</td>\n",
       "      <td>Большой спорт</td>\n",
       "      <td>Любой</td>\n",
       "      <td>6</td>\n",
       "      <td>...</td>\n",
       "      <td>01.04.2016</td>\n",
       "      <td>NaN</td>\n",
       "      <td>NaN</td>\n",
       "      <td>NaN</td>\n",
       "      <td>NaN</td>\n",
       "      <td>NaN</td>\n",
       "      <td>NaN</td>\n",
       "      <td>NaN</td>\n",
       "      <td>NaN</td>\n",
       "      <td>NaN</td>\n",
       "    </tr>\n",
       "  </tbody>\n",
       "</table>\n",
       "<p>5 rows × 53 columns</p>\n",
       "</div>"
      ],
      "text/plain": [
       "   LastName       Name     MiddleName   Gender DateOfBirth Photo  \\\n",
       "0   Абызова    Надежда     Викторовна  женский  19.01.1973  None   \n",
       "1   Алешина     Лариса   Владимировна  женский  01.02.1960  None   \n",
       "2  Андрюхин    Алексей     Михайлович  мужской  21.11.1973  None   \n",
       "3    Ануров  Александр        Львович  мужской  10.11.1957  None   \n",
       "4   Анурова  Екатерина  Александровна  женский  21.03.1993  None   \n",
       "\n",
       "   OtherAchievements SportSpecialization SportActivityGender  \\\n",
       "0                NaN       Большой спорт               Любой   \n",
       "1                NaN       Большой спорт               Любой   \n",
       "2                NaN   Спортивный резерв               Любой   \n",
       "3                NaN       Большой спорт               Любой   \n",
       "4                NaN       Большой спорт               Любой   \n",
       "\n",
       "   SportActivityMinAge  ... CoachCategoryStartDate  CoachCategoryEndDate  \\\n",
       "0                    6  ...             06.05.2014                   NaN   \n",
       "1                    6  ...             01.04.2016                   NaN   \n",
       "2                    6  ...             01.12.2010                   NaN   \n",
       "3                    6  ...             06.05.2009                   NaN   \n",
       "4                    6  ...             01.04.2016                   NaN   \n",
       "\n",
       "   ServiceName ServiceObject ServiceText RankName  RankBeginDate RankEndDate  \\\n",
       "0          NaN           NaN         NaN      NaN            NaN         NaN   \n",
       "1          NaN           NaN         NaN      NaN            NaN         NaN   \n",
       "2          NaN           NaN         NaN      NaN            NaN         NaN   \n",
       "3          NaN           NaN         NaN      NaN            NaN         NaN   \n",
       "4          NaN           NaN         NaN      NaN            NaN         NaN   \n",
       "\n",
       "   FederationMembershipOrganisation FederationMembershipDate  \n",
       "0                               NaN                      NaN  \n",
       "1                               NaN                      NaN  \n",
       "2                               NaN                      NaN  \n",
       "3                               NaN                      NaN  \n",
       "4                               NaN                      NaN  \n",
       "\n",
       "[5 rows x 53 columns]"
      ]
     },
     "execution_count": 20,
     "metadata": {},
     "output_type": "execute_result"
    }
   ],
   "source": [
    "df_data = df_data.replace('',np.nan).replace('None',np.nan)\n",
    "df_data.head()"
   ]
  },
  {
   "cell_type": "code",
   "execution_count": 21,
   "id": "4748628b-dd9a-45e6-91a3-03ec66049109",
   "metadata": {},
   "outputs": [
    {
     "name": "stdout",
     "output_type": "stream",
     "text": [
      "<class 'pandas.core.frame.DataFrame'>\n",
      "Int64Index: 4288 entries, 0 to 4287\n",
      "Data columns (total 53 columns):\n",
      " #   Column                            Non-Null Count  Dtype  \n",
      "---  ------                            --------------  -----  \n",
      " 0   LastName                          4288 non-null   object \n",
      " 1   Name                              4288 non-null   object \n",
      " 2   MiddleName                        4274 non-null   object \n",
      " 3   Gender                            4288 non-null   object \n",
      " 4   DateOfBirth                       4288 non-null   object \n",
      " 5   Photo                             0 non-null      object \n",
      " 6   OtherAchievements                 0 non-null      float64\n",
      " 7   SportSpecialization               4288 non-null   object \n",
      " 8   SportActivityGender               4288 non-null   object \n",
      " 9   SportActivityMinAge               4288 non-null   int64  \n",
      " 10  SportActivityMaxAge               0 non-null      object \n",
      " 11  PersonalAchievement               0 non-null      float64\n",
      " 12  PupilAchievements                 0 non-null      float64\n",
      " 13  CoachRankPosition                 0 non-null      object \n",
      " 14  CoachRankTotal                    0 non-null      object \n",
      " 15  CoachRankAverageScore             0 non-null      object \n",
      " 16  CoachComments                     0 non-null      float64\n",
      " 17  CoachCommentScore                 0 non-null      object \n",
      " 18  global_id                         4288 non-null   int64  \n",
      " 19  Citizenship                       4288 non-null   object \n",
      " 20  PublicPhone                       4261 non-null   object \n",
      " 21  Email                             4182 non-null   object \n",
      " 22  AcademicDegreeName                0 non-null      float64\n",
      " 23  AcademicDegreeDate                0 non-null      float64\n",
      " 24  SportName                         4288 non-null   object \n",
      " 25  SeniorityPeriod                   4288 non-null   int64  \n",
      " 26  EducationLevel                    0 non-null      float64\n",
      " 27  EducationOrganization             0 non-null      float64\n",
      " 28  EducationFaculty                  0 non-null      float64\n",
      " 29  EducationQualification            0 non-null      float64\n",
      " 30  EducationEndDate                  0 non-null      float64\n",
      " 31  AdditionalEducationLevel          0 non-null      float64\n",
      " 32  AdditionalEducationOrganization   0 non-null      float64\n",
      " 33  AdditionalEducationFaculty        0 non-null      float64\n",
      " 34  AdditionalEducationQualification  0 non-null      float64\n",
      " 35  AdditionalEducationEndDate        0 non-null      float64\n",
      " 36  AvailabilityOfCertification       4288 non-null   object \n",
      " 37  AttestationBeginDate              0 non-null      float64\n",
      " 38  AttestationEndDate                0 non-null      float64\n",
      " 39  JobOrganizationName               4288 non-null   object \n",
      " 40  JobOrganizationStartDate          4288 non-null   object \n",
      " 41  SportDiscipline                   0 non-null      float64\n",
      " 42  CoachCategoryName                 4288 non-null   object \n",
      " 43  CoachCategoryStartDate            4288 non-null   object \n",
      " 44  CoachCategoryEndDate              0 non-null      float64\n",
      " 45  ServiceName                       0 non-null      float64\n",
      " 46  ServiceObject                     0 non-null      float64\n",
      " 47  ServiceText                       0 non-null      float64\n",
      " 48  RankName                          0 non-null      float64\n",
      " 49  RankBeginDate                     0 non-null      float64\n",
      " 50  RankEndDate                       0 non-null      float64\n",
      " 51  FederationMembershipOrganisation  0 non-null      float64\n",
      " 52  FederationMembershipDate          0 non-null      float64\n",
      "dtypes: float64(28), int64(3), object(22)\n",
      "memory usage: 1.9+ MB\n"
     ]
    }
   ],
   "source": [
    "df_data.info()"
   ]
  },
  {
   "cell_type": "markdown",
   "id": "9d40aeac-1a62-4ce8-b096-68c7d8372011",
   "metadata": {},
   "source": [
    " Как видно большинство столбцов пустые и видимо данные будут в них подгружаться позднее"
   ]
  },
  {
   "cell_type": "markdown",
   "id": "349219ca-9fb9-4fe6-a8f9-dcd574ab063c",
   "metadata": {},
   "source": [
    "Удалим полностью пустые столбцы"
   ]
  },
  {
   "cell_type": "code",
   "execution_count": 22,
   "id": "d7a00979-095f-4bba-beec-106b35525234",
   "metadata": {},
   "outputs": [
    {
     "data": {
      "text/html": [
       "<div>\n",
       "<style scoped>\n",
       "    .dataframe tbody tr th:only-of-type {\n",
       "        vertical-align: middle;\n",
       "    }\n",
       "\n",
       "    .dataframe tbody tr th {\n",
       "        vertical-align: top;\n",
       "    }\n",
       "\n",
       "    .dataframe thead th {\n",
       "        text-align: right;\n",
       "    }\n",
       "</style>\n",
       "<table border=\"1\" class=\"dataframe\">\n",
       "  <thead>\n",
       "    <tr style=\"text-align: right;\">\n",
       "      <th></th>\n",
       "      <th>LastName</th>\n",
       "      <th>Name</th>\n",
       "      <th>MiddleName</th>\n",
       "      <th>Gender</th>\n",
       "      <th>DateOfBirth</th>\n",
       "      <th>SportSpecialization</th>\n",
       "      <th>SportActivityGender</th>\n",
       "      <th>SportActivityMinAge</th>\n",
       "      <th>global_id</th>\n",
       "      <th>Citizenship</th>\n",
       "      <th>PublicPhone</th>\n",
       "      <th>Email</th>\n",
       "      <th>SportName</th>\n",
       "      <th>SeniorityPeriod</th>\n",
       "      <th>AvailabilityOfCertification</th>\n",
       "      <th>JobOrganizationName</th>\n",
       "      <th>JobOrganizationStartDate</th>\n",
       "      <th>CoachCategoryName</th>\n",
       "      <th>CoachCategoryStartDate</th>\n",
       "    </tr>\n",
       "  </thead>\n",
       "  <tbody>\n",
       "    <tr>\n",
       "      <th>0</th>\n",
       "      <td>Абызова</td>\n",
       "      <td>Надежда</td>\n",
       "      <td>Викторовна</td>\n",
       "      <td>женский</td>\n",
       "      <td>1973-01-19</td>\n",
       "      <td>Большой спорт</td>\n",
       "      <td>Любой</td>\n",
       "      <td>6</td>\n",
       "      <td>901080390</td>\n",
       "      <td>Россия</td>\n",
       "      <td>(499) 242-41-61</td>\n",
       "      <td>s29@mossport.ru</td>\n",
       "      <td>акробатический рок-н-ролл</td>\n",
       "      <td>27</td>\n",
       "      <td>нет</td>\n",
       "      <td>ГБУ «СШ № 29 «Хамовники» Москомспорта</td>\n",
       "      <td>1994-06-01</td>\n",
       "      <td>Старший тренер</td>\n",
       "      <td>2014-05-06</td>\n",
       "    </tr>\n",
       "    <tr>\n",
       "      <th>1</th>\n",
       "      <td>Алешина</td>\n",
       "      <td>Лариса</td>\n",
       "      <td>Владимировна</td>\n",
       "      <td>женский</td>\n",
       "      <td>1960-02-01</td>\n",
       "      <td>Большой спорт</td>\n",
       "      <td>Любой</td>\n",
       "      <td>6</td>\n",
       "      <td>901079981</td>\n",
       "      <td>Россия</td>\n",
       "      <td>(499) 242-41-61</td>\n",
       "      <td>s29@mossport.ru</td>\n",
       "      <td>акробатический рок-н-ролл</td>\n",
       "      <td>12</td>\n",
       "      <td>нет</td>\n",
       "      <td>ГБУ «СШ № 29 «Хамовники» Москомспорта</td>\n",
       "      <td>2017-01-17</td>\n",
       "      <td>Старший тренер</td>\n",
       "      <td>2016-04-01</td>\n",
       "    </tr>\n",
       "    <tr>\n",
       "      <th>2</th>\n",
       "      <td>Андрюхин</td>\n",
       "      <td>Алексей</td>\n",
       "      <td>Михайлович</td>\n",
       "      <td>мужской</td>\n",
       "      <td>1973-11-21</td>\n",
       "      <td>Спортивный резерв</td>\n",
       "      <td>Любой</td>\n",
       "      <td>6</td>\n",
       "      <td>901080042</td>\n",
       "      <td>Россия</td>\n",
       "      <td>(499) 242-41-61</td>\n",
       "      <td>s29@mossport.ru</td>\n",
       "      <td>акробатический рок-н-ролл</td>\n",
       "      <td>16</td>\n",
       "      <td>нет</td>\n",
       "      <td>ГБУ «СШ № 29 «Хамовники» Москомспорта</td>\n",
       "      <td>2007-09-03</td>\n",
       "      <td>Старший тренер</td>\n",
       "      <td>2010-12-01</td>\n",
       "    </tr>\n",
       "    <tr>\n",
       "      <th>3</th>\n",
       "      <td>Ануров</td>\n",
       "      <td>Александр</td>\n",
       "      <td>Львович</td>\n",
       "      <td>мужской</td>\n",
       "      <td>1957-11-10</td>\n",
       "      <td>Большой спорт</td>\n",
       "      <td>Любой</td>\n",
       "      <td>6</td>\n",
       "      <td>901080391</td>\n",
       "      <td>Россия</td>\n",
       "      <td>(499) 242-41-61</td>\n",
       "      <td>s29@mossport.ru</td>\n",
       "      <td>акробатический рок-н-ролл</td>\n",
       "      <td>39</td>\n",
       "      <td>нет</td>\n",
       "      <td>ГБУ «СШ № 29 «Хамовники» Москомспорта</td>\n",
       "      <td>2004-09-01</td>\n",
       "      <td>Старший тренер</td>\n",
       "      <td>2009-05-06</td>\n",
       "    </tr>\n",
       "    <tr>\n",
       "      <th>4</th>\n",
       "      <td>Анурова</td>\n",
       "      <td>Екатерина</td>\n",
       "      <td>Александровна</td>\n",
       "      <td>женский</td>\n",
       "      <td>1993-03-21</td>\n",
       "      <td>Большой спорт</td>\n",
       "      <td>Любой</td>\n",
       "      <td>6</td>\n",
       "      <td>901080392</td>\n",
       "      <td>Россия</td>\n",
       "      <td>(499) 242-41-61</td>\n",
       "      <td>s29@mossport.ru</td>\n",
       "      <td>акробатический рок-н-ролл</td>\n",
       "      <td>6</td>\n",
       "      <td>нет</td>\n",
       "      <td>ГБУ «СШ № 29 «Хамовники» Москомспорта</td>\n",
       "      <td>2013-11-01</td>\n",
       "      <td>Старший тренер</td>\n",
       "      <td>2016-04-01</td>\n",
       "    </tr>\n",
       "  </tbody>\n",
       "</table>\n",
       "</div>"
      ],
      "text/plain": [
       "   LastName       Name     MiddleName   Gender DateOfBirth  \\\n",
       "0   Абызова    Надежда     Викторовна  женский  1973-01-19   \n",
       "1   Алешина     Лариса   Владимировна  женский  1960-02-01   \n",
       "2  Андрюхин    Алексей     Михайлович  мужской  1973-11-21   \n",
       "3    Ануров  Александр        Львович  мужской  1957-11-10   \n",
       "4   Анурова  Екатерина  Александровна  женский  1993-03-21   \n",
       "\n",
       "  SportSpecialization SportActivityGender  SportActivityMinAge  global_id  \\\n",
       "0       Большой спорт               Любой                    6  901080390   \n",
       "1       Большой спорт               Любой                    6  901079981   \n",
       "2   Спортивный резерв               Любой                    6  901080042   \n",
       "3       Большой спорт               Любой                    6  901080391   \n",
       "4       Большой спорт               Любой                    6  901080392   \n",
       "\n",
       "  Citizenship      PublicPhone            Email                  SportName  \\\n",
       "0      Россия  (499) 242-41-61  s29@mossport.ru  акробатический рок-н-ролл   \n",
       "1      Россия  (499) 242-41-61  s29@mossport.ru  акробатический рок-н-ролл   \n",
       "2      Россия  (499) 242-41-61  s29@mossport.ru  акробатический рок-н-ролл   \n",
       "3      Россия  (499) 242-41-61  s29@mossport.ru  акробатический рок-н-ролл   \n",
       "4      Россия  (499) 242-41-61  s29@mossport.ru  акробатический рок-н-ролл   \n",
       "\n",
       "   SeniorityPeriod AvailabilityOfCertification  \\\n",
       "0               27                         нет   \n",
       "1               12                         нет   \n",
       "2               16                         нет   \n",
       "3               39                         нет   \n",
       "4                6                         нет   \n",
       "\n",
       "                     JobOrganizationName JobOrganizationStartDate  \\\n",
       "0  ГБУ «СШ № 29 «Хамовники» Москомспорта               1994-06-01   \n",
       "1  ГБУ «СШ № 29 «Хамовники» Москомспорта               2017-01-17   \n",
       "2  ГБУ «СШ № 29 «Хамовники» Москомспорта               2007-09-03   \n",
       "3  ГБУ «СШ № 29 «Хамовники» Москомспорта               2004-09-01   \n",
       "4  ГБУ «СШ № 29 «Хамовники» Москомспорта               2013-11-01   \n",
       "\n",
       "  CoachCategoryName CoachCategoryStartDate  \n",
       "0    Старший тренер             2014-05-06  \n",
       "1    Старший тренер             2016-04-01  \n",
       "2    Старший тренер             2010-12-01  \n",
       "3    Старший тренер             2009-05-06  \n",
       "4    Старший тренер             2016-04-01  "
      ]
     },
     "execution_count": 22,
     "metadata": {},
     "output_type": "execute_result"
    }
   ],
   "source": [
    "df_data.dropna(how='all', axis=1,inplace=True)\n",
    "date_col = ['DateOfBirth','JobOrganizationStartDate','CoachCategoryStartDate']\n",
    "for col in date_col:\n",
    "    df_data[col] = pd.to_datetime(df_data[col],format = '%d.%m.%Y')\n",
    "\n",
    "df_data[['SportActivityMinAge','SeniorityPeriod']] = df_data[['SportActivityMinAge','SeniorityPeriod']].astype(int)\n",
    "df_data.head()"
   ]
  },
  {
   "cell_type": "code",
   "execution_count": 23,
   "id": "930f187f-b978-40b8-b85f-27cb7a13583a",
   "metadata": {},
   "outputs": [
    {
     "name": "stdout",
     "output_type": "stream",
     "text": [
      "<class 'pandas.core.frame.DataFrame'>\n",
      "Int64Index: 4288 entries, 0 to 4287\n",
      "Data columns (total 19 columns):\n",
      " #   Column                       Non-Null Count  Dtype         \n",
      "---  ------                       --------------  -----         \n",
      " 0   LastName                     4288 non-null   object        \n",
      " 1   Name                         4288 non-null   object        \n",
      " 2   MiddleName                   4274 non-null   object        \n",
      " 3   Gender                       4288 non-null   object        \n",
      " 4   DateOfBirth                  4288 non-null   datetime64[ns]\n",
      " 5   SportSpecialization          4288 non-null   object        \n",
      " 6   SportActivityGender          4288 non-null   object        \n",
      " 7   SportActivityMinAge          4288 non-null   int32         \n",
      " 8   global_id                    4288 non-null   int64         \n",
      " 9   Citizenship                  4288 non-null   object        \n",
      " 10  PublicPhone                  4261 non-null   object        \n",
      " 11  Email                        4182 non-null   object        \n",
      " 12  SportName                    4288 non-null   object        \n",
      " 13  SeniorityPeriod              4288 non-null   int32         \n",
      " 14  AvailabilityOfCertification  4288 non-null   object        \n",
      " 15  JobOrganizationName          4288 non-null   object        \n",
      " 16  JobOrganizationStartDate     4288 non-null   datetime64[ns]\n",
      " 17  CoachCategoryName            4288 non-null   object        \n",
      " 18  CoachCategoryStartDate       4288 non-null   datetime64[ns]\n",
      "dtypes: datetime64[ns](3), int32(2), int64(1), object(13)\n",
      "memory usage: 765.5+ KB\n"
     ]
    }
   ],
   "source": [
    "df_data.info()"
   ]
  },
  {
   "cell_type": "code",
   "execution_count": 24,
   "id": "aca7ba84-57bd-4a4b-a5df-a93074c5622a",
   "metadata": {},
   "outputs": [
    {
     "data": {
      "text/plain": [
       "count    4288.000000\n",
       "mean       18.233209\n",
       "std        12.416634\n",
       "min         1.000000\n",
       "25%         8.000000\n",
       "50%        15.000000\n",
       "75%        27.000000\n",
       "max        62.000000\n",
       "Name: SeniorityPeriod, dtype: float64"
      ]
     },
     "execution_count": 24,
     "metadata": {},
     "output_type": "execute_result"
    }
   ],
   "source": [
    "df_data['SeniorityPeriod'].describe()"
   ]
  },
  {
   "cell_type": "markdown",
   "id": "ed06bd92-9bb2-4f9d-9461-617b6d751081",
   "metadata": {},
   "source": [
    "### Первичный анализ данных"
   ]
  },
  {
   "cell_type": "markdown",
   "id": "ff9a02ed-935b-4d3b-8649-aa37e7adafa6",
   "metadata": {},
   "source": [
    "Рассмотрим гендерные различия в данной профессии"
   ]
  },
  {
   "cell_type": "code",
   "execution_count": 25,
   "id": "ea699c0e-0db5-444f-be26-634108d72b77",
   "metadata": {},
   "outputs": [
    {
     "data": {
      "text/plain": [
       "Text(0.5, 1.0, 'Распределение по полу среди тренеров МСК')"
      ]
     },
     "execution_count": 25,
     "metadata": {},
     "output_type": "execute_result"
    },
    {
     "data": {
      "image/png": "[encoded data removed]",
      "text/plain": [
       "<Figure size 432x288 with 1 Axes>"
      ]
     },
     "metadata": {},
     "output_type": "display_data"
    }
   ],
   "source": [
    "df_data['Gender'].value_counts().plot(kind = 'pie')\n",
    "\n",
    "plt.title('Распределение по полу среди тренеров МСК')"
   ]
  },
  {
   "cell_type": "code",
   "execution_count": 26,
   "id": "1275e46c-6e28-49ad-90d9-96fe42c1929b",
   "metadata": {},
   "outputs": [],
   "source": [
    "df_data['Year'] = df_data['DateOfBirth'].apply(lambda x:x.year)"
   ]
  },
  {
   "cell_type": "code",
   "execution_count": 27,
   "id": "95651e7e-9571-448a-83a6-f970497d6716",
   "metadata": {},
   "outputs": [
    {
     "data": {
      "text/plain": [
       "<AxesSubplot:xlabel='Gender', ylabel='Year'>"
      ]
     },
     "execution_count": 27,
     "metadata": {},
     "output_type": "execute_result"
    },
    {
     "data": {
      "image/png": "[encoded data removed]",
      "text/plain": [
       "<Figure size 432x288 with 1 Axes>"
      ]
     },
     "metadata": {
      "needs_background": "light"
     },
     "output_type": "display_data"
    }
   ],
   "source": [
    "sns.violinplot(x='Gender', y='Year', data=df_data)\n"
   ]
  },
  {
   "cell_type": "markdown",
   "id": "ce07395f-c79b-4b7b-beef-419b493270dd",
   "metadata": {},
   "source": [
    "Из данных графиков мы видим, что количество тренеров мужчин превышает женщин"
   ]
  },
  {
   "cell_type": "code",
   "execution_count": 28,
   "id": "c89c6aba-1bad-47de-8595-b5627160c112",
   "metadata": {},
   "outputs": [
    {
     "data": {
      "text/html": [
       "<div>\n",
       "<style scoped>\n",
       "    .dataframe tbody tr th:only-of-type {\n",
       "        vertical-align: middle;\n",
       "    }\n",
       "\n",
       "    .dataframe tbody tr th {\n",
       "        vertical-align: top;\n",
       "    }\n",
       "\n",
       "    .dataframe thead th {\n",
       "        text-align: right;\n",
       "    }\n",
       "</style>\n",
       "<table border=\"1\" class=\"dataframe\">\n",
       "  <thead>\n",
       "    <tr style=\"text-align: right;\">\n",
       "      <th></th>\n",
       "      <th>Gender</th>\n",
       "      <th>женский</th>\n",
       "      <th>мужской</th>\n",
       "    </tr>\n",
       "  </thead>\n",
       "  <tbody>\n",
       "    <tr>\n",
       "      <th>mean</th>\n",
       "      <th>Year</th>\n",
       "      <td>1973.650813</td>\n",
       "      <td>1972.086030</td>\n",
       "    </tr>\n",
       "    <tr>\n",
       "      <th>std</th>\n",
       "      <th>Year</th>\n",
       "      <td>12.588613</td>\n",
       "      <td>13.562057</td>\n",
       "    </tr>\n",
       "    <tr>\n",
       "      <th>max</th>\n",
       "      <th>Year</th>\n",
       "      <td>1998.000000</td>\n",
       "      <td>1997.000000</td>\n",
       "    </tr>\n",
       "    <tr>\n",
       "      <th>min</th>\n",
       "      <th>Year</th>\n",
       "      <td>1939.000000</td>\n",
       "      <td>1933.000000</td>\n",
       "    </tr>\n",
       "    <tr>\n",
       "      <th>median</th>\n",
       "      <th>Year</th>\n",
       "      <td>1974.000000</td>\n",
       "      <td>1973.000000</td>\n",
       "    </tr>\n",
       "  </tbody>\n",
       "</table>\n",
       "</div>"
      ],
      "text/plain": [
       "Gender           женский      мужской\n",
       "mean   Year  1973.650813  1972.086030\n",
       "std    Year    12.588613    13.562057\n",
       "max    Year  1998.000000  1997.000000\n",
       "min    Year  1939.000000  1933.000000\n",
       "median Year  1974.000000  1973.000000"
      ]
     },
     "execution_count": 28,
     "metadata": {},
     "output_type": "execute_result"
    }
   ],
   "source": [
    "df_data[['Gender','Year']].pivot_table(values = 'Year',index='Gender',aggfunc=['mean','std','max','min','median']).T"
   ]
  },
  {
   "cell_type": "markdown",
   "id": "60adfff1-22d4-47cc-be03-ce7ea263f105",
   "metadata": {},
   "source": [
    "По возрасту отличий почти нету. Между полом и возрастом закономерностей нету"
   ]
  },
  {
   "cell_type": "code",
   "execution_count": 29,
   "id": "d0eeb156-c7f4-4d39-93bd-f6e8fe3eaac5",
   "metadata": {},
   "outputs": [
    {
     "data": {
      "text/plain": [
       "array(['Большой спорт', 'Спортивный резерв', 'Общефизическая подготовка',\n",
       "       'Любительский спорт'], dtype=object)"
      ]
     },
     "execution_count": 29,
     "metadata": {},
     "output_type": "execute_result"
    }
   ],
   "source": [
    "df_data['SportSpecialization'].unique()"
   ]
  },
  {
   "cell_type": "code",
   "execution_count": 30,
   "id": "d47f5225-06d7-458a-8d22-f28a343b3a63",
   "metadata": {},
   "outputs": [
    {
     "data": {
      "text/html": [
       "<div>\n",
       "<style scoped>\n",
       "    .dataframe tbody tr th:only-of-type {\n",
       "        vertical-align: middle;\n",
       "    }\n",
       "\n",
       "    .dataframe tbody tr th {\n",
       "        vertical-align: top;\n",
       "    }\n",
       "\n",
       "    .dataframe thead tr th {\n",
       "        text-align: left;\n",
       "    }\n",
       "\n",
       "    .dataframe thead tr:last-of-type th {\n",
       "        text-align: right;\n",
       "    }\n",
       "</style>\n",
       "<table border=\"1\" class=\"dataframe\">\n",
       "  <thead>\n",
       "    <tr>\n",
       "      <th></th>\n",
       "      <th colspan=\"2\" halign=\"left\">count</th>\n",
       "    </tr>\n",
       "    <tr>\n",
       "      <th>Gender</th>\n",
       "      <th>женский</th>\n",
       "      <th>мужской</th>\n",
       "    </tr>\n",
       "    <tr>\n",
       "      <th>SportSpecialization</th>\n",
       "      <th></th>\n",
       "      <th></th>\n",
       "    </tr>\n",
       "  </thead>\n",
       "  <tbody>\n",
       "    <tr>\n",
       "      <th>Большой спорт</th>\n",
       "      <td>502.0</td>\n",
       "      <td>924.0</td>\n",
       "    </tr>\n",
       "    <tr>\n",
       "      <th>Любительский спорт</th>\n",
       "      <td>NaN</td>\n",
       "      <td>5.0</td>\n",
       "    </tr>\n",
       "    <tr>\n",
       "      <th>Общефизическая подготовка</th>\n",
       "      <td>437.0</td>\n",
       "      <td>465.0</td>\n",
       "    </tr>\n",
       "    <tr>\n",
       "      <th>Спортивный резерв</th>\n",
       "      <td>722.0</td>\n",
       "      <td>1233.0</td>\n",
       "    </tr>\n",
       "  </tbody>\n",
       "</table>\n",
       "</div>"
      ],
      "text/plain": [
       "                            count        \n",
       "Gender                    женский мужской\n",
       "SportSpecialization                      \n",
       "Большой спорт               502.0   924.0\n",
       "Любительский спорт            NaN     5.0\n",
       "Общефизическая подготовка   437.0   465.0\n",
       "Спортивный резерв           722.0  1233.0"
      ]
     },
     "execution_count": 30,
     "metadata": {},
     "output_type": "execute_result"
    }
   ],
   "source": [
    "df_data.pivot_table(index ='SportSpecialization', columns='Gender' ,values = 'Year',aggfunc=['count'])\n"
   ]
  },
  {
   "cell_type": "code",
   "execution_count": 31,
   "id": "858c8ecd-9de0-42ac-a300-3e845794b3b7",
   "metadata": {},
   "outputs": [
    {
     "data": {
      "text/plain": [
       "array(['акробатический рок-н-ролл', 'спортивная аэробика',\n",
       "       'эстетическая гимнастика', 'прыжки на батуте',\n",
       "       'спортивная акробатика', 'дзюдо', 'самбо',\n",
       "       'спорт лиц с поражением ода', 'конный спорт',\n",
       "       'фигурное катание на коньках'], dtype=object)"
      ]
     },
     "execution_count": 31,
     "metadata": {},
     "output_type": "execute_result"
    }
   ],
   "source": [
    "df_data['SportName'].unique()[:10]"
   ]
  },
  {
   "cell_type": "code",
   "execution_count": 32,
   "id": "cfbeb384-0e8b-4fff-ac33-1668c48149be",
   "metadata": {},
   "outputs": [],
   "source": [
    "df_data_SportName = df_data.pivot_table(index ='SportName', columns='Gender' ,values = 'Year',aggfunc=['count']).fillna(0)"
   ]
  },
  {
   "cell_type": "code",
   "execution_count": 33,
   "id": "84376e0a-2e59-4428-b3c2-1147fe11881b",
   "metadata": {},
   "outputs": [],
   "source": [
    "df_data_SportName.columns = ['женский','мужской']"
   ]
  },
  {
   "cell_type": "code",
   "execution_count": 34,
   "id": "822f387b-bd77-42e0-8646-e03793821402",
   "metadata": {},
   "outputs": [
    {
     "data": {
      "text/plain": [
       "Index(['американский футбол', 'армейский рукопашный бой', 'бодибилдинг',\n",
       "       'воркаут', 'восточное боевое единоборство', 'всестилевое каратэ',\n",
       "       'капоэйра', 'катание на коньках', 'подводный спорт', 'полиатлон',\n",
       "       'прыжки на лыжах с трамплина', 'пэйнтбол', 'рукопашный бой',\n",
       "       'смешанное боевое единоборство (мма)',\n",
       "       'спорт лиц с общими заболеваниями', 'спортивный туризм',\n",
       "       'стендовая стрельба', 'тайский бокс',\n",
       "       'физическая культура для лиц с нарушением интеллекта',\n",
       "       'хоккей с мячом'],\n",
       "      dtype='object', name='SportName')"
      ]
     },
     "execution_count": 34,
     "metadata": {},
     "output_type": "execute_result"
    }
   ],
   "source": [
    "df_data_SportName[df_data_SportName['женский']==0].index"
   ]
  },
  {
   "cell_type": "code",
   "execution_count": 35,
   "id": "5264c4c3-dc28-4e4d-8c66-3e542e6565c2",
   "metadata": {},
   "outputs": [
    {
     "data": {
      "text/plain": [
       "Index(['аквааэробика', 'боулинг', 'веломобильный спорт', 'велоспорт-вмх',\n",
       "       'велоспорт-маунтинбайк', 'велоспорт-трек', 'зумба', 'йога',\n",
       "       'настольные игры', 'оздоровительная гимнастика', 'софтбол',\n",
       "       'фитнес-аэробика', 'чанбара', 'черлидинг', 'чир спорт',\n",
       "       'эстетическая гимнастика'],\n",
       "      dtype='object', name='SportName')"
      ]
     },
     "execution_count": 35,
     "metadata": {},
     "output_type": "execute_result"
    }
   ],
   "source": [
    "df_data_SportName[df_data_SportName['мужской']==0].index"
   ]
  },
  {
   "cell_type": "code",
   "execution_count": 36,
   "id": "8b6e031e-0a92-4529-92e8-8084211ecb63",
   "metadata": {},
   "outputs": [
    {
     "data": {
      "text/plain": [
       "Index(['айкидо', 'акробатический рок-н-ролл', 'бадминтон', 'баскетбол',\n",
       "       'бейсбол', 'биатлон', 'бильярдный спорт', 'бобслей', 'бокс',\n",
       "       'борьба на поясах', 'бочча', 'водное поло', 'воднолыжный спорт',\n",
       "       'волейбол', 'всероссийский физкультурно-спортивный комплекс \"гто\"',\n",
       "       'гандбол', 'гольф', 'горнолыжный спорт', 'городошный спорт',\n",
       "       'гребля на байдарках и каноэ', 'гребной слалом', 'гребной спорт',\n",
       "       'дартс', 'джиу-джитсу', 'дзюдо', 'каратэ', 'кикбоксинг', 'киокусинкай',\n",
       "       'конный спорт', 'конькобежный спорт', 'легкая атлетика',\n",
       "       'лыжное двоеборье', 'лыжные гонки', 'настольный теннис',\n",
       "       'общая физическая подготовка', 'парусный спорт', 'пауэрлифтинг',\n",
       "       'плавание', 'прыжки в воду', 'прыжки на батуте', 'пулевая стрельба',\n",
       "       'регби', 'самбо', 'санный спорт', 'синхронное плавание', 'скалолазание',\n",
       "       'скандинавская ходьба', 'сноуборд', 'современное пятиборье',\n",
       "       'спорт глухих', 'спорт лиц с интеллектуальными нарушениями',\n",
       "       'спорт лиц с ограниченными возможностями здоровья всех категорий',\n",
       "       'спорт лиц с поражением ода', 'спорт слепых', 'спортивная акробатика',\n",
       "       'спортивная аэробика', 'спортивная борьба', 'спортивная гимнастика',\n",
       "       'спортивное ориентирование', 'стрельба из арбалета', 'стрельба из лука',\n",
       "       'сумо', 'танцевальный спорт', 'теннис', 'триатлон', 'тхэквондо',\n",
       "       'тяжелая атлетика', 'ушу', 'фехтование', 'фигурное катание на коньках',\n",
       "       'флорбол', 'фристайл', 'футбол', 'хоккей', 'хоккей на траве',\n",
       "       'художественная гимнастика', 'шахматы'],\n",
       "      dtype='object', name='SportName')"
      ]
     },
     "execution_count": 36,
     "metadata": {},
     "output_type": "execute_result"
    }
   ],
   "source": [
    "df_data_SportName[(df_data_SportName['мужской']!=0)&(df_data_SportName['женский']!=0)].index"
   ]
  },
  {
   "cell_type": "code",
   "execution_count": 37,
   "id": "e34bc008-29e1-4449-88cc-f2cdeed4b598",
   "metadata": {},
   "outputs": [
    {
     "name": "stdout",
     "output_type": "stream",
     "text": [
      "Количество видов спорта где тренер только женщина - 20\n",
      "Количество видов спорта где тренер только мужчина - 16\n",
      "Общее количество видов спорта - 113\n"
     ]
    }
   ],
   "source": [
    "print(\"Количество видов спорта где тренер только женщина - {0}\".format(len(df_data_SportName[df_data_SportName['женский']==0].index)))\n",
    "print(\"Количество видов спорта где тренер только мужчина - {0}\".format(len(df_data_SportName[df_data_SportName['мужской']==0].index)))\n",
    "print(\"Общее количество видов спорта - {0}\".format(len(df_data_SportName.index)))"
   ]
  },
  {
   "cell_type": "code",
   "execution_count": 38,
   "id": "e42c799a-21ec-4264-b6f1-d142c4f2bfa3",
   "metadata": {},
   "outputs": [
    {
     "data": {
      "text/plain": [
       "Россия     4287\n",
       "Украина       1\n",
       "Name: Citizenship, dtype: int64"
      ]
     },
     "execution_count": 38,
     "metadata": {},
     "output_type": "execute_result"
    }
   ],
   "source": [
    "df_data['Citizenship'].value_counts()"
   ]
  },
  {
   "cell_type": "code",
   "execution_count": 39,
   "id": "95a47e2f-a3cd-4902-8ba7-bd20ff425e64",
   "metadata": {},
   "outputs": [
    {
     "data": {
      "text/html": [
       "<div>\n",
       "<style scoped>\n",
       "    .dataframe tbody tr th:only-of-type {\n",
       "        vertical-align: middle;\n",
       "    }\n",
       "\n",
       "    .dataframe tbody tr th {\n",
       "        vertical-align: top;\n",
       "    }\n",
       "\n",
       "    .dataframe thead th {\n",
       "        text-align: right;\n",
       "    }\n",
       "</style>\n",
       "<table border=\"1\" class=\"dataframe\">\n",
       "  <thead>\n",
       "    <tr style=\"text-align: right;\">\n",
       "      <th></th>\n",
       "      <th>341</th>\n",
       "    </tr>\n",
       "  </thead>\n",
       "  <tbody>\n",
       "    <tr>\n",
       "      <th>LastName</th>\n",
       "      <td>Пахомов</td>\n",
       "    </tr>\n",
       "    <tr>\n",
       "      <th>Name</th>\n",
       "      <td>Денис</td>\n",
       "    </tr>\n",
       "    <tr>\n",
       "      <th>MiddleName</th>\n",
       "      <td>Андреевич</td>\n",
       "    </tr>\n",
       "    <tr>\n",
       "      <th>Gender</th>\n",
       "      <td>мужской</td>\n",
       "    </tr>\n",
       "    <tr>\n",
       "      <th>DateOfBirth</th>\n",
       "      <td>1994-08-17 00:00:00</td>\n",
       "    </tr>\n",
       "    <tr>\n",
       "      <th>SportSpecialization</th>\n",
       "      <td>Общефизическая подготовка</td>\n",
       "    </tr>\n",
       "    <tr>\n",
       "      <th>SportActivityGender</th>\n",
       "      <td>Любой</td>\n",
       "    </tr>\n",
       "    <tr>\n",
       "      <th>SportActivityMinAge</th>\n",
       "      <td>6</td>\n",
       "    </tr>\n",
       "    <tr>\n",
       "      <th>global_id</th>\n",
       "      <td>901080957</td>\n",
       "    </tr>\n",
       "    <tr>\n",
       "      <th>Citizenship</th>\n",
       "      <td>Украина</td>\n",
       "    </tr>\n",
       "    <tr>\n",
       "      <th>PublicPhone</th>\n",
       "      <td>(495) 685-09-45</td>\n",
       "    </tr>\n",
       "    <tr>\n",
       "      <th>Email</th>\n",
       "      <td>s25@mossport.ru</td>\n",
       "    </tr>\n",
       "    <tr>\n",
       "      <th>SportName</th>\n",
       "      <td>акробатический рок-н-ролл</td>\n",
       "    </tr>\n",
       "    <tr>\n",
       "      <th>SeniorityPeriod</th>\n",
       "      <td>4</td>\n",
       "    </tr>\n",
       "    <tr>\n",
       "      <th>AvailabilityOfCertification</th>\n",
       "      <td>нет</td>\n",
       "    </tr>\n",
       "    <tr>\n",
       "      <th>JobOrganizationName</th>\n",
       "      <td>ГБУ «СШОР № 25» Москомспорта</td>\n",
       "    </tr>\n",
       "    <tr>\n",
       "      <th>JobOrganizationStartDate</th>\n",
       "      <td>2017-09-01 00:00:00</td>\n",
       "    </tr>\n",
       "    <tr>\n",
       "      <th>CoachCategoryName</th>\n",
       "      <td>Старший тренер</td>\n",
       "    </tr>\n",
       "    <tr>\n",
       "      <th>CoachCategoryStartDate</th>\n",
       "      <td>2016-04-01 00:00:00</td>\n",
       "    </tr>\n",
       "    <tr>\n",
       "      <th>Year</th>\n",
       "      <td>1994</td>\n",
       "    </tr>\n",
       "  </tbody>\n",
       "</table>\n",
       "</div>"
      ],
      "text/plain": [
       "                                                      341\n",
       "LastName                                          Пахомов\n",
       "Name                                                Денис\n",
       "MiddleName                                      Андреевич\n",
       "Gender                                            мужской\n",
       "DateOfBirth                           1994-08-17 00:00:00\n",
       "SportSpecialization             Общефизическая подготовка\n",
       "SportActivityGender                                 Любой\n",
       "SportActivityMinAge                                     6\n",
       "global_id                                       901080957\n",
       "Citizenship                                       Украина\n",
       "PublicPhone                               (495) 685-09-45\n",
       "Email                                     s25@mossport.ru\n",
       "SportName                       акробатический рок-н-ролл\n",
       "SeniorityPeriod                                         4\n",
       "AvailabilityOfCertification                           нет\n",
       "JobOrganizationName          ГБУ «СШОР № 25» Москомспорта\n",
       "JobOrganizationStartDate              2017-09-01 00:00:00\n",
       "CoachCategoryName                          Старший тренер\n",
       "CoachCategoryStartDate                2016-04-01 00:00:00\n",
       "Year                                                 1994"
      ]
     },
     "execution_count": 39,
     "metadata": {},
     "output_type": "execute_result"
    }
   ],
   "source": [
    "df_data[df_data['Citizenship']=='Украина'].T"
   ]
  },
  {
   "cell_type": "markdown",
   "id": "658c38b3-cf33-4b94-b496-4d6c69beda0b",
   "metadata": {},
   "source": [
    "Попробуем узнать что то о данном тренере"
   ]
  },
  {
   "cell_type": "code",
   "execution_count": 40,
   "id": "f62bf77a-89d2-48c3-ac59-1a496ee3c16d",
   "metadata": {},
   "outputs": [
    {
     "data": {
      "image/jpeg": "[encoded data removed]",
      "text/plain": [
       "<IPython.core.display.Image object>"
      ]
     },
     "execution_count": 40,
     "metadata": {
      "image/jpeg": {
       "height": 200,
       "width": 1000
      }
     },
     "output_type": "execute_result"
    }
   ],
   "source": [
    "from IPython.display import Image\n",
    "Image(filename = \"Тренер_украины.jpg\", width=1000, height=200)"
   ]
  },
  {
   "cell_type": "markdown",
   "id": "33373079-3424-4ad1-8012-8ba83c714b17",
   "metadata": {},
   "source": [
    "Как мы видим данных в открытом доступе значительно больше и при необходимости их можно \"собрать\", однако на данном этапе нам это не требуется"
   ]
  },
  {
   "cell_type": "code",
   "execution_count": 43,
   "id": "c6188ea1-0f05-47a5-99e1-d999ea9d9b47",
   "metadata": {},
   "outputs": [
    {
     "data": {
      "text/plain": [
       "ГБОУ «ЦСиО «Самбо-70» Москомспорта отделение «Самбо-70»    98\n",
       "ГБУ «СШОР № 42» Москомспорта                               90\n",
       "ГБУ «СШОР № 54 «Ориента» Москомспорта                      85\n",
       "ГБУ «ЦФКиС ЮАО г. Москвы» Москомспорта                     85\n",
       "ГБУ «СШОР «Москвич» Москомспорта                           75\n",
       "ГБУ «СШ № 29 «Хамовники» Москомспорта                      66\n",
       "ГБУ «СШОР «Трудовые резервы» Москомспорта                  64\n",
       "ГБПОУ «МССУОР № 2» Москомспорта                            62\n",
       "ГБПОУ «МССУОР № 1» Москомспорта                            59\n",
       "ГБУ «СШ № 2» Москомспорта                                  57\n",
       "Name: JobOrganizationName, dtype: int64"
      ]
     },
     "execution_count": 43,
     "metadata": {},
     "output_type": "execute_result"
    }
   ],
   "source": [
    "df_data['JobOrganizationName'].value_counts()[:10]"
   ]
  },
  {
   "cell_type": "code",
   "execution_count": 44,
   "id": "107a4d56-0386-402a-8b20-1ba3a81f593e",
   "metadata": {},
   "outputs": [
    {
     "data": {
      "text/plain": [
       "count    186.000000\n",
       "mean      23.053763\n",
       "std       17.224034\n",
       "min        1.000000\n",
       "25%       12.000000\n",
       "50%       19.500000\n",
       "75%       28.750000\n",
       "max       98.000000\n",
       "Name: JobOrganizationName, dtype: float64"
      ]
     },
     "execution_count": 44,
     "metadata": {},
     "output_type": "execute_result"
    }
   ],
   "source": [
    "df_data['JobOrganizationName'].value_counts().describe()"
   ]
  },
  {
   "cell_type": "code",
   "execution_count": 47,
   "id": "cfcc9654",
   "metadata": {},
   "outputs": [
    {
     "data": {
      "text/plain": [
       "array(['Общефизическая подготовка', 'Спортивный резерв', 'Большой спорт'],\n",
       "      dtype=object)"
      ]
     },
     "execution_count": 47,
     "metadata": {},
     "output_type": "execute_result"
    }
   ],
   "source": [
    "df_data[df_data['JobOrganizationName']=='ГБОУ «ЦСиО «Самбо-70» Москомспорта отделение «Самбо-70»']['SportSpecialization'].unique()"
   ]
  },
  {
   "cell_type": "code",
   "execution_count": 54,
   "id": "de08f97f",
   "metadata": {},
   "outputs": [
    {
     "data": {
      "text/plain": [
       "array(['Старший тренер'], dtype=object)"
      ]
     },
     "execution_count": 54,
     "metadata": {},
     "output_type": "execute_result"
    }
   ],
   "source": [
    "df_data['CoachCategoryName'].unique()"
   ]
  },
  {
   "cell_type": "markdown",
   "id": "d9cb6f08",
   "metadata": {},
   "source": [
    "Как видно все тренеры являются старшими. Здесь возможны два варианта:\n",
    " - либо в данную базу добавляют только старших тренеров\n",
    " - либо так называется должность и все тренеры являются старшими"
   ]
  },
  {
   "cell_type": "markdown",
   "id": "ead62e51",
   "metadata": {},
   "source": [
    "### Анализ динамики присвоения тренерской категории"
   ]
  },
  {
   "cell_type": "code",
   "execution_count": 57,
   "id": "1aeb1e01-0535-4372-867c-2a72c14e8090",
   "metadata": {},
   "outputs": [],
   "source": [
    "df_data['CoachCategoryStartYear']  = df_data['CoachCategoryStartDate'].apply(lambda x:x.year)\n",
    "df_data['JobOrganizationStartYear']  = df_data['JobOrganizationStartDate'].apply(lambda x:x.year)"
   ]
  },
  {
   "cell_type": "code",
   "execution_count": 58,
   "id": "6d66517b",
   "metadata": {},
   "outputs": [
    {
     "data": {
      "text/html": [
       "<div>\n",
       "<style scoped>\n",
       "    .dataframe tbody tr th:only-of-type {\n",
       "        vertical-align: middle;\n",
       "    }\n",
       "\n",
       "    .dataframe tbody tr th {\n",
       "        vertical-align: top;\n",
       "    }\n",
       "\n",
       "    .dataframe thead th {\n",
       "        text-align: right;\n",
       "    }\n",
       "</style>\n",
       "<table border=\"1\" class=\"dataframe\">\n",
       "  <thead>\n",
       "    <tr style=\"text-align: right;\">\n",
       "      <th></th>\n",
       "      <th>LastName</th>\n",
       "      <th>Name</th>\n",
       "      <th>MiddleName</th>\n",
       "      <th>Gender</th>\n",
       "      <th>DateOfBirth</th>\n",
       "      <th>SportSpecialization</th>\n",
       "      <th>SportActivityGender</th>\n",
       "      <th>SportActivityMinAge</th>\n",
       "      <th>global_id</th>\n",
       "      <th>Citizenship</th>\n",
       "      <th>...</th>\n",
       "      <th>SportName</th>\n",
       "      <th>SeniorityPeriod</th>\n",
       "      <th>AvailabilityOfCertification</th>\n",
       "      <th>JobOrganizationName</th>\n",
       "      <th>JobOrganizationStartDate</th>\n",
       "      <th>CoachCategoryName</th>\n",
       "      <th>CoachCategoryStartDate</th>\n",
       "      <th>Year</th>\n",
       "      <th>CoachCategoryStartYear</th>\n",
       "      <th>JobOrganizationStartYear</th>\n",
       "    </tr>\n",
       "  </thead>\n",
       "  <tbody>\n",
       "    <tr>\n",
       "      <th>0</th>\n",
       "      <td>Абызова</td>\n",
       "      <td>Надежда</td>\n",
       "      <td>Викторовна</td>\n",
       "      <td>женский</td>\n",
       "      <td>1973-01-19</td>\n",
       "      <td>Большой спорт</td>\n",
       "      <td>Любой</td>\n",
       "      <td>6</td>\n",
       "      <td>901080390</td>\n",
       "      <td>Россия</td>\n",
       "      <td>...</td>\n",
       "      <td>акробатический рок-н-ролл</td>\n",
       "      <td>27</td>\n",
       "      <td>нет</td>\n",
       "      <td>ГБУ «СШ № 29 «Хамовники» Москомспорта</td>\n",
       "      <td>1994-06-01</td>\n",
       "      <td>Старший тренер</td>\n",
       "      <td>2014-05-06</td>\n",
       "      <td>1973</td>\n",
       "      <td>2014</td>\n",
       "      <td>1994</td>\n",
       "    </tr>\n",
       "    <tr>\n",
       "      <th>1</th>\n",
       "      <td>Алешина</td>\n",
       "      <td>Лариса</td>\n",
       "      <td>Владимировна</td>\n",
       "      <td>женский</td>\n",
       "      <td>1960-02-01</td>\n",
       "      <td>Большой спорт</td>\n",
       "      <td>Любой</td>\n",
       "      <td>6</td>\n",
       "      <td>901079981</td>\n",
       "      <td>Россия</td>\n",
       "      <td>...</td>\n",
       "      <td>акробатический рок-н-ролл</td>\n",
       "      <td>12</td>\n",
       "      <td>нет</td>\n",
       "      <td>ГБУ «СШ № 29 «Хамовники» Москомспорта</td>\n",
       "      <td>2017-01-17</td>\n",
       "      <td>Старший тренер</td>\n",
       "      <td>2016-04-01</td>\n",
       "      <td>1960</td>\n",
       "      <td>2016</td>\n",
       "      <td>2017</td>\n",
       "    </tr>\n",
       "    <tr>\n",
       "      <th>2</th>\n",
       "      <td>Андрюхин</td>\n",
       "      <td>Алексей</td>\n",
       "      <td>Михайлович</td>\n",
       "      <td>мужской</td>\n",
       "      <td>1973-11-21</td>\n",
       "      <td>Спортивный резерв</td>\n",
       "      <td>Любой</td>\n",
       "      <td>6</td>\n",
       "      <td>901080042</td>\n",
       "      <td>Россия</td>\n",
       "      <td>...</td>\n",
       "      <td>акробатический рок-н-ролл</td>\n",
       "      <td>16</td>\n",
       "      <td>нет</td>\n",
       "      <td>ГБУ «СШ № 29 «Хамовники» Москомспорта</td>\n",
       "      <td>2007-09-03</td>\n",
       "      <td>Старший тренер</td>\n",
       "      <td>2010-12-01</td>\n",
       "      <td>1973</td>\n",
       "      <td>2010</td>\n",
       "      <td>2007</td>\n",
       "    </tr>\n",
       "    <tr>\n",
       "      <th>3</th>\n",
       "      <td>Ануров</td>\n",
       "      <td>Александр</td>\n",
       "      <td>Львович</td>\n",
       "      <td>мужской</td>\n",
       "      <td>1957-11-10</td>\n",
       "      <td>Большой спорт</td>\n",
       "      <td>Любой</td>\n",
       "      <td>6</td>\n",
       "      <td>901080391</td>\n",
       "      <td>Россия</td>\n",
       "      <td>...</td>\n",
       "      <td>акробатический рок-н-ролл</td>\n",
       "      <td>39</td>\n",
       "      <td>нет</td>\n",
       "      <td>ГБУ «СШ № 29 «Хамовники» Москомспорта</td>\n",
       "      <td>2004-09-01</td>\n",
       "      <td>Старший тренер</td>\n",
       "      <td>2009-05-06</td>\n",
       "      <td>1957</td>\n",
       "      <td>2009</td>\n",
       "      <td>2004</td>\n",
       "    </tr>\n",
       "    <tr>\n",
       "      <th>4</th>\n",
       "      <td>Анурова</td>\n",
       "      <td>Екатерина</td>\n",
       "      <td>Александровна</td>\n",
       "      <td>женский</td>\n",
       "      <td>1993-03-21</td>\n",
       "      <td>Большой спорт</td>\n",
       "      <td>Любой</td>\n",
       "      <td>6</td>\n",
       "      <td>901080392</td>\n",
       "      <td>Россия</td>\n",
       "      <td>...</td>\n",
       "      <td>акробатический рок-н-ролл</td>\n",
       "      <td>6</td>\n",
       "      <td>нет</td>\n",
       "      <td>ГБУ «СШ № 29 «Хамовники» Москомспорта</td>\n",
       "      <td>2013-11-01</td>\n",
       "      <td>Старший тренер</td>\n",
       "      <td>2016-04-01</td>\n",
       "      <td>1993</td>\n",
       "      <td>2016</td>\n",
       "      <td>2013</td>\n",
       "    </tr>\n",
       "  </tbody>\n",
       "</table>\n",
       "<p>5 rows × 22 columns</p>\n",
       "</div>"
      ],
      "text/plain": [
       "   LastName       Name     MiddleName   Gender DateOfBirth  \\\n",
       "0   Абызова    Надежда     Викторовна  женский  1973-01-19   \n",
       "1   Алешина     Лариса   Владимировна  женский  1960-02-01   \n",
       "2  Андрюхин    Алексей     Михайлович  мужской  1973-11-21   \n",
       "3    Ануров  Александр        Львович  мужской  1957-11-10   \n",
       "4   Анурова  Екатерина  Александровна  женский  1993-03-21   \n",
       "\n",
       "  SportSpecialization SportActivityGender  SportActivityMinAge  global_id  \\\n",
       "0       Большой спорт               Любой                    6  901080390   \n",
       "1       Большой спорт               Любой                    6  901079981   \n",
       "2   Спортивный резерв               Любой                    6  901080042   \n",
       "3       Большой спорт               Любой                    6  901080391   \n",
       "4       Большой спорт               Любой                    6  901080392   \n",
       "\n",
       "  Citizenship  ...                  SportName SeniorityPeriod  \\\n",
       "0      Россия  ...  акробатический рок-н-ролл              27   \n",
       "1      Россия  ...  акробатический рок-н-ролл              12   \n",
       "2      Россия  ...  акробатический рок-н-ролл              16   \n",
       "3      Россия  ...  акробатический рок-н-ролл              39   \n",
       "4      Россия  ...  акробатический рок-н-ролл               6   \n",
       "\n",
       "  AvailabilityOfCertification                    JobOrganizationName  \\\n",
       "0                         нет  ГБУ «СШ № 29 «Хамовники» Москомспорта   \n",
       "1                         нет  ГБУ «СШ № 29 «Хамовники» Москомспорта   \n",
       "2                         нет  ГБУ «СШ № 29 «Хамовники» Москомспорта   \n",
       "3                         нет  ГБУ «СШ № 29 «Хамовники» Москомспорта   \n",
       "4                         нет  ГБУ «СШ № 29 «Хамовники» Москомспорта   \n",
       "\n",
       "  JobOrganizationStartDate CoachCategoryName CoachCategoryStartDate  Year  \\\n",
       "0               1994-06-01    Старший тренер             2014-05-06  1973   \n",
       "1               2017-01-17    Старший тренер             2016-04-01  1960   \n",
       "2               2007-09-03    Старший тренер             2010-12-01  1973   \n",
       "3               2004-09-01    Старший тренер             2009-05-06  1957   \n",
       "4               2013-11-01    Старший тренер             2016-04-01  1993   \n",
       "\n",
       "  CoachCategoryStartYear  JobOrganizationStartYear  \n",
       "0                   2014                      1994  \n",
       "1                   2016                      2017  \n",
       "2                   2010                      2007  \n",
       "3                   2009                      2004  \n",
       "4                   2016                      2013  \n",
       "\n",
       "[5 rows x 22 columns]"
      ]
     },
     "execution_count": 58,
     "metadata": {},
     "output_type": "execute_result"
    }
   ],
   "source": [
    "df_data.head()"
   ]
  },
  {
   "cell_type": "code",
   "execution_count": 64,
   "id": "3e97453d",
   "metadata": {},
   "outputs": [
    {
     "data": {
      "text/plain": [
       "<AxesSubplot:>"
      ]
     },
     "execution_count": 64,
     "metadata": {},
     "output_type": "execute_result"
    },
    {
     "data": {
      "image/png": "[encoded data removed]",
      "text/plain": [
       "<Figure size 432x288 with 1 Axes>"
      ]
     },
     "metadata": {
      "needs_background": "light"
     },
     "output_type": "display_data"
    }
   ],
   "source": [
    "df_data['CoachCategoryStartYear'].value_counts().sort_index().plot(kind = 'bar')"
   ]
  },
  {
   "cell_type": "markdown",
   "id": "545f02f6",
   "metadata": {},
   "source": [
    "Видно, подавляющему большинству тренеров присвоили квалификацию в 2016 году, что скорее всего связано с какими-нибудь административными указами или законами"
   ]
  },
  {
   "cell_type": "code",
   "execution_count": 65,
   "id": "56d9ef5c",
   "metadata": {},
   "outputs": [
    {
     "data": {
      "text/plain": [
       "<AxesSubplot:>"
      ]
     },
     "execution_count": 65,
     "metadata": {},
     "output_type": "execute_result"
    },
    {
     "data": {
      "image/png": "[encoded data removed]",
      "text/plain": [
       "<Figure size 432x288 with 1 Axes>"
      ]
     },
     "metadata": {
      "needs_background": "light"
     },
     "output_type": "display_data"
    }
   ],
   "source": [
    "df_data['JobOrganizationStartYear'].value_counts().sort_index().plot(kind = 'bar')"
   ]
  },
  {
   "cell_type": "markdown",
   "id": "7697724e",
   "metadata": {},
   "source": [
    "как мы видим наибольшее количество тренеров начало работу в 2012, что скорее всего связано с олимпийскими играми. Также был резкий всплеск в 2006 году"
   ]
  },
  {
   "cell_type": "code",
   "execution_count": 73,
   "id": "90af6739",
   "metadata": {},
   "outputs": [
    {
     "data": {
      "text/plain": [
       "легкая атлетика                38\n",
       "плавание                       29\n",
       "синхронное плавание            20\n",
       "футбол                         17\n",
       "фехтование                     15\n",
       "художественная гимнастика      14\n",
       "биатлон                        14\n",
       "лыжные гонки                   12\n",
       "теннис                         11\n",
       "фигурное катание на коньках    10\n",
       "спортивная борьба              10\n",
       "прыжки в воду                   9\n",
       "водное поло                     8\n",
       "спорт глухих                    8\n",
       "самбо                           8\n",
       "Name: SportName, dtype: int64"
      ]
     },
     "execution_count": 73,
     "metadata": {},
     "output_type": "execute_result"
    }
   ],
   "source": [
    "df_data[df_data['JobOrganizationStartYear']==2006]['SportName'].value_counts()[:15]"
   ]
  },
  {
   "cell_type": "code",
   "execution_count": 74,
   "id": "fe441d33",
   "metadata": {},
   "outputs": [
    {
     "data": {
      "text/plain": [
       "футбол                         76\n",
       "плавание                       54\n",
       "хоккей                         27\n",
       "баскетбол                      23\n",
       "фигурное катание на коньках    23\n",
       "спортивная борьба              18\n",
       "легкая атлетика                18\n",
       "дзюдо                          16\n",
       "спортивная гимнастика          14\n",
       "волейбол                       14\n",
       "лыжные гонки                   14\n",
       "тхэквондо                      13\n",
       "самбо                          13\n",
       "художественная гимнастика      12\n",
       "спорт лиц с поражением ода     12\n",
       "Name: SportName, dtype: int64"
      ]
     },
     "execution_count": 74,
     "metadata": {},
     "output_type": "execute_result"
    }
   ],
   "source": [
    "df_data[df_data['JobOrganizationStartYear']==2012]['SportName'].value_counts()[:15]"
   ]
  },
  {
   "cell_type": "markdown",
   "id": "bcff7502",
   "metadata": {},
   "source": [
    "Как мы видим наибольшее количество тренеров в 2012 году как раз стало работать в футболе...следовательно гипотеза об олимпийских играх не оправдалась. Проверим динамику сколько тренеров приходило в футбол по годам"
   ]
  },
  {
   "cell_type": "code",
   "execution_count": 79,
   "id": "1d82465a",
   "metadata": {},
   "outputs": [],
   "source": [
    "df_data_dinamic =df_data.pivot_table(\n",
    "    index = 'SportName',columns='JobOrganizationStartYear',aggfunc='count',values='global_id').fillna(0)"
   ]
  },
  {
   "cell_type": "markdown",
   "id": "fde15d8a",
   "metadata": {},
   "source": [
    "Построим графики по популярным видам спорта и сравним динамику прихода тренеров и попробуем узнать причину всплесков в 2006 и 2012 годах"
   ]
  },
  {
   "cell_type": "code",
   "execution_count": 114,
   "id": "ebcc2021",
   "metadata": {},
   "outputs": [],
   "source": [
    "def popular_sports(year:int):\n",
    "    \"\"\"возвращает 10 графиков начало работы различных тренеров в данных год\"\"\"\n",
    "    sports_ = df_data[df_data['JobOrganizationStartYear']==year]['SportName'].value_counts()[:10].index\n",
    "\n",
    "    fig , ax = plt.subplots(nrows = 5, ncols = 2,figsize=(10,15))\n",
    "    index = 0\n",
    "    ax = ax.flatten()\n",
    "    plt.subplots_adjust(wspace=0.1, hspace=0.5)\n",
    "    for k,v in enumerate(sports_):\n",
    "        ax[k].plot(df_data_dinamic.loc[v])\n",
    "        ax[k].set_xlabel(v)\n",
    "        ax[k].set_ylabel('')"
   ]
  },
  {
   "cell_type": "code",
   "execution_count": 115,
   "id": "8b9f09b6",
   "metadata": {},
   "outputs": [
    {
     "data": {
      "image/png": "[encoded data removed]",
      "text/plain": [
       "<Figure size 720x1080 with 10 Axes>"
      ]
     },
     "metadata": {
      "needs_background": "light"
     },
     "output_type": "display_data"
    }
   ],
   "source": [
    "popular_sports(2012)"
   ]
  },
  {
   "cell_type": "code",
   "execution_count": 116,
   "id": "c7c37f11",
   "metadata": {},
   "outputs": [
    {
     "data": {
      "image/png": "[encoded data removed]",
      "text/plain": [
       "<Figure size 720x1080 with 10 Axes>"
      ]
     },
     "metadata": {
      "needs_background": "light"
     },
     "output_type": "display_data"
    }
   ],
   "source": [
    "popular_sports(2006)"
   ]
  },
  {
   "cell_type": "markdown",
   "id": "57b44410",
   "metadata": {},
   "source": [
    "Как видим в 2006 году был максимальный рост в легкой атлетике, фехтованию и биатлоне\n",
    "В 2012 году же на пике были все 10 видов спорта( плавание, футбол, баскетбол и т.д)"
   ]
  },
  {
   "cell_type": "code",
   "execution_count": null,
   "id": "908f3e05",
   "metadata": {},
   "outputs": [],
   "source": []
  }
 ],
 "metadata": {
  "kernelspec": {
   "display_name": "Python 3",
   "language": "python",
   "name": "python3"
  },
  "language_info": {
   "codemirror_mode": {
    "name": "ipython",
    "version": 3
   },
   "file_extension": ".py",
   "mimetype": "text/x-python",
   "name": "python",
   "nbconvert_exporter": "python",
   "pygments_lexer": "ipython3",
   "version": "3.9.5"
  },
  "latex_envs": {
   "LaTeX_envs_menu_present": true,
   "autoclose": false,
   "autocomplete": true,
   "bibliofile": "biblio.bib",
   "cite_by": "apalike",
   "current_citInitial": 1,
   "eqLabelWithNumbers": true,
   "eqNumInitial": 1,
   "hotkeys": {
    "equation": "Ctrl-E",
    "itemize": "Ctrl-I"
   },
   "labels_anchors": false,
   "latex_user_defs": false,
   "report_style_numbering": false,
   "user_envs_cfg": false
  },
  "toc": {
   "base_numbering": 1,
   "nav_menu": {},
   "number_sections": true,
   "sideBar": true,
   "skip_h1_title": false,
   "title_cell": "Table of Contents",
   "title_sidebar": "Contents",
   "toc_cell": false,
   "toc_position": {},
   "toc_section_display": true,
   "toc_window_display": false
  }
 },
 "nbformat": 4,
 "nbformat_minor": 5
}
