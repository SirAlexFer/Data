{
 "cells": [
  {
   "cell_type": "code",
   "execution_count": 44,
   "id": "124d8051",
   "metadata": {},
   "outputs": [],
   "source": [
    "import pandas as pd\n",
    "import matplotlib.pyplot as plt\n",
    "import seaborn as sns\n",
    "\n",
    "%matplotlib inline"
   ]
  },
  {
   "cell_type": "code",
   "execution_count": 86,
   "id": "df16856e",
   "metadata": {},
   "outputs": [],
   "source": [
    "file_path = 'data-114682-2021-07-19.csv'\n",
    "df = pd.read_csv(file_path,sep=';',encoding='ANSI')\n",
    "df = df.iloc[:,:6]"
   ]
  },
  {
   "cell_type": "code",
   "execution_count": 87,
   "id": "967706ab",
   "metadata": {},
   "outputs": [
    {
     "data": {
      "text/html": [
       "<div>\n",
       "<style scoped>\n",
       "    .dataframe tbody tr th:only-of-type {\n",
       "        vertical-align: middle;\n",
       "    }\n",
       "\n",
       "    .dataframe tbody tr th {\n",
       "        vertical-align: top;\n",
       "    }\n",
       "\n",
       "    .dataframe thead th {\n",
       "        text-align: right;\n",
       "    }\n",
       "</style>\n",
       "<table border=\"1\" class=\"dataframe\">\n",
       "  <thead>\n",
       "    <tr style=\"text-align: right;\">\n",
       "      <th></th>\n",
       "      <th>ID</th>\n",
       "      <th>Year</th>\n",
       "      <th>Month</th>\n",
       "      <th>TransportType</th>\n",
       "      <th>PassengerTraffic</th>\n",
       "      <th>global_id</th>\n",
       "    </tr>\n",
       "  </thead>\n",
       "  <tbody>\n",
       "    <tr>\n",
       "      <th>0</th>\n",
       "      <td>1</td>\n",
       "      <td>2019</td>\n",
       "      <td>Январь</td>\n",
       "      <td>Автобус</td>\n",
       "      <td>90444485</td>\n",
       "      <td>1103632668</td>\n",
       "    </tr>\n",
       "    <tr>\n",
       "      <th>1</th>\n",
       "      <td>2</td>\n",
       "      <td>2019</td>\n",
       "      <td>Январь</td>\n",
       "      <td>Трамвай</td>\n",
       "      <td>16742026</td>\n",
       "      <td>1103632669</td>\n",
       "    </tr>\n",
       "    <tr>\n",
       "      <th>2</th>\n",
       "      <td>3</td>\n",
       "      <td>2019</td>\n",
       "      <td>Январь</td>\n",
       "      <td>Троллейбус</td>\n",
       "      <td>13094342</td>\n",
       "      <td>1103632670</td>\n",
       "    </tr>\n",
       "    <tr>\n",
       "      <th>3</th>\n",
       "      <td>4</td>\n",
       "      <td>2019</td>\n",
       "      <td>Январь</td>\n",
       "      <td>Электробус</td>\n",
       "      <td>469699</td>\n",
       "      <td>1103632671</td>\n",
       "    </tr>\n",
       "    <tr>\n",
       "      <th>4</th>\n",
       "      <td>5</td>\n",
       "      <td>2019</td>\n",
       "      <td>Январь</td>\n",
       "      <td>Московский метрополитен</td>\n",
       "      <td>213159369</td>\n",
       "      <td>1103632672</td>\n",
       "    </tr>\n",
       "  </tbody>\n",
       "</table>\n",
       "</div>"
      ],
      "text/plain": [
       "   ID  Year   Month            TransportType  PassengerTraffic   global_id\n",
       "0   1  2019  Январь                  Автобус          90444485  1103632668\n",
       "1   2  2019  Январь                  Трамвай          16742026  1103632669\n",
       "2   3  2019  Январь               Троллейбус          13094342  1103632670\n",
       "3   4  2019  Январь               Электробус            469699  1103632671\n",
       "4   5  2019  Январь  Московский метрополитен         213159369  1103632672"
      ]
     },
     "execution_count": 87,
     "metadata": {},
     "output_type": "execute_result"
    }
   ],
   "source": [
    "df.head()"
   ]
  },
  {
   "cell_type": "code",
   "execution_count": 6,
   "id": "315c850e",
   "metadata": {},
   "outputs": [
    {
     "name": "stdout",
     "output_type": "stream",
     "text": [
      "<class 'pandas.core.frame.DataFrame'>\n",
      "RangeIndex: 180 entries, 0 to 179\n",
      "Data columns (total 6 columns):\n",
      " #   Column            Non-Null Count  Dtype \n",
      "---  ------            --------------  ----- \n",
      " 0   ID                180 non-null    int64 \n",
      " 1   Year              180 non-null    int64 \n",
      " 2   Month             180 non-null    object\n",
      " 3   TransportType     180 non-null    object\n",
      " 4   PassengerTraffic  180 non-null    int64 \n",
      " 5   global_id         180 non-null    int64 \n",
      "dtypes: int64(4), object(2)\n",
      "memory usage: 8.6+ KB\n"
     ]
    }
   ],
   "source": [
    "df.info()"
   ]
  },
  {
   "cell_type": "markdown",
   "id": "8f3c1705-fce5-42e5-806d-29375987e5ea",
   "metadata": {},
   "source": [
    "Итак в наборе данных мы видим месяц, год, транспортное стредство и трафик пассажиров. Проведем краткий разведочный анализ, сгруппировав данные разным образом."
   ]
  },
  {
   "cell_type": "code",
   "execution_count": 9,
   "id": "a65483ff",
   "metadata": {},
   "outputs": [
    {
     "data": {
      "text/plain": [
       "count         0.180000\n",
       "mean      47300.086294\n",
       "std       64893.655839\n",
       "min           3.348000\n",
       "25%        5902.838750\n",
       "50%       12891.689500\n",
       "75%       83502.387750\n",
       "max      235783.338000\n",
       "Name: PassengerTraffic, dtype: float64"
      ]
     },
     "execution_count": 9,
     "metadata": {},
     "output_type": "execute_result"
    }
   ],
   "source": [
    "df['PassengerTraffic'].describe()/1000"
   ]
  },
  {
   "cell_type": "code",
   "execution_count": 25,
   "id": "1ebc820c",
   "metadata": {},
   "outputs": [
    {
     "name": "stdout",
     "output_type": "stream",
     "text": [
      "Среднее значение равно 47,300,086\n",
      "Стандартное отклонение равно 64,893,656\n",
      "Медиана равна 12,891,690\n"
     ]
    }
   ],
   "source": [
    "print('Среднее значение равно {:,.0f}'.format(df['PassengerTraffic'].mean()))\n",
    "print('Стандартное отклонение равно {:,.0f}'.format(df['PassengerTraffic'].std()))\n",
    "print('Медиана равна {:,.0f}'.format(df['PassengerTraffic'].median()))"
   ]
  },
  {
   "cell_type": "markdown",
   "id": "971eaa09-1b6f-4621-ad58-d40d849c0ec9",
   "metadata": {},
   "source": [
    "**таким образом мы видим, что выборка является неравномерной. Стандарное отклонение превышает среднее значение**"
   ]
  },
  {
   "cell_type": "markdown",
   "id": "52456e9d-e51d-48fc-a56f-b88113fb5c86",
   "metadata": {},
   "source": [
    "Предположим что это связано и типом транспорта. Поэтому рассмотрим выборку в разрезе транспортных средств"
   ]
  },
  {
   "cell_type": "code",
   "execution_count": 30,
   "id": "5c3cccdb",
   "metadata": {},
   "outputs": [
    {
     "data": {
      "text/plain": [
       "['Автобус',\n",
       " 'Трамвай',\n",
       " 'Троллейбус',\n",
       " 'Электробус',\n",
       " 'Московский метрополитен',\n",
       " 'Московское центральное кольцо']"
      ]
     },
     "execution_count": 30,
     "metadata": {},
     "output_type": "execute_result"
    }
   ],
   "source": [
    "TransportType_list = list(df['TransportType'].unique())\n",
    "TransportType_list"
   ]
  },
  {
   "cell_type": "code",
   "execution_count": 69,
   "id": "b51eb60c-8672-42b4-8a6d-ae50316c1200",
   "metadata": {},
   "outputs": [
    {
     "data": {
      "image/png": "[encoded data removed]",
      "text/plain": [
       "<Figure size 720x576 with 6 Axes>"
      ]
     },
     "metadata": {},
     "output_type": "display_data"
    }
   ],
   "source": [
    "plt.style.use('ggplot')\n",
    "fig , ax = plt.subplots(nrows = 2, ncols = 3,figsize=(10,8))\n",
    "index = 0\n",
    "ax = ax.flatten()\n",
    "for k,v in enumerate(TransportType_list):\n",
    "    ax_h = sns.histplot(df['PassengerTraffic'][df['TransportType']==v],bins=12,ax=ax[k])\n",
    "    ax_h.set_xlabel(v)\n",
    "    ax_h.set_ylabel('')\n",
    "    index += 1"
   ]
  },
  {
   "cell_type": "markdown",
   "id": "c2ab3804-a735-4fa2-88f3-7ed6c91cc4e1",
   "metadata": {},
   "source": [
    "Мы видим, что распределения неравномерны и отличаются. Теперь проверим данные в динамике. Для этого преобразуем год и месяц в дату"
   ]
  },
  {
   "cell_type": "markdown",
   "id": "2db0532c-4e3a-4925-8de6-9cca11ec0adb",
   "metadata": {},
   "source": [
    "Воспользуемся немного сложноватой для прочтения формулой, чтобы получить словарь с численными значениями месяцов"
   ]
  },
  {
   "cell_type": "code",
   "execution_count": 75,
   "id": "182ae50d-9713-4f27-956c-f9439d0a8202",
   "metadata": {},
   "outputs": [],
   "source": [
    "month_replace_data = {v:k for k,v in enumerate(list(df['Month'].unique()),1)}\n",
    "\n",
    "    "
   ]
  },
  {
   "cell_type": "code",
   "execution_count": 88,
   "id": "e0cf03eb-f02b-4cde-bc90-d612be8d3d21",
   "metadata": {},
   "outputs": [],
   "source": [
    "df['Month'] = df['Month'].apply(lambda x:str(month_replace_data[x]))"
   ]
  },
  {
   "cell_type": "code",
   "execution_count": 93,
   "id": "04c4ca6c-f43b-4b8a-a016-6aa884514849",
   "metadata": {},
   "outputs": [],
   "source": [
    "df[\"Date\"] = df['Year'].apply(str)+'.'+df['Month']+'.1'\n",
    "df[\"Date\"] = pd.to_datetime(df[\"Date\"])"
   ]
  },
  {
   "cell_type": "code",
   "execution_count": 99,
   "id": "4ad5a083-85b4-4990-bc90-420d660a718d",
   "metadata": {},
   "outputs": [
    {
     "data": {
      "text/plain": [
       "<matplotlib.legend.Legend at 0x24055634c40>"
      ]
     },
     "execution_count": 99,
     "metadata": {},
     "output_type": "execute_result"
    },
    {
     "data": {
      "image/png": "[encoded data removed]",
      "text/plain": [
       "<Figure size 432x288 with 1 Axes>"
      ]
     },
     "metadata": {},
     "output_type": "display_data"
    }
   ],
   "source": [
    "df.pivot_table(index = 'Date',columns = 'TransportType',values = 'PassengerTraffic',aggfunc ='sum').plot()\n",
    "plt.legend(bbox_to_anchor=(1, 0.6))"
   ]
  },
  {
   "cell_type": "markdown",
   "id": "8a0a13ae-1a2f-4383-9c64-9789f2a1e834",
   "metadata": {},
   "source": [
    " По графику видно что наблюдается явное снижение пассажиропотока в период ковида\n",
    " Также можно заменить что автобус и московский метрополитен значительно обходят другие транспортные средства "
   ]
  },
  {
   "cell_type": "code",
   "execution_count": 121,
   "id": "11afaef8-d028-4dec-95ba-ed2a7cbf8269",
   "metadata": {},
   "outputs": [],
   "source": [
    "df_passenger = df.pivot_table(index = 'TransportType',values = 'PassengerTraffic',aggfunc =['sum','median','min','max'])\n",
    "df_passenger.columns = ['sum_passanger','median_passanger','min_passanger','max_passanger']"
   ]
  },
  {
   "cell_type": "code",
   "execution_count": 122,
   "id": "56a43759-435a-4142-9ffa-d5d76b30bb1c",
   "metadata": {},
   "outputs": [
    {
     "data": {
      "text/html": [
       "<style type=\"text/css\">\n",
       "#T_a43c1_row1_col0, #T_a43c1_row1_col1, #T_a43c1_row1_col2, #T_a43c1_row1_col3 {\n",
       "  background-color: yellowgreen;\n",
       "}\n",
       "#T_a43c1_row4_col2, #T_a43c1_row5_col0, #T_a43c1_row5_col1, #T_a43c1_row5_col3 {\n",
       "  background-color: coral;\n",
       "}\n",
       "</style>\n",
       "<table id=\"T_a43c1_\">\n",
       "  <thead>\n",
       "    <tr>\n",
       "      <th class=\"blank level0\" >&nbsp;</th>\n",
       "      <th class=\"col_heading level0 col0\" >sum_passanger</th>\n",
       "      <th class=\"col_heading level0 col1\" >median_passanger</th>\n",
       "      <th class=\"col_heading level0 col2\" >min_passanger</th>\n",
       "      <th class=\"col_heading level0 col3\" >max_passanger</th>\n",
       "    </tr>\n",
       "    <tr>\n",
       "      <th class=\"index_name level0\" >TransportType</th>\n",
       "      <th class=\"blank col0\" >&nbsp;</th>\n",
       "      <th class=\"blank col1\" >&nbsp;</th>\n",
       "      <th class=\"blank col2\" >&nbsp;</th>\n",
       "      <th class=\"blank col3\" >&nbsp;</th>\n",
       "    </tr>\n",
       "  </thead>\n",
       "  <tbody>\n",
       "    <tr>\n",
       "      <th id=\"T_a43c1_level0_row0\" class=\"row_heading level0 row0\" >Автобус</th>\n",
       "      <td id=\"T_a43c1_row0_col0\" class=\"data row0 col0\" >2,390,081,404</td>\n",
       "      <td id=\"T_a43c1_row0_col1\" class=\"data row0 col1\" >85,520,999</td>\n",
       "      <td id=\"T_a43c1_row0_col2\" class=\"data row0 col2\" >18,882,075</td>\n",
       "      <td id=\"T_a43c1_row0_col3\" class=\"data row0 col3\" >113,493,040</td>\n",
       "    </tr>\n",
       "    <tr>\n",
       "      <th id=\"T_a43c1_level0_row1\" class=\"row_heading level0 row1\" >Московский метрополитен</th>\n",
       "      <td id=\"T_a43c1_row1_col0\" class=\"data row1 col0\" >5,077,603,921</td>\n",
       "      <td id=\"T_a43c1_row1_col1\" class=\"data row1 col1\" >178,827,808</td>\n",
       "      <td id=\"T_a43c1_row1_col2\" class=\"data row1 col2\" >31,757,080</td>\n",
       "      <td id=\"T_a43c1_row1_col3\" class=\"data row1 col3\" >235,783,338</td>\n",
       "    </tr>\n",
       "    <tr>\n",
       "      <th id=\"T_a43c1_level0_row2\" class=\"row_heading level0 row2\" >Московское центральное кольцо</th>\n",
       "      <td id=\"T_a43c1_row2_col0\" class=\"data row2 col0\" >334,983,655</td>\n",
       "      <td id=\"T_a43c1_row2_col1\" class=\"data row2 col1\" >11,777,912</td>\n",
       "      <td id=\"T_a43c1_row2_col2\" class=\"data row2 col2\" >2,433,031</td>\n",
       "      <td id=\"T_a43c1_row2_col3\" class=\"data row2 col3\" >14,447,999</td>\n",
       "    </tr>\n",
       "    <tr>\n",
       "      <th id=\"T_a43c1_level0_row3\" class=\"row_heading level0 row3\" >Трамвай</th>\n",
       "      <td id=\"T_a43c1_row3_col0\" class=\"data row3 col0\" >413,706,999</td>\n",
       "      <td id=\"T_a43c1_row3_col1\" class=\"data row3 col1\" >14,875,998</td>\n",
       "      <td id=\"T_a43c1_row3_col2\" class=\"data row3 col2\" >3,208,945</td>\n",
       "      <td id=\"T_a43c1_row3_col3\" class=\"data row3 col3\" >21,153,024</td>\n",
       "    </tr>\n",
       "    <tr>\n",
       "      <th id=\"T_a43c1_level0_row4\" class=\"row_heading level0 row4\" >Троллейбус</th>\n",
       "      <td id=\"T_a43c1_row4_col0\" class=\"data row4 col0\" >195,299,372</td>\n",
       "      <td id=\"T_a43c1_row4_col1\" class=\"data row4 col1\" >6,191,261</td>\n",
       "      <td id=\"T_a43c1_row4_col2\" class=\"data row4 col2\" >3,348</td>\n",
       "      <td id=\"T_a43c1_row4_col3\" class=\"data row4 col3\" >15,835,418</td>\n",
       "    </tr>\n",
       "    <tr>\n",
       "      <th id=\"T_a43c1_level0_row5\" class=\"row_heading level0 row5\" >Электробус</th>\n",
       "      <td id=\"T_a43c1_row5_col0\" class=\"data row5 col0\" >102,340,182</td>\n",
       "      <td id=\"T_a43c1_row5_col1\" class=\"data row5 col1\" >3,684,134</td>\n",
       "      <td id=\"T_a43c1_row5_col2\" class=\"data row5 col2\" >469,699</td>\n",
       "      <td id=\"T_a43c1_row5_col3\" class=\"data row5 col3\" >7,388,223</td>\n",
       "    </tr>\n",
       "  </tbody>\n",
       "</table>\n"
      ],
      "text/plain": [
       "<pandas.io.formats.style.Styler at 0x24055660970>"
      ]
     },
     "execution_count": 122,
     "metadata": {},
     "output_type": "execute_result"
    }
   ],
   "source": [
    "(df_passenger.style.format('{:,.0f}')\n",
    "             .highlight_max(color='yellowgreen')\n",
    "             .highlight_min(color='coral'))"
   ]
  },
  {
   "cell_type": "code",
   "execution_count": null,
   "id": "16cbe28b-aaa2-48d1-b8b7-c4278404939e",
   "metadata": {},
   "outputs": [],
   "source": []
  },
  {
   "cell_type": "code",
   "execution_count": null,
   "id": "4d3134f3-04f4-4f50-be41-ef9b9957b03e",
   "metadata": {},
   "outputs": [],
   "source": []
  },
  {
   "cell_type": "code",
   "execution_count": null,
   "id": "f6895a75-5530-4bb5-a6aa-73186d167c90",
   "metadata": {},
   "outputs": [],
   "source": []
  },
  {
   "cell_type": "code",
   "execution_count": null,
   "id": "21bee33c-653a-4bed-95af-87b5e65f8709",
   "metadata": {},
   "outputs": [],
   "source": []
  },
  {
   "cell_type": "code",
   "execution_count": null,
   "id": "4c67a1f7-33cc-4585-899b-b37b95f9f026",
   "metadata": {},
   "outputs": [],
   "source": []
  },
  {
   "cell_type": "code",
   "execution_count": null,
   "id": "ca5b4e24-a352-4870-840f-ef62f84cda3d",
   "metadata": {},
   "outputs": [],
   "source": []
  },
  {
   "cell_type": "code",
   "execution_count": null,
   "id": "06ddc205-925b-49d6-bb67-e027d1e86402",
   "metadata": {},
   "outputs": [],
   "source": []
  },
  {
   "cell_type": "code",
   "execution_count": null,
   "id": "d6d2184d-182c-45b3-9c5f-0f095fb34433",
   "metadata": {},
   "outputs": [],
   "source": []
  },
  {
   "cell_type": "code",
   "execution_count": null,
   "id": "30737acb-6d7d-4026-9ef2-ec275f49a2db",
   "metadata": {},
   "outputs": [],
   "source": []
  },
  {
   "cell_type": "code",
   "execution_count": null,
   "id": "3d552a84-1a66-4f5e-af06-bff2676ba8c6",
   "metadata": {},
   "outputs": [],
   "source": []
  },
  {
   "cell_type": "code",
   "execution_count": null,
   "id": "9f868de8",
   "metadata": {},
   "outputs": [],
   "source": []
  },
  {
   "cell_type": "code",
   "execution_count": null,
   "id": "202fac95",
   "metadata": {},
   "outputs": [],
   "source": []
  },
  {
   "cell_type": "code",
   "execution_count": null,
   "id": "ec17de87",
   "metadata": {},
   "outputs": [],
   "source": []
  },
  {
   "cell_type": "code",
   "execution_count": null,
   "id": "f5906191",
   "metadata": {},
   "outputs": [],
   "source": []
  },
  {
   "cell_type": "code",
   "execution_count": null,
   "id": "88a524eb",
   "metadata": {},
   "outputs": [],
   "source": []
  },
  {
   "cell_type": "code",
   "execution_count": null,
   "id": "ac8a9c00-3ca7-439c-8dd5-ddbaec0b7a2b",
   "metadata": {},
   "outputs": [],
   "source": []
  }
 ],
 "metadata": {
  "kernelspec": {
   "display_name": "Python 3",
   "language": "python",
   "name": "python3"
  },
  "language_info": {
   "codemirror_mode": {
    "name": "ipython",
    "version": 3
   },
   "file_extension": ".py",
   "mimetype": "text/x-python",
   "name": "python",
   "nbconvert_exporter": "python",
   "pygments_lexer": "ipython3",
   "version": "3.9.5"
  },
  "latex_envs": {
   "LaTeX_envs_menu_present": true,
   "autoclose": false,
   "autocomplete": true,
   "bibliofile": "biblio.bib",
   "cite_by": "apalike",
   "current_citInitial": 1,
   "eqLabelWithNumbers": true,
   "eqNumInitial": 1,
   "hotkeys": {
    "equation": "Ctrl-E",
    "itemize": "Ctrl-I"
   },
   "labels_anchors": false,
   "latex_user_defs": false,
   "report_style_numbering": false,
   "user_envs_cfg": false
  },
  "toc": {
   "base_numbering": 1,
   "nav_menu": {},
   "number_sections": true,
   "sideBar": true,
   "skip_h1_title": false,
   "title_cell": "Table of Contents",
   "title_sidebar": "Contents",
   "toc_cell": false,
   "toc_position": {},
   "toc_section_display": true,
   "toc_window_display": false
  }
 },
 "nbformat": 4,
 "nbformat_minor": 5
}
