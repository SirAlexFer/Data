{
 "cells": [
  {
   "cell_type": "markdown",
   "id": "4b488b54-1ee0-4b24-88fc-a7b3cdfee060",
   "metadata": {},
   "source": [
    "# Гладких Алексей. Машинное обучение"
   ]
  },
  {
   "cell_type": "markdown",
   "id": "a6ec04d1-c2fc-42ae-baf0-59ec06c7b61d",
   "metadata": {},
   "source": [
    "В данном проекте будет рассмотрено несколько вариантов применения моделей машинного обучения. Датасет и задание взято из интернета\n",
    "\n",
    "Задание для проекта взято из источника [Kaggle открытый проект](https://www.kaggle.com/arturmatosyan/notebook93a94bb3fa)"
   ]
  },
  {
   "cell_type": "markdown",
   "id": "a633d481-e475-4495-a0db-bf9e983c588c",
   "metadata": {},
   "source": [
    "## Загрузка библиотек и функций, необходимых для работы"
   ]
  },
  {
   "cell_type": "code",
   "execution_count": 1,
   "id": "22010817-5570-4941-a3f1-8f28997cc598",
   "metadata": {},
   "outputs": [],
   "source": [
    "import pandas as pd\n",
    "import numpy as np\n",
    "import matplotlib.pyplot as plt\n",
    "\n",
    "import seaborn as sns\n",
    "import pandas_profiling\n",
    "\n",
    "import warnings\n",
    "warnings.filterwarnings('ignore')\n",
    "\n",
    "%matplotlib inline"
   ]
  },
  {
   "cell_type": "code",
   "execution_count": 55,
   "id": "b50aef31-8fae-4853-afe9-e6b95554bddb",
   "metadata": {},
   "outputs": [],
   "source": [
    "df_train = pd.read_csv('train.csv')\n",
    "df_test = pd.read_csv('test.csv')"
   ]
  },
  {
   "cell_type": "markdown",
   "id": "1a1bfa81-38bd-4fc4-b46b-c3d2cc0d3c31",
   "metadata": {},
   "source": [
    "## Предобработка данных"
   ]
  },
  {
   "cell_type": "markdown",
   "id": "cd7c320e-c74a-466f-8f5d-5a3117eaa329",
   "metadata": {
    "tags": []
   },
   "source": [
    "### Описание датасета"
   ]
  },
  {
   "cell_type": "markdown",
   "id": "0af4dd18-ccc6-4423-ab79-05d25a337642",
   "metadata": {},
   "source": [
    "* **Id** - идентификационный номер квартиры,\n",
    "* **DistrictId** - идентификационный номер района,\n",
    "* **Rooms** - количество комнат,\n",
    "* **Square** - площадь,\n",
    "* **LifeSquare** - жилая площадь,\n",
    "* **KitchenSquare** - площадь кухни,\n",
    "* **Floor** - этаж,\n",
    "* **HouseFloor** - количество этажей в доме,\n",
    "* **HouseYear** - год постройки дома,\n",
    "* **Ecology_1, Ecology_2, Ecology_3** - экологические показатели местности,\n",
    "* **Social_1, Social_2, Social_3** - социальные показатели местности,\n",
    "* **Healthcare_1, Helthcare_2** - показатели местности, связанные с охраной здоровья,\n",
    "* **Shops_1, Shops_2** - показатели, связанные с наличием магазинов, торговых центров,\n",
    "* **Price** - цена квартиры"
   ]
  },
  {
   "cell_type": "markdown",
   "id": "45734ca3-052e-4722-9961-2d05493fa106",
   "metadata": {},
   "source": [
    "Целевая переменная - ***Price***"
   ]
  },
  {
   "cell_type": "code",
   "execution_count": 56,
   "id": "76d939ec-80a9-4030-b9ee-fa585ea39dbd",
   "metadata": {},
   "outputs": [
    {
     "data": {
      "text/html": [
       "<div>\n",
       "<style scoped>\n",
       "    .dataframe tbody tr th:only-of-type {\n",
       "        vertical-align: middle;\n",
       "    }\n",
       "\n",
       "    .dataframe tbody tr th {\n",
       "        vertical-align: top;\n",
       "    }\n",
       "\n",
       "    .dataframe thead th {\n",
       "        text-align: right;\n",
       "    }\n",
       "</style>\n",
       "<table border=\"1\" class=\"dataframe\">\n",
       "  <thead>\n",
       "    <tr style=\"text-align: right;\">\n",
       "      <th></th>\n",
       "      <th>Id</th>\n",
       "      <th>DistrictId</th>\n",
       "      <th>Rooms</th>\n",
       "      <th>Square</th>\n",
       "      <th>LifeSquare</th>\n",
       "      <th>KitchenSquare</th>\n",
       "      <th>Floor</th>\n",
       "      <th>HouseFloor</th>\n",
       "      <th>HouseYear</th>\n",
       "      <th>Ecology_1</th>\n",
       "      <th>Ecology_2</th>\n",
       "      <th>Ecology_3</th>\n",
       "      <th>Social_1</th>\n",
       "      <th>Social_2</th>\n",
       "      <th>Social_3</th>\n",
       "      <th>Healthcare_1</th>\n",
       "      <th>Helthcare_2</th>\n",
       "      <th>Shops_1</th>\n",
       "      <th>Shops_2</th>\n",
       "      <th>Price</th>\n",
       "    </tr>\n",
       "  </thead>\n",
       "  <tbody>\n",
       "    <tr>\n",
       "      <th>0</th>\n",
       "      <td>14038</td>\n",
       "      <td>35</td>\n",
       "      <td>2.0</td>\n",
       "      <td>47.981561</td>\n",
       "      <td>29.442751</td>\n",
       "      <td>6.0</td>\n",
       "      <td>7</td>\n",
       "      <td>9.0</td>\n",
       "      <td>1969</td>\n",
       "      <td>0.089040</td>\n",
       "      <td>B</td>\n",
       "      <td>B</td>\n",
       "      <td>33</td>\n",
       "      <td>7976</td>\n",
       "      <td>5</td>\n",
       "      <td>NaN</td>\n",
       "      <td>0</td>\n",
       "      <td>11</td>\n",
       "      <td>B</td>\n",
       "      <td>184966.930730</td>\n",
       "    </tr>\n",
       "    <tr>\n",
       "      <th>1</th>\n",
       "      <td>15053</td>\n",
       "      <td>41</td>\n",
       "      <td>3.0</td>\n",
       "      <td>65.683640</td>\n",
       "      <td>40.049543</td>\n",
       "      <td>8.0</td>\n",
       "      <td>7</td>\n",
       "      <td>9.0</td>\n",
       "      <td>1978</td>\n",
       "      <td>0.000070</td>\n",
       "      <td>B</td>\n",
       "      <td>B</td>\n",
       "      <td>46</td>\n",
       "      <td>10309</td>\n",
       "      <td>1</td>\n",
       "      <td>240.0</td>\n",
       "      <td>1</td>\n",
       "      <td>16</td>\n",
       "      <td>B</td>\n",
       "      <td>300009.450063</td>\n",
       "    </tr>\n",
       "    <tr>\n",
       "      <th>2</th>\n",
       "      <td>4765</td>\n",
       "      <td>53</td>\n",
       "      <td>2.0</td>\n",
       "      <td>44.947953</td>\n",
       "      <td>29.197612</td>\n",
       "      <td>0.0</td>\n",
       "      <td>8</td>\n",
       "      <td>12.0</td>\n",
       "      <td>1968</td>\n",
       "      <td>0.049637</td>\n",
       "      <td>B</td>\n",
       "      <td>B</td>\n",
       "      <td>34</td>\n",
       "      <td>7759</td>\n",
       "      <td>0</td>\n",
       "      <td>229.0</td>\n",
       "      <td>1</td>\n",
       "      <td>3</td>\n",
       "      <td>B</td>\n",
       "      <td>220925.908524</td>\n",
       "    </tr>\n",
       "    <tr>\n",
       "      <th>3</th>\n",
       "      <td>5809</td>\n",
       "      <td>58</td>\n",
       "      <td>2.0</td>\n",
       "      <td>53.352981</td>\n",
       "      <td>52.731512</td>\n",
       "      <td>9.0</td>\n",
       "      <td>8</td>\n",
       "      <td>17.0</td>\n",
       "      <td>1977</td>\n",
       "      <td>0.437885</td>\n",
       "      <td>B</td>\n",
       "      <td>B</td>\n",
       "      <td>23</td>\n",
       "      <td>5735</td>\n",
       "      <td>3</td>\n",
       "      <td>1084.0</td>\n",
       "      <td>0</td>\n",
       "      <td>5</td>\n",
       "      <td>B</td>\n",
       "      <td>175616.227217</td>\n",
       "    </tr>\n",
       "    <tr>\n",
       "      <th>4</th>\n",
       "      <td>10783</td>\n",
       "      <td>99</td>\n",
       "      <td>1.0</td>\n",
       "      <td>39.649192</td>\n",
       "      <td>23.776169</td>\n",
       "      <td>7.0</td>\n",
       "      <td>11</td>\n",
       "      <td>12.0</td>\n",
       "      <td>1976</td>\n",
       "      <td>0.012339</td>\n",
       "      <td>B</td>\n",
       "      <td>B</td>\n",
       "      <td>35</td>\n",
       "      <td>5776</td>\n",
       "      <td>1</td>\n",
       "      <td>2078.0</td>\n",
       "      <td>2</td>\n",
       "      <td>4</td>\n",
       "      <td>B</td>\n",
       "      <td>150226.531644</td>\n",
       "    </tr>\n",
       "  </tbody>\n",
       "</table>\n",
       "</div>"
      ],
      "text/plain": [
       "      Id  DistrictId  Rooms     Square  LifeSquare  KitchenSquare  Floor  \\\n",
       "0  14038          35    2.0  47.981561   29.442751            6.0      7   \n",
       "1  15053          41    3.0  65.683640   40.049543            8.0      7   \n",
       "2   4765          53    2.0  44.947953   29.197612            0.0      8   \n",
       "3   5809          58    2.0  53.352981   52.731512            9.0      8   \n",
       "4  10783          99    1.0  39.649192   23.776169            7.0     11   \n",
       "\n",
       "   HouseFloor  HouseYear  Ecology_1 Ecology_2 Ecology_3  Social_1  Social_2  \\\n",
       "0         9.0       1969   0.089040         B         B        33      7976   \n",
       "1         9.0       1978   0.000070         B         B        46     10309   \n",
       "2        12.0       1968   0.049637         B         B        34      7759   \n",
       "3        17.0       1977   0.437885         B         B        23      5735   \n",
       "4        12.0       1976   0.012339         B         B        35      5776   \n",
       "\n",
       "   Social_3  Healthcare_1  Helthcare_2  Shops_1 Shops_2          Price  \n",
       "0         5           NaN            0       11       B  184966.930730  \n",
       "1         1         240.0            1       16       B  300009.450063  \n",
       "2         0         229.0            1        3       B  220925.908524  \n",
       "3         3        1084.0            0        5       B  175616.227217  \n",
       "4         1        2078.0            2        4       B  150226.531644  "
      ]
     },
     "execution_count": 56,
     "metadata": {},
     "output_type": "execute_result"
    }
   ],
   "source": [
    "df_train.head()"
   ]
  },
  {
   "cell_type": "code",
   "execution_count": 57,
   "id": "5d1de5a4-5c1c-41a9-a00a-7b19ecf951ed",
   "metadata": {},
   "outputs": [
    {
     "name": "stdout",
     "output_type": "stream",
     "text": [
      "<class 'pandas.core.frame.DataFrame'>\n",
      "RangeIndex: 10000 entries, 0 to 9999\n",
      "Data columns (total 20 columns):\n",
      " #   Column         Non-Null Count  Dtype  \n",
      "---  ------         --------------  -----  \n",
      " 0   Id             10000 non-null  int64  \n",
      " 1   DistrictId     10000 non-null  int64  \n",
      " 2   Rooms          10000 non-null  float64\n",
      " 3   Square         10000 non-null  float64\n",
      " 4   LifeSquare     7887 non-null   float64\n",
      " 5   KitchenSquare  10000 non-null  float64\n",
      " 6   Floor          10000 non-null  int64  \n",
      " 7   HouseFloor     10000 non-null  float64\n",
      " 8   HouseYear      10000 non-null  int64  \n",
      " 9   Ecology_1      10000 non-null  float64\n",
      " 10  Ecology_2      10000 non-null  object \n",
      " 11  Ecology_3      10000 non-null  object \n",
      " 12  Social_1       10000 non-null  int64  \n",
      " 13  Social_2       10000 non-null  int64  \n",
      " 14  Social_3       10000 non-null  int64  \n",
      " 15  Healthcare_1   5202 non-null   float64\n",
      " 16  Helthcare_2    10000 non-null  int64  \n",
      " 17  Shops_1        10000 non-null  int64  \n",
      " 18  Shops_2        10000 non-null  object \n",
      " 19  Price          10000 non-null  float64\n",
      "dtypes: float64(8), int64(9), object(3)\n",
      "memory usage: 1.5+ MB\n"
     ]
    }
   ],
   "source": [
    "df_train.info()"
   ]
  },
  {
   "cell_type": "code",
   "execution_count": 58,
   "id": "77fc2068-241d-4fc3-8d4d-fbadc1510ef9",
   "metadata": {},
   "outputs": [
    {
     "name": "stdout",
     "output_type": "stream",
     "text": [
      "<class 'pandas.core.frame.DataFrame'>\n",
      "RangeIndex: 5000 entries, 0 to 4999\n",
      "Data columns (total 19 columns):\n",
      " #   Column         Non-Null Count  Dtype  \n",
      "---  ------         --------------  -----  \n",
      " 0   Id             5000 non-null   int64  \n",
      " 1   DistrictId     5000 non-null   int64  \n",
      " 2   Rooms          5000 non-null   float64\n",
      " 3   Square         5000 non-null   float64\n",
      " 4   LifeSquare     3959 non-null   float64\n",
      " 5   KitchenSquare  5000 non-null   float64\n",
      " 6   Floor          5000 non-null   int64  \n",
      " 7   HouseFloor     5000 non-null   float64\n",
      " 8   HouseYear      5000 non-null   int64  \n",
      " 9   Ecology_1      5000 non-null   float64\n",
      " 10  Ecology_2      5000 non-null   object \n",
      " 11  Ecology_3      5000 non-null   object \n",
      " 12  Social_1       5000 non-null   int64  \n",
      " 13  Social_2       5000 non-null   int64  \n",
      " 14  Social_3       5000 non-null   int64  \n",
      " 15  Healthcare_1   2623 non-null   float64\n",
      " 16  Helthcare_2    5000 non-null   int64  \n",
      " 17  Shops_1        5000 non-null   int64  \n",
      " 18  Shops_2        5000 non-null   object \n",
      "dtypes: float64(7), int64(9), object(3)\n",
      "memory usage: 742.3+ KB\n"
     ]
    },
    {
     "data": {
      "text/plain": [
       "None"
      ]
     },
     "metadata": {},
     "output_type": "display_data"
    }
   ],
   "source": [
    "display(df_test.info())"
   ]
  },
  {
   "cell_type": "code",
   "execution_count": 59,
   "id": "89fef70d-b92f-47c8-98f9-d9f09bfd6873",
   "metadata": {},
   "outputs": [
    {
     "data": {
      "text/plain": [
       "Id                 int64\n",
       "DistrictId         int64\n",
       "Rooms            float64\n",
       "Square           float64\n",
       "LifeSquare       float64\n",
       "KitchenSquare    float64\n",
       "Floor              int64\n",
       "HouseFloor       float64\n",
       "HouseYear          int64\n",
       "Ecology_1        float64\n",
       "Ecology_2         object\n",
       "Ecology_3         object\n",
       "Social_1           int64\n",
       "Social_2           int64\n",
       "Social_3           int64\n",
       "Healthcare_1     float64\n",
       "Helthcare_2        int64\n",
       "Shops_1            int64\n",
       "Shops_2           object\n",
       "Price            float64\n",
       "dtype: object"
      ]
     },
     "execution_count": 59,
     "metadata": {},
     "output_type": "execute_result"
    }
   ],
   "source": [
    "df_train.dtypes"
   ]
  },
  {
   "cell_type": "code",
   "execution_count": 60,
   "id": "c77f326f-43ea-4854-9637-b6b95dcfc301",
   "metadata": {},
   "outputs": [],
   "source": [
    "df_train['DistrictId'] = df_train['DistrictId'].astype(str)\n",
    "df_test['DistrictId'] = df_test['DistrictId'].astype(str)\n",
    "df_train['Id'] = df_train['DistrictId'].astype(str)\n",
    "df_test['Id'] = df_test['Id'].astype(str)"
   ]
  },
  {
   "cell_type": "code",
   "execution_count": 8,
   "id": "6a7b74b2-7f3e-41b7-a864-3cadb0d2022f",
   "metadata": {},
   "outputs": [
    {
     "data": {
      "text/html": [
       "<div>\n",
       "<style scoped>\n",
       "    .dataframe tbody tr th:only-of-type {\n",
       "        vertical-align: middle;\n",
       "    }\n",
       "\n",
       "    .dataframe tbody tr th {\n",
       "        vertical-align: top;\n",
       "    }\n",
       "\n",
       "    .dataframe thead th {\n",
       "        text-align: right;\n",
       "    }\n",
       "</style>\n",
       "<table border=\"1\" class=\"dataframe\">\n",
       "  <thead>\n",
       "    <tr style=\"text-align: right;\">\n",
       "      <th></th>\n",
       "      <th>Rooms</th>\n",
       "      <th>Square</th>\n",
       "      <th>LifeSquare</th>\n",
       "      <th>KitchenSquare</th>\n",
       "      <th>Floor</th>\n",
       "      <th>HouseFloor</th>\n",
       "      <th>HouseYear</th>\n",
       "      <th>Ecology_1</th>\n",
       "      <th>Social_1</th>\n",
       "      <th>Social_2</th>\n",
       "      <th>Social_3</th>\n",
       "      <th>Healthcare_1</th>\n",
       "      <th>Helthcare_2</th>\n",
       "      <th>Shops_1</th>\n",
       "      <th>Price</th>\n",
       "    </tr>\n",
       "  </thead>\n",
       "  <tbody>\n",
       "    <tr>\n",
       "      <th>count</th>\n",
       "      <td>10000.000000</td>\n",
       "      <td>10000.000000</td>\n",
       "      <td>7887.000000</td>\n",
       "      <td>10000.000000</td>\n",
       "      <td>10000.000000</td>\n",
       "      <td>10000.000000</td>\n",
       "      <td>1.000000e+04</td>\n",
       "      <td>10000.000000</td>\n",
       "      <td>10000.000000</td>\n",
       "      <td>10000.000000</td>\n",
       "      <td>10000.000000</td>\n",
       "      <td>5202.000000</td>\n",
       "      <td>10000.000000</td>\n",
       "      <td>10000.000000</td>\n",
       "      <td>10000.000000</td>\n",
       "    </tr>\n",
       "    <tr>\n",
       "      <th>mean</th>\n",
       "      <td>1.890500</td>\n",
       "      <td>56.315775</td>\n",
       "      <td>37.199645</td>\n",
       "      <td>6.273300</td>\n",
       "      <td>8.526700</td>\n",
       "      <td>12.609400</td>\n",
       "      <td>3.990166e+03</td>\n",
       "      <td>0.118858</td>\n",
       "      <td>24.687000</td>\n",
       "      <td>5352.157400</td>\n",
       "      <td>8.039200</td>\n",
       "      <td>1142.904460</td>\n",
       "      <td>1.319500</td>\n",
       "      <td>4.231300</td>\n",
       "      <td>214138.857399</td>\n",
       "    </tr>\n",
       "    <tr>\n",
       "      <th>std</th>\n",
       "      <td>0.839512</td>\n",
       "      <td>21.058732</td>\n",
       "      <td>86.241209</td>\n",
       "      <td>28.560917</td>\n",
       "      <td>5.241148</td>\n",
       "      <td>6.775974</td>\n",
       "      <td>2.005003e+05</td>\n",
       "      <td>0.119025</td>\n",
       "      <td>17.532614</td>\n",
       "      <td>4006.799803</td>\n",
       "      <td>23.831875</td>\n",
       "      <td>1021.517264</td>\n",
       "      <td>1.493601</td>\n",
       "      <td>4.806341</td>\n",
       "      <td>92872.293865</td>\n",
       "    </tr>\n",
       "    <tr>\n",
       "      <th>min</th>\n",
       "      <td>0.000000</td>\n",
       "      <td>1.136859</td>\n",
       "      <td>0.370619</td>\n",
       "      <td>0.000000</td>\n",
       "      <td>1.000000</td>\n",
       "      <td>0.000000</td>\n",
       "      <td>1.910000e+03</td>\n",
       "      <td>0.000000</td>\n",
       "      <td>0.000000</td>\n",
       "      <td>168.000000</td>\n",
       "      <td>0.000000</td>\n",
       "      <td>0.000000</td>\n",
       "      <td>0.000000</td>\n",
       "      <td>0.000000</td>\n",
       "      <td>59174.778028</td>\n",
       "    </tr>\n",
       "    <tr>\n",
       "      <th>25%</th>\n",
       "      <td>1.000000</td>\n",
       "      <td>41.774881</td>\n",
       "      <td>22.769832</td>\n",
       "      <td>1.000000</td>\n",
       "      <td>4.000000</td>\n",
       "      <td>9.000000</td>\n",
       "      <td>1.974000e+03</td>\n",
       "      <td>0.017647</td>\n",
       "      <td>6.000000</td>\n",
       "      <td>1564.000000</td>\n",
       "      <td>0.000000</td>\n",
       "      <td>350.000000</td>\n",
       "      <td>0.000000</td>\n",
       "      <td>1.000000</td>\n",
       "      <td>153872.633942</td>\n",
       "    </tr>\n",
       "    <tr>\n",
       "      <th>50%</th>\n",
       "      <td>2.000000</td>\n",
       "      <td>52.513310</td>\n",
       "      <td>32.781260</td>\n",
       "      <td>6.000000</td>\n",
       "      <td>7.000000</td>\n",
       "      <td>13.000000</td>\n",
       "      <td>1.977000e+03</td>\n",
       "      <td>0.075424</td>\n",
       "      <td>25.000000</td>\n",
       "      <td>5285.000000</td>\n",
       "      <td>2.000000</td>\n",
       "      <td>900.000000</td>\n",
       "      <td>1.000000</td>\n",
       "      <td>3.000000</td>\n",
       "      <td>192269.644879</td>\n",
       "    </tr>\n",
       "    <tr>\n",
       "      <th>75%</th>\n",
       "      <td>2.000000</td>\n",
       "      <td>65.900625</td>\n",
       "      <td>45.128803</td>\n",
       "      <td>9.000000</td>\n",
       "      <td>12.000000</td>\n",
       "      <td>17.000000</td>\n",
       "      <td>2.001000e+03</td>\n",
       "      <td>0.195781</td>\n",
       "      <td>36.000000</td>\n",
       "      <td>7227.000000</td>\n",
       "      <td>5.000000</td>\n",
       "      <td>1548.000000</td>\n",
       "      <td>2.000000</td>\n",
       "      <td>6.000000</td>\n",
       "      <td>249135.462171</td>\n",
       "    </tr>\n",
       "    <tr>\n",
       "      <th>max</th>\n",
       "      <td>19.000000</td>\n",
       "      <td>641.065193</td>\n",
       "      <td>7480.592129</td>\n",
       "      <td>2014.000000</td>\n",
       "      <td>42.000000</td>\n",
       "      <td>117.000000</td>\n",
       "      <td>2.005201e+07</td>\n",
       "      <td>0.521867</td>\n",
       "      <td>74.000000</td>\n",
       "      <td>19083.000000</td>\n",
       "      <td>141.000000</td>\n",
       "      <td>4849.000000</td>\n",
       "      <td>6.000000</td>\n",
       "      <td>23.000000</td>\n",
       "      <td>633233.466570</td>\n",
       "    </tr>\n",
       "  </tbody>\n",
       "</table>\n",
       "</div>"
      ],
      "text/plain": [
       "              Rooms        Square   LifeSquare  KitchenSquare         Floor  \\\n",
       "count  10000.000000  10000.000000  7887.000000   10000.000000  10000.000000   \n",
       "mean       1.890500     56.315775    37.199645       6.273300      8.526700   \n",
       "std        0.839512     21.058732    86.241209      28.560917      5.241148   \n",
       "min        0.000000      1.136859     0.370619       0.000000      1.000000   \n",
       "25%        1.000000     41.774881    22.769832       1.000000      4.000000   \n",
       "50%        2.000000     52.513310    32.781260       6.000000      7.000000   \n",
       "75%        2.000000     65.900625    45.128803       9.000000     12.000000   \n",
       "max       19.000000    641.065193  7480.592129    2014.000000     42.000000   \n",
       "\n",
       "         HouseFloor     HouseYear     Ecology_1      Social_1      Social_2  \\\n",
       "count  10000.000000  1.000000e+04  10000.000000  10000.000000  10000.000000   \n",
       "mean      12.609400  3.990166e+03      0.118858     24.687000   5352.157400   \n",
       "std        6.775974  2.005003e+05      0.119025     17.532614   4006.799803   \n",
       "min        0.000000  1.910000e+03      0.000000      0.000000    168.000000   \n",
       "25%        9.000000  1.974000e+03      0.017647      6.000000   1564.000000   \n",
       "50%       13.000000  1.977000e+03      0.075424     25.000000   5285.000000   \n",
       "75%       17.000000  2.001000e+03      0.195781     36.000000   7227.000000   \n",
       "max      117.000000  2.005201e+07      0.521867     74.000000  19083.000000   \n",
       "\n",
       "           Social_3  Healthcare_1   Helthcare_2       Shops_1          Price  \n",
       "count  10000.000000   5202.000000  10000.000000  10000.000000   10000.000000  \n",
       "mean       8.039200   1142.904460      1.319500      4.231300  214138.857399  \n",
       "std       23.831875   1021.517264      1.493601      4.806341   92872.293865  \n",
       "min        0.000000      0.000000      0.000000      0.000000   59174.778028  \n",
       "25%        0.000000    350.000000      0.000000      1.000000  153872.633942  \n",
       "50%        2.000000    900.000000      1.000000      3.000000  192269.644879  \n",
       "75%        5.000000   1548.000000      2.000000      6.000000  249135.462171  \n",
       "max      141.000000   4849.000000      6.000000     23.000000  633233.466570  "
      ]
     },
     "execution_count": 8,
     "metadata": {},
     "output_type": "execute_result"
    }
   ],
   "source": [
    "df_train.describe()"
   ]
  },
  {
   "cell_type": "markdown",
   "id": "90a3821c-7a5c-486b-96a0-523e61f0b6cb",
   "metadata": {},
   "source": [
    "> В данных данных сразу можно заметить, что в максимальное значение площади меньше, чем максимальное значение жилой площади. Следовательно после обработки пропусков нужно проверить данные на корректность"
   ]
  },
  {
   "cell_type": "code",
   "execution_count": 9,
   "id": "2d89a61b-9a73-4e7a-bc73-89fd112ac3f4",
   "metadata": {},
   "outputs": [
    {
     "data": {
      "text/html": [
       "<div>\n",
       "<style scoped>\n",
       "    .dataframe tbody tr th:only-of-type {\n",
       "        vertical-align: middle;\n",
       "    }\n",
       "\n",
       "    .dataframe tbody tr th {\n",
       "        vertical-align: top;\n",
       "    }\n",
       "\n",
       "    .dataframe thead th {\n",
       "        text-align: right;\n",
       "    }\n",
       "</style>\n",
       "<table border=\"1\" class=\"dataframe\">\n",
       "  <thead>\n",
       "    <tr style=\"text-align: right;\">\n",
       "      <th></th>\n",
       "      <th>Id</th>\n",
       "      <th>DistrictId</th>\n",
       "      <th>Ecology_2</th>\n",
       "      <th>Ecology_3</th>\n",
       "      <th>Shops_2</th>\n",
       "    </tr>\n",
       "  </thead>\n",
       "  <tbody>\n",
       "    <tr>\n",
       "      <th>count</th>\n",
       "      <td>10000</td>\n",
       "      <td>10000</td>\n",
       "      <td>10000</td>\n",
       "      <td>10000</td>\n",
       "      <td>10000</td>\n",
       "    </tr>\n",
       "    <tr>\n",
       "      <th>unique</th>\n",
       "      <td>205</td>\n",
       "      <td>205</td>\n",
       "      <td>2</td>\n",
       "      <td>2</td>\n",
       "      <td>2</td>\n",
       "    </tr>\n",
       "    <tr>\n",
       "      <th>top</th>\n",
       "      <td>27</td>\n",
       "      <td>27</td>\n",
       "      <td>B</td>\n",
       "      <td>B</td>\n",
       "      <td>B</td>\n",
       "    </tr>\n",
       "    <tr>\n",
       "      <th>freq</th>\n",
       "      <td>851</td>\n",
       "      <td>851</td>\n",
       "      <td>9903</td>\n",
       "      <td>9725</td>\n",
       "      <td>9175</td>\n",
       "    </tr>\n",
       "  </tbody>\n",
       "</table>\n",
       "</div>"
      ],
      "text/plain": [
       "           Id DistrictId Ecology_2 Ecology_3 Shops_2\n",
       "count   10000      10000     10000     10000   10000\n",
       "unique    205        205         2         2       2\n",
       "top        27         27         B         B       B\n",
       "freq      851        851      9903      9725    9175"
      ]
     },
     "execution_count": 9,
     "metadata": {},
     "output_type": "execute_result"
    }
   ],
   "source": [
    "df_train.describe(include='object')"
   ]
  },
  {
   "cell_type": "code",
   "execution_count": 70,
   "id": "cdab153f-bde4-46d2-97e0-f21af11cf94b",
   "metadata": {
    "tags": []
   },
   "outputs": [],
   "source": [
    "profile = pandas_profiling.ProfileReport(df_train)\n",
    "profile.to_file(\"output.html\")\n",
    "#pandas_profiling.ProfileReport(df_train)"
   ]
  },
  {
   "cell_type": "markdown",
   "id": "f417d8f7",
   "metadata": {},
   "source": [
    "Дополнительная документация\n",
    "https://ipywidgets.readthedocs.io/en/stable/user_install.html"
   ]
  },
  {
   "cell_type": "markdown",
   "id": "138b2263-ba9d-40b9-9c8a-f37c56b65a34",
   "metadata": {},
   "source": [
    "### Обработка пропусков"
   ]
  },
  {
   "cell_type": "code",
   "execution_count": 10,
   "id": "e563c240-d553-4edf-abe1-52402a995afb",
   "metadata": {},
   "outputs": [
    {
     "data": {
      "text/plain": [
       "<AxesSubplot:>"
      ]
     },
     "execution_count": 10,
     "metadata": {},
     "output_type": "execute_result"
    },
    {
     "data": {
      "image/png": "[encoded data removed]",
      "text/plain": [
       "<Figure size 1440x1440 with 2 Axes>"
      ]
     },
     "metadata": {
      "needs_background": "light"
     },
     "output_type": "display_data"
    }
   ],
   "source": [
    "plt.figure(figsize=(20,20))\n",
    "sns.heatmap(df_train.corr(),annot=True, cmap=\"YlGnBu\")"
   ]
  },
  {
   "cell_type": "code",
   "execution_count": 11,
   "id": "ec014dfc-ebf1-4038-815b-8b024c9568dc",
   "metadata": {},
   "outputs": [
    {
     "data": {
      "text/plain": [
       "LifeSquare      2113\n",
       "Healthcare_1    4798\n",
       "dtype: int64"
      ]
     },
     "execution_count": 11,
     "metadata": {},
     "output_type": "execute_result"
    }
   ],
   "source": [
    "df_train.isna().sum()[df_train.isna().sum()!=0]"
   ]
  },
  {
   "cell_type": "code",
   "execution_count": 12,
   "id": "0527200c-0021-459b-b6d0-b06d7e84e72b",
   "metadata": {},
   "outputs": [
    {
     "data": {
      "text/plain": [
       "LifeSquare       1.000000\n",
       "Square           0.196129\n",
       "Rooms            0.131336\n",
       "Price            0.081292\n",
       "HouseFloor       0.027442\n",
       "Floor            0.024559\n",
       "Social_3         0.012763\n",
       "KitchenSquare   -0.001195\n",
       "HouseYear       -0.002210\n",
       "Shops_1         -0.007569\n",
       "Ecology_1       -0.023629\n",
       "Helthcare_2     -0.024762\n",
       "Healthcare_1    -0.026867\n",
       "Social_2        -0.039283\n",
       "Social_1        -0.048363\n",
       "Name: LifeSquare, dtype: float64"
      ]
     },
     "execution_count": 12,
     "metadata": {},
     "output_type": "execute_result"
    }
   ],
   "source": [
    "df_train.dropna(axis=0,subset =['LifeSquare']).corr()['LifeSquare'].sort_values(ascending=False)"
   ]
  },
  {
   "cell_type": "code",
   "execution_count": 13,
   "id": "6c93c8f1-c40b-4dbe-ba50-c5026c6cd24f",
   "metadata": {},
   "outputs": [
    {
     "data": {
      "text/plain": [
       "Healthcare_1     1.000000\n",
       "Helthcare_2      0.203177\n",
       "Price            0.138755\n",
       "Social_3         0.133877\n",
       "Social_1         0.077133\n",
       "Shops_1          0.057758\n",
       "Social_2         0.050458\n",
       "Rooms            0.042857\n",
       "KitchenSquare    0.009472\n",
       "HouseYear       -0.011969\n",
       "LifeSquare      -0.026867\n",
       "Square          -0.039748\n",
       "Ecology_1       -0.043547\n",
       "Floor           -0.138294\n",
       "HouseFloor      -0.143973\n",
       "Name: Healthcare_1, dtype: float64"
      ]
     },
     "execution_count": 13,
     "metadata": {},
     "output_type": "execute_result"
    }
   ],
   "source": [
    "df_train.dropna(axis=0,subset =['Healthcare_1']).corr()['Healthcare_1'].sort_values(ascending=False)"
   ]
  },
  {
   "cell_type": "markdown",
   "id": "f693e007-19ac-4fb9-9b00-105d174d8823",
   "metadata": {},
   "source": [
    "#### 1 вариант "
   ]
  },
  {
   "cell_type": "code",
   "execution_count": 14,
   "id": "b7352ebe-80ee-486c-aa1c-f4b3e35ce05e",
   "metadata": {},
   "outputs": [],
   "source": [
    "from sklearn.linear_model import LinearRegression\n",
    "from sklearn.metrics import mean_squared_error"
   ]
  },
  {
   "cell_type": "code",
   "execution_count": 15,
   "id": "5c67616e-c406-4019-a50d-f7c5e6612408",
   "metadata": {},
   "outputs": [
    {
     "data": {
      "text/plain": [
       "167.88063622513"
      ]
     },
     "execution_count": 15,
     "metadata": {},
     "output_type": "execute_result"
    }
   ],
   "source": [
    "df_train_SF_X = df_train.dropna(axis=0,subset =['LifeSquare'])[['Square','Rooms']]\n",
    "df_train_SF_y = df_train.dropna(axis=0,subset =['LifeSquare'])[['LifeSquare']]\n",
    "\n",
    "model = LinearRegression()\n",
    "\n",
    "model.fit(df_train_SF_X,df_train_SF_y)\n",
    "\n",
    "df_test_SF_X = df_test.dropna(axis=0,subset =['LifeSquare'])[['Square','Rooms']]\n",
    "df_test_SF_y = df_test.dropna(axis=0,subset =['LifeSquare'])[['LifeSquare']]\n",
    "\n",
    "df_test_SF_y_pred = model.predict(df_test_SF_X)\n",
    "\n",
    "mean_squared_error(df_test_SF_y,df_test_SF_y_pred)"
   ]
  },
  {
   "cell_type": "markdown",
   "id": "0f68fe46-2d85-484d-99d5-9885c0b467d0",
   "metadata": {
    "tags": []
   },
   "source": [
    "#### 2 вариант "
   ]
  },
  {
   "cell_type": "code",
   "execution_count": 16,
   "id": "b56170dc-2218-4102-9df0-b7f288d82e15",
   "metadata": {},
   "outputs": [
    {
     "name": "stderr",
     "output_type": "stream",
     "text": [
      "C:\\Users\\5078~1\\AppData\\Local\\Temp/ipykernel_18400/1342074709.py:2: SettingWithCopyWarning: \n",
      "A value is trying to be set on a copy of a slice from a DataFrame.\n",
      "Try using .loc[row_indexer,col_indexer] = value instead\n",
      "\n",
      "See the caveats in the documentation: https://pandas.pydata.org/pandas-docs/stable/user_guide/indexing.html#returning-a-view-versus-a-copy\n",
      "  df_train_LS['LifeSquare_1'] = \\\n"
     ]
    }
   ],
   "source": [
    "df_train_LS = df_train.dropna(axis=0,subset =['LifeSquare'])\n",
    "df_train_LS['LifeSquare_1'] = \\\n",
    "    df_train['Square'] - df_train['KitchenSquare']"
   ]
  },
  {
   "cell_type": "code",
   "execution_count": 17,
   "id": "cc50ee99-7d07-4d8d-9f2a-56c99bf6f9c6",
   "metadata": {},
   "outputs": [
    {
     "data": {
      "text/plain": [
       "8263.593783765"
      ]
     },
     "execution_count": 17,
     "metadata": {},
     "output_type": "execute_result"
    }
   ],
   "source": [
    "mean_squared_error(df_train_LS['LifeSquare_1'],df_train_LS['LifeSquare'])"
   ]
  },
  {
   "cell_type": "code",
   "execution_count": 18,
   "id": "77a67815-49c1-414a-b970-46c228d549d9",
   "metadata": {},
   "outputs": [
    {
     "name": "stderr",
     "output_type": "stream",
     "text": [
      "C:\\Users\\5078~1\\AppData\\Local\\Temp/ipykernel_18400/3829572944.py:2: SettingWithCopyWarning: \n",
      "A value is trying to be set on a copy of a slice from a DataFrame.\n",
      "Try using .loc[row_indexer,col_indexer] = value instead\n",
      "\n",
      "See the caveats in the documentation: https://pandas.pydata.org/pandas-docs/stable/user_guide/indexing.html#returning-a-view-versus-a-copy\n",
      "  df_test_LS['LifeSquare_1'] = \\\n"
     ]
    }
   ],
   "source": [
    "df_test_LS = df_test.dropna(axis=0,subset =['LifeSquare'])\n",
    "df_test_LS['LifeSquare_1'] = \\\n",
    "    df_test['Square'] - df_test['KitchenSquare']"
   ]
  },
  {
   "cell_type": "code",
   "execution_count": 19,
   "id": "affd39d0-999e-4a0c-a6eb-fe03e900fbce",
   "metadata": {},
   "outputs": [
    {
     "data": {
      "text/plain": [
       "429.98841393712564"
      ]
     },
     "execution_count": 19,
     "metadata": {},
     "output_type": "execute_result"
    }
   ],
   "source": [
    "mean_squared_error(df_test_LS['LifeSquare_1'],df_test_LS['LifeSquare'])"
   ]
  },
  {
   "cell_type": "markdown",
   "id": "8c063192-67e6-4570-8fdf-f4e05a435e89",
   "metadata": {},
   "source": [
    "#### Итого используем 1 вариант"
   ]
  },
  {
   "cell_type": "code",
   "execution_count": 20,
   "id": "13eb4abe-1701-48e1-ba95-b748c2dc8367",
   "metadata": {},
   "outputs": [],
   "source": [
    "df_train_X = df_train[df_train['LifeSquare'].isnull()][['Square','Rooms']]\n",
    "df_train.loc[df_train['LifeSquare'].isna(), 'LifeSquare']= model.predict(df_train_X)\n",
    "df_test_X = df_test[df_test['LifeSquare'].isnull()][['Square','Rooms']]\n",
    "df_test.loc[df_test['LifeSquare'].isna(), 'LifeSquare']= model.predict(df_test_X)"
   ]
  },
  {
   "cell_type": "code",
   "execution_count": 21,
   "id": "03adfffb-cf79-4a21-b555-86bcc2a42b86",
   "metadata": {},
   "outputs": [
    {
     "data": {
      "text/plain": [
       "1043161.7360736692"
      ]
     },
     "execution_count": 21,
     "metadata": {},
     "output_type": "execute_result"
    }
   ],
   "source": [
    "df_train_HT_X = df_train.dropna(axis=0,subset =['Healthcare_1'])[['Helthcare_2','Social_3']]\n",
    "df_train_HT_y = df_train.dropna(axis=0,subset =['Healthcare_1'])[['Healthcare_1']]\n",
    "\n",
    "model = LinearRegression()\n",
    "\n",
    "model.fit(df_train_HT_X,df_train_HT_y)\n",
    "\n",
    "df_test_HT_X = df_test.dropna(axis=0,subset =['Healthcare_1'])[['Helthcare_2','Social_3']]\n",
    "df_test_HT_y = df_test.dropna(axis=0,subset =['Healthcare_1'])[['Healthcare_1']]\n",
    "\n",
    "df_test_HT_y_pred = model.predict(df_test_HT_X)\n",
    "\n",
    "mean_squared_error(df_test_HT_y,df_test_HT_y_pred)"
   ]
  },
  {
   "cell_type": "code",
   "execution_count": 22,
   "id": "5527dda4-7332-4f53-9f67-fcc611bb5d44",
   "metadata": {},
   "outputs": [],
   "source": [
    "df_train_X = df_train[df_train['Healthcare_1'].isnull()][['Helthcare_2','Social_3']]\n",
    "df_train.loc[df_train['Healthcare_1'].isna(), 'Healthcare_1']= model.predict(df_train_X)\n",
    "df_test_X = df_test[df_test['Healthcare_1'].isnull()][['Helthcare_2','Social_3']]\n",
    "df_test.loc[df_test['Healthcare_1'].isna(), 'Healthcare_1']= model.predict(df_test_X)"
   ]
  },
  {
   "cell_type": "markdown",
   "id": "210d051e-449e-43f7-83f2-0a897d6f9583",
   "metadata": {
    "tags": []
   },
   "source": [
    "### Обработка выбросов"
   ]
  },
  {
   "cell_type": "code",
   "execution_count": 23,
   "id": "81198fcc-bc1c-4aa1-a68c-df13ea3f792f",
   "metadata": {},
   "outputs": [
    {
     "data": {
      "text/plain": [
       "2.0     3880\n",
       "1.0     3705\n",
       "3.0     2235\n",
       "4.0      150\n",
       "5.0       18\n",
       "0.0        8\n",
       "10.0       2\n",
       "19.0       1\n",
       "6.0        1\n",
       "Name: Rooms, dtype: int64"
      ]
     },
     "execution_count": 23,
     "metadata": {},
     "output_type": "execute_result"
    }
   ],
   "source": [
    "df_train['Rooms'].value_counts()"
   ]
  },
  {
   "cell_type": "code",
   "execution_count": 24,
   "id": "c95bd922-d704-4475-841c-d44210244f54",
   "metadata": {},
   "outputs": [
    {
     "data": {
      "text/plain": [
       "<matplotlib.collections.PathCollection at 0x2f13e717fa0>"
      ]
     },
     "execution_count": 24,
     "metadata": {},
     "output_type": "execute_result"
    },
    {
     "data": {
      "image/png": "[encoded data removed]",
      "text/plain": [
       "<Figure size 432x288 with 1 Axes>"
      ]
     },
     "metadata": {
      "needs_background": "light"
     },
     "output_type": "display_data"
    }
   ],
   "source": [
    "plt.scatter(df_train['Rooms'], df_train['Price'])"
   ]
  },
  {
   "cell_type": "code",
   "execution_count": 25,
   "id": "c5744536-e143-4c21-bb5d-a4440bf3164f",
   "metadata": {},
   "outputs": [
    {
     "name": "stderr",
     "output_type": "stream",
     "text": [
      "C:\\anaconda3\\lib\\site-packages\\seaborn\\_decorators.py:36: FutureWarning: Pass the following variables as keyword args: x, y. From version 0.12, the only valid positional argument will be `data`, and passing other arguments without an explicit keyword will result in an error or misinterpretation.\n",
      "  warnings.warn(\n"
     ]
    },
    {
     "data": {
      "image/png": "[encoded data removed]",
      "text/plain": [
       "<Figure size 720x360 with 1 Axes>"
      ]
     },
     "metadata": {
      "needs_background": "light"
     },
     "output_type": "display_data"
    }
   ],
   "source": [
    "sns.catplot('Rooms', 'Price', kind=\"box\", data=df_train, aspect=2/1);"
   ]
  },
  {
   "cell_type": "code",
   "execution_count": 26,
   "id": "3cfb2a68-4628-4197-8ab5-1cfd4146d8b2",
   "metadata": {},
   "outputs": [
    {
     "data": {
      "text/plain": [
       "2.0     2030\n",
       "1.0     1769\n",
       "3.0     1099\n",
       "4.0       90\n",
       "5.0        7\n",
       "6.0        2\n",
       "0.0        2\n",
       "17.0       1\n",
       "Name: Rooms, dtype: int64"
      ]
     },
     "execution_count": 26,
     "metadata": {},
     "output_type": "execute_result"
    }
   ],
   "source": [
    "df_test['Rooms'].value_counts()"
   ]
  },
  {
   "cell_type": "code",
   "execution_count": 27,
   "id": "ea5a4c69-074f-4011-818a-3eaabac7aea3",
   "metadata": {},
   "outputs": [
    {
     "data": {
      "text/plain": [
       "<matplotlib.collections.PathCollection at 0x2f13fc19fa0>"
      ]
     },
     "execution_count": 27,
     "metadata": {},
     "output_type": "execute_result"
    },
    {
     "data": {
      "image/png": "[encoded data removed]",
      "text/plain": [
       "<Figure size 432x288 with 1 Axes>"
      ]
     },
     "metadata": {
      "needs_background": "light"
     },
     "output_type": "display_data"
    }
   ],
   "source": [
    "plt.scatter(df_train['Rooms'], df_train['Square'])"
   ]
  },
  {
   "cell_type": "code",
   "execution_count": 28,
   "id": "12bccb60-0b99-4a35-8014-d2a8eb107781",
   "metadata": {},
   "outputs": [],
   "source": [
    "#df_train.loc[(df_train['Rooms'] > 5)|(df_train['Rooms'] == 0), 'Rooms'] = df_train['Rooms'].mode()[0]\n",
    "#df_test.loc[(df_test['Rooms'] > 5)|(df_test['Rooms'] == 0), 'Rooms'] = df_train['Rooms'].mode()[0]"
   ]
  },
  {
   "cell_type": "markdown",
   "id": "f90dc098-2cce-4737-860a-757bdbacc94f",
   "metadata": {},
   "source": [
    "## Построение моделей "
   ]
  },
  {
   "cell_type": "code",
   "execution_count": 29,
   "id": "d07b9045-4227-4d36-8629-3cc7e610ce56",
   "metadata": {},
   "outputs": [
    {
     "data": {
      "text/html": [
       "<div>\n",
       "<style scoped>\n",
       "    .dataframe tbody tr th:only-of-type {\n",
       "        vertical-align: middle;\n",
       "    }\n",
       "\n",
       "    .dataframe tbody tr th {\n",
       "        vertical-align: top;\n",
       "    }\n",
       "\n",
       "    .dataframe thead th {\n",
       "        text-align: right;\n",
       "    }\n",
       "</style>\n",
       "<table border=\"1\" class=\"dataframe\">\n",
       "  <thead>\n",
       "    <tr style=\"text-align: right;\">\n",
       "      <th></th>\n",
       "      <th>Id</th>\n",
       "      <th>DistrictId</th>\n",
       "      <th>Rooms</th>\n",
       "      <th>Square</th>\n",
       "      <th>LifeSquare</th>\n",
       "      <th>KitchenSquare</th>\n",
       "      <th>Floor</th>\n",
       "      <th>HouseFloor</th>\n",
       "      <th>HouseYear</th>\n",
       "      <th>Ecology_1</th>\n",
       "      <th>Ecology_2</th>\n",
       "      <th>Ecology_3</th>\n",
       "      <th>Social_1</th>\n",
       "      <th>Social_2</th>\n",
       "      <th>Social_3</th>\n",
       "      <th>Healthcare_1</th>\n",
       "      <th>Helthcare_2</th>\n",
       "      <th>Shops_1</th>\n",
       "      <th>Shops_2</th>\n",
       "      <th>Price</th>\n",
       "    </tr>\n",
       "  </thead>\n",
       "  <tbody>\n",
       "    <tr>\n",
       "      <th>0</th>\n",
       "      <td>35</td>\n",
       "      <td>35</td>\n",
       "      <td>2.0</td>\n",
       "      <td>47.981561</td>\n",
       "      <td>29.442751</td>\n",
       "      <td>6.0</td>\n",
       "      <td>7</td>\n",
       "      <td>9.0</td>\n",
       "      <td>1969</td>\n",
       "      <td>0.089040</td>\n",
       "      <td>B</td>\n",
       "      <td>B</td>\n",
       "      <td>33</td>\n",
       "      <td>7976</td>\n",
       "      <td>5</td>\n",
       "      <td>887.25005</td>\n",
       "      <td>0</td>\n",
       "      <td>11</td>\n",
       "      <td>B</td>\n",
       "      <td>184966.930730</td>\n",
       "    </tr>\n",
       "    <tr>\n",
       "      <th>1</th>\n",
       "      <td>41</td>\n",
       "      <td>41</td>\n",
       "      <td>3.0</td>\n",
       "      <td>65.683640</td>\n",
       "      <td>40.049543</td>\n",
       "      <td>8.0</td>\n",
       "      <td>7</td>\n",
       "      <td>9.0</td>\n",
       "      <td>1978</td>\n",
       "      <td>0.000070</td>\n",
       "      <td>B</td>\n",
       "      <td>B</td>\n",
       "      <td>46</td>\n",
       "      <td>10309</td>\n",
       "      <td>1</td>\n",
       "      <td>240.00000</td>\n",
       "      <td>1</td>\n",
       "      <td>16</td>\n",
       "      <td>B</td>\n",
       "      <td>300009.450063</td>\n",
       "    </tr>\n",
       "    <tr>\n",
       "      <th>2</th>\n",
       "      <td>53</td>\n",
       "      <td>53</td>\n",
       "      <td>2.0</td>\n",
       "      <td>44.947953</td>\n",
       "      <td>29.197612</td>\n",
       "      <td>0.0</td>\n",
       "      <td>8</td>\n",
       "      <td>12.0</td>\n",
       "      <td>1968</td>\n",
       "      <td>0.049637</td>\n",
       "      <td>B</td>\n",
       "      <td>B</td>\n",
       "      <td>34</td>\n",
       "      <td>7759</td>\n",
       "      <td>0</td>\n",
       "      <td>229.00000</td>\n",
       "      <td>1</td>\n",
       "      <td>3</td>\n",
       "      <td>B</td>\n",
       "      <td>220925.908524</td>\n",
       "    </tr>\n",
       "    <tr>\n",
       "      <th>3</th>\n",
       "      <td>58</td>\n",
       "      <td>58</td>\n",
       "      <td>2.0</td>\n",
       "      <td>53.352981</td>\n",
       "      <td>52.731512</td>\n",
       "      <td>9.0</td>\n",
       "      <td>8</td>\n",
       "      <td>17.0</td>\n",
       "      <td>1977</td>\n",
       "      <td>0.437885</td>\n",
       "      <td>B</td>\n",
       "      <td>B</td>\n",
       "      <td>23</td>\n",
       "      <td>5735</td>\n",
       "      <td>3</td>\n",
       "      <td>1084.00000</td>\n",
       "      <td>0</td>\n",
       "      <td>5</td>\n",
       "      <td>B</td>\n",
       "      <td>175616.227217</td>\n",
       "    </tr>\n",
       "    <tr>\n",
       "      <th>4</th>\n",
       "      <td>99</td>\n",
       "      <td>99</td>\n",
       "      <td>1.0</td>\n",
       "      <td>39.649192</td>\n",
       "      <td>23.776169</td>\n",
       "      <td>7.0</td>\n",
       "      <td>11</td>\n",
       "      <td>12.0</td>\n",
       "      <td>1976</td>\n",
       "      <td>0.012339</td>\n",
       "      <td>B</td>\n",
       "      <td>B</td>\n",
       "      <td>35</td>\n",
       "      <td>5776</td>\n",
       "      <td>1</td>\n",
       "      <td>2078.00000</td>\n",
       "      <td>2</td>\n",
       "      <td>4</td>\n",
       "      <td>B</td>\n",
       "      <td>150226.531644</td>\n",
       "    </tr>\n",
       "  </tbody>\n",
       "</table>\n",
       "</div>"
      ],
      "text/plain": [
       "   Id DistrictId  Rooms     Square  LifeSquare  KitchenSquare  Floor  \\\n",
       "0  35         35    2.0  47.981561   29.442751            6.0      7   \n",
       "1  41         41    3.0  65.683640   40.049543            8.0      7   \n",
       "2  53         53    2.0  44.947953   29.197612            0.0      8   \n",
       "3  58         58    2.0  53.352981   52.731512            9.0      8   \n",
       "4  99         99    1.0  39.649192   23.776169            7.0     11   \n",
       "\n",
       "   HouseFloor  HouseYear  Ecology_1 Ecology_2 Ecology_3  Social_1  Social_2  \\\n",
       "0         9.0       1969   0.089040         B         B        33      7976   \n",
       "1         9.0       1978   0.000070         B         B        46     10309   \n",
       "2        12.0       1968   0.049637         B         B        34      7759   \n",
       "3        17.0       1977   0.437885         B         B        23      5735   \n",
       "4        12.0       1976   0.012339         B         B        35      5776   \n",
       "\n",
       "   Social_3  Healthcare_1  Helthcare_2  Shops_1 Shops_2          Price  \n",
       "0         5     887.25005            0       11       B  184966.930730  \n",
       "1         1     240.00000            1       16       B  300009.450063  \n",
       "2         0     229.00000            1        3       B  220925.908524  \n",
       "3         3    1084.00000            0        5       B  175616.227217  \n",
       "4         1    2078.00000            2        4       B  150226.531644  "
      ]
     },
     "execution_count": 29,
     "metadata": {},
     "output_type": "execute_result"
    }
   ],
   "source": [
    "df_train.head()"
   ]
  },
  {
   "cell_type": "code",
   "execution_count": 30,
   "id": "85c04ff0-f446-4fdb-86fe-781b71e5d1ad",
   "metadata": {},
   "outputs": [
    {
     "data": {
      "text/html": [
       "<div>\n",
       "<style scoped>\n",
       "    .dataframe tbody tr th:only-of-type {\n",
       "        vertical-align: middle;\n",
       "    }\n",
       "\n",
       "    .dataframe tbody tr th {\n",
       "        vertical-align: top;\n",
       "    }\n",
       "\n",
       "    .dataframe thead th {\n",
       "        text-align: right;\n",
       "    }\n",
       "</style>\n",
       "<table border=\"1\" class=\"dataframe\">\n",
       "  <thead>\n",
       "    <tr style=\"text-align: right;\">\n",
       "      <th></th>\n",
       "      <th>Id</th>\n",
       "      <th>DistrictId</th>\n",
       "      <th>Rooms</th>\n",
       "      <th>Square</th>\n",
       "      <th>LifeSquare</th>\n",
       "      <th>KitchenSquare</th>\n",
       "      <th>Floor</th>\n",
       "      <th>HouseFloor</th>\n",
       "      <th>HouseYear</th>\n",
       "      <th>Ecology_1</th>\n",
       "      <th>Ecology_2</th>\n",
       "      <th>Ecology_3</th>\n",
       "      <th>Social_1</th>\n",
       "      <th>Social_2</th>\n",
       "      <th>Social_3</th>\n",
       "      <th>Healthcare_1</th>\n",
       "      <th>Helthcare_2</th>\n",
       "      <th>Shops_1</th>\n",
       "      <th>Shops_2</th>\n",
       "    </tr>\n",
       "  </thead>\n",
       "  <tbody>\n",
       "    <tr>\n",
       "      <th>0</th>\n",
       "      <td>58</td>\n",
       "      <td>58</td>\n",
       "      <td>2.0</td>\n",
       "      <td>49.882643</td>\n",
       "      <td>33.432782</td>\n",
       "      <td>6.0</td>\n",
       "      <td>6</td>\n",
       "      <td>14.0</td>\n",
       "      <td>1972</td>\n",
       "      <td>0.310199</td>\n",
       "      <td>B</td>\n",
       "      <td>B</td>\n",
       "      <td>11</td>\n",
       "      <td>2748</td>\n",
       "      <td>1</td>\n",
       "      <td>875.743793</td>\n",
       "      <td>0</td>\n",
       "      <td>0</td>\n",
       "      <td>B</td>\n",
       "    </tr>\n",
       "    <tr>\n",
       "      <th>1</th>\n",
       "      <td>74</td>\n",
       "      <td>74</td>\n",
       "      <td>2.0</td>\n",
       "      <td>69.263183</td>\n",
       "      <td>48.856498</td>\n",
       "      <td>1.0</td>\n",
       "      <td>6</td>\n",
       "      <td>1.0</td>\n",
       "      <td>1977</td>\n",
       "      <td>0.075779</td>\n",
       "      <td>B</td>\n",
       "      <td>B</td>\n",
       "      <td>6</td>\n",
       "      <td>1437</td>\n",
       "      <td>3</td>\n",
       "      <td>881.496922</td>\n",
       "      <td>0</td>\n",
       "      <td>2</td>\n",
       "      <td>B</td>\n",
       "    </tr>\n",
       "    <tr>\n",
       "      <th>2</th>\n",
       "      <td>190</td>\n",
       "      <td>190</td>\n",
       "      <td>1.0</td>\n",
       "      <td>13.597819</td>\n",
       "      <td>15.948246</td>\n",
       "      <td>12.0</td>\n",
       "      <td>2</td>\n",
       "      <td>5.0</td>\n",
       "      <td>1909</td>\n",
       "      <td>0.000000</td>\n",
       "      <td>B</td>\n",
       "      <td>B</td>\n",
       "      <td>30</td>\n",
       "      <td>7538</td>\n",
       "      <td>87</td>\n",
       "      <td>4702.000000</td>\n",
       "      <td>5</td>\n",
       "      <td>5</td>\n",
       "      <td>B</td>\n",
       "    </tr>\n",
       "    <tr>\n",
       "      <th>3</th>\n",
       "      <td>47</td>\n",
       "      <td>47</td>\n",
       "      <td>2.0</td>\n",
       "      <td>73.046609</td>\n",
       "      <td>51.940842</td>\n",
       "      <td>9.0</td>\n",
       "      <td>22</td>\n",
       "      <td>22.0</td>\n",
       "      <td>2007</td>\n",
       "      <td>0.101872</td>\n",
       "      <td>B</td>\n",
       "      <td>B</td>\n",
       "      <td>23</td>\n",
       "      <td>4583</td>\n",
       "      <td>3</td>\n",
       "      <td>1248.004197</td>\n",
       "      <td>3</td>\n",
       "      <td>3</td>\n",
       "      <td>B</td>\n",
       "    </tr>\n",
       "    <tr>\n",
       "      <th>4</th>\n",
       "      <td>27</td>\n",
       "      <td>27</td>\n",
       "      <td>1.0</td>\n",
       "      <td>47.527111</td>\n",
       "      <td>43.387569</td>\n",
       "      <td>1.0</td>\n",
       "      <td>17</td>\n",
       "      <td>17.0</td>\n",
       "      <td>2017</td>\n",
       "      <td>0.072158</td>\n",
       "      <td>B</td>\n",
       "      <td>B</td>\n",
       "      <td>2</td>\n",
       "      <td>629</td>\n",
       "      <td>1</td>\n",
       "      <td>875.743793</td>\n",
       "      <td>0</td>\n",
       "      <td>0</td>\n",
       "      <td>A</td>\n",
       "    </tr>\n",
       "  </tbody>\n",
       "</table>\n",
       "</div>"
      ],
      "text/plain": [
       "    Id DistrictId  Rooms     Square  LifeSquare  KitchenSquare  Floor  \\\n",
       "0   58         58    2.0  49.882643   33.432782            6.0      6   \n",
       "1   74         74    2.0  69.263183   48.856498            1.0      6   \n",
       "2  190        190    1.0  13.597819   15.948246           12.0      2   \n",
       "3   47         47    2.0  73.046609   51.940842            9.0     22   \n",
       "4   27         27    1.0  47.527111   43.387569            1.0     17   \n",
       "\n",
       "   HouseFloor  HouseYear  Ecology_1 Ecology_2 Ecology_3  Social_1  Social_2  \\\n",
       "0        14.0       1972   0.310199         B         B        11      2748   \n",
       "1         1.0       1977   0.075779         B         B         6      1437   \n",
       "2         5.0       1909   0.000000         B         B        30      7538   \n",
       "3        22.0       2007   0.101872         B         B        23      4583   \n",
       "4        17.0       2017   0.072158         B         B         2       629   \n",
       "\n",
       "   Social_3  Healthcare_1  Helthcare_2  Shops_1 Shops_2  \n",
       "0         1    875.743793            0        0       B  \n",
       "1         3    881.496922            0        2       B  \n",
       "2        87   4702.000000            5        5       B  \n",
       "3         3   1248.004197            3        3       B  \n",
       "4         1    875.743793            0        0       A  "
      ]
     },
     "execution_count": 30,
     "metadata": {},
     "output_type": "execute_result"
    }
   ],
   "source": [
    "df_test.head()"
   ]
  },
  {
   "cell_type": "code",
   "execution_count": 31,
   "id": "161c3695-19be-4841-9d71-bfcc4c59f436",
   "metadata": {},
   "outputs": [],
   "source": [
    "feature_bin_names = ['Ecology_2', 'Ecology_3', 'Shops_2']\n",
    "\n",
    "df_train[feature_bin_names] = df_train[feature_bin_names].replace({'A':0, 'B':1})\n",
    "df_test[feature_bin_names] = df_test[feature_bin_names].replace({'A':0, 'B':1})"
   ]
  },
  {
   "cell_type": "code",
   "execution_count": null,
   "id": "4965bee0-8cb6-4907-a950-a442373c8d76",
   "metadata": {},
   "outputs": [],
   "source": []
  },
  {
   "cell_type": "code",
   "execution_count": 32,
   "id": "29f55713-ab8e-4f6a-84dd-e2aa19f24447",
   "metadata": {},
   "outputs": [],
   "source": [
    "import numpy as np\n",
    "import pandas as pd\n",
    "import pickle\n",
    "\n",
    "from sklearn.model_selection import train_test_split\n",
    "from sklearn.model_selection import KFold, GridSearchCV, cross_val_score\n",
    "from sklearn.preprocessing import StandardScaler\n",
    "from sklearn.linear_model import LinearRegression\n",
    "from sklearn.tree import DecisionTreeRegressor\n",
    "from sklearn.ensemble import RandomForestRegressor, GradientBoostingRegressor\n",
    "from sklearn.metrics import r2_score, mean_absolute_error\n",
    "\n",
    "import matplotlib\n",
    "import matplotlib.pyplot as plt\n",
    "import seaborn as sns\n",
    "%matplotlib inline"
   ]
  },
  {
   "cell_type": "code",
   "execution_count": 33,
   "id": "d474632d-58a0-4551-a777-9bc1a27ff8c4",
   "metadata": {},
   "outputs": [],
   "source": [
    "X = df_train.drop(['Price'],axis = 1)\n",
    "y = df_train['Price']"
   ]
  },
  {
   "cell_type": "code",
   "execution_count": 34,
   "id": "f396ade0-fbce-4ac4-80b4-a4b9a393ba4f",
   "metadata": {},
   "outputs": [],
   "source": [
    "X_train, X_test, y_train, y_test = train_test_split(X, y, \n",
    "                                                    test_size=0.25, \n",
    "                                                    shuffle=True, \n",
    "                                                    random_state=42)"
   ]
  },
  {
   "cell_type": "markdown",
   "id": "94f2b4db-0c43-41c1-9ffe-0b9915b02174",
   "metadata": {},
   "source": [
    "## Линейная регрессия"
   ]
  },
  {
   "cell_type": "code",
   "execution_count": 35,
   "id": "f7f3cb7d-dd8a-47ef-aa9c-cc820a83ca65",
   "metadata": {},
   "outputs": [
    {
     "data": {
      "text/plain": [
       "LinearRegression()"
      ]
     },
     "execution_count": 35,
     "metadata": {},
     "output_type": "execute_result"
    }
   ],
   "source": [
    "lr_model = LinearRegression()\n",
    "lr_model.fit(X_train, y_train)"
   ]
  },
  {
   "cell_type": "code",
   "execution_count": 36,
   "id": "01ef6113-30ef-4b17-99b0-846a78c38f88",
   "metadata": {},
   "outputs": [],
   "source": [
    "y_train_preds = lr_model.predict(X_train)\n",
    "y_test_preds = lr_model.predict(X_test)"
   ]
  },
  {
   "cell_type": "code",
   "execution_count": 37,
   "id": "aae0cf80-baa5-493f-b8cf-22c67023aea1",
   "metadata": {},
   "outputs": [
    {
     "data": {
      "text/plain": [
       "45783.19516902056"
      ]
     },
     "execution_count": 37,
     "metadata": {},
     "output_type": "execute_result"
    }
   ],
   "source": [
    "mean_absolute_error(y_test,y_test_preds)"
   ]
  },
  {
   "cell_type": "code",
   "execution_count": 38,
   "id": "4169f327-6f48-4493-8cd9-c4859bac4c11",
   "metadata": {},
   "outputs": [
    {
     "data": {
      "text/plain": [
       "0.4528460184356303"
      ]
     },
     "execution_count": 38,
     "metadata": {},
     "output_type": "execute_result"
    }
   ],
   "source": [
    "r2_score(y_test,y_test_preds)"
   ]
  },
  {
   "cell_type": "code",
   "execution_count": 39,
   "id": "1eb5d7de-5830-4760-bf10-fb0e2d36b289",
   "metadata": {},
   "outputs": [
    {
     "data": {
      "text/plain": [
       "array([ 4.46541895e-01, -6.61329179e-01,  4.87645150e-01, -1.39685384e+03,\n",
       "        5.43185638e-01])"
      ]
     },
     "execution_count": 39,
     "metadata": {},
     "output_type": "execute_result"
    }
   ],
   "source": [
    "cv = KFold(n_splits=5, random_state=42, shuffle=True)\n",
    "\n",
    "scores = cross_val_score(lr_model, X, y, cv=cv, scoring='r2', n_jobs=-1)\n",
    "scores"
   ]
  },
  {
   "cell_type": "markdown",
   "id": "bd9ee59c-7f5c-4a7b-b1ae-40a50f8ba11b",
   "metadata": {},
   "source": [
    "## Дерево случайных решений"
   ]
  },
  {
   "cell_type": "code",
   "execution_count": 40,
   "id": "c511c443-ce83-4af8-8438-9f8a13fa49ab",
   "metadata": {},
   "outputs": [
    {
     "data": {
      "text/plain": [
       "DecisionTreeRegressor(random_state=42)"
      ]
     },
     "execution_count": 40,
     "metadata": {},
     "output_type": "execute_result"
    }
   ],
   "source": [
    "dt_model = DecisionTreeRegressor(random_state=42)\n",
    "\n",
    "dt_model.fit(X_train, y_train)"
   ]
  },
  {
   "cell_type": "code",
   "execution_count": 41,
   "id": "902425f4-9e97-4428-9984-30083835e061",
   "metadata": {},
   "outputs": [],
   "source": [
    "y_test_preds = dt_model.predict(X_test)"
   ]
  },
  {
   "cell_type": "code",
   "execution_count": 42,
   "id": "7b009307-1e45-40fa-85b1-968a244e299a",
   "metadata": {},
   "outputs": [
    {
     "data": {
      "text/plain": [
       "0.4727730254033139"
      ]
     },
     "execution_count": 42,
     "metadata": {},
     "output_type": "execute_result"
    }
   ],
   "source": [
    "r2_score(y_test,y_test_preds)"
   ]
  },
  {
   "cell_type": "markdown",
   "id": "aec649d9-4256-48e9-8899-fc80207f13cc",
   "metadata": {},
   "source": [
    "## Лес случайных решений"
   ]
  },
  {
   "cell_type": "code",
   "execution_count": 43,
   "id": "a322d660-ea5b-4bd4-a517-2e6316d8fb91",
   "metadata": {},
   "outputs": [],
   "source": [
    "forest = RandomForestRegressor(max_depth=19, \n",
    "                               max_features=6, \n",
    "                               n_estimators=100,\n",
    "                               random_state=42)"
   ]
  },
  {
   "cell_type": "code",
   "execution_count": 44,
   "id": "ea92b1f3-ee7d-4acb-8242-e728af81fee4",
   "metadata": {},
   "outputs": [],
   "source": [
    "params = {\n",
    "    'n_estimators': [400],\n",
    "    'max_depth': [18,19,20],\n",
    "    'max_features': [5,6,7]\n",
    "}"
   ]
  },
  {
   "cell_type": "code",
   "execution_count": 45,
   "id": "6216ea7e-5dff-4fd1-b258-850be216ee9e",
   "metadata": {},
   "outputs": [
    {
     "name": "stdout",
     "output_type": "stream",
     "text": [
      "{'max_depth': 20, 'max_features': 6, 'n_estimators': 400}\n",
      "R2 на train: 0.75028\n"
     ]
    }
   ],
   "source": [
    "forest_grid = GridSearchCV(forest, params, scoring='r2', \n",
    "                  cv=KFold(n_splits=10, random_state=42, shuffle=True), \n",
    "                  n_jobs=-1)\n",
    "forest_grid.fit(X, y)\n",
    "print(forest_grid.best_params_)\n",
    "print('R2 на train: {:.5f}'.format(forest_grid.best_score_))"
   ]
  },
  {
   "cell_type": "markdown",
   "id": "8dc159ff-8f12-485b-ac71-e8b63f4fa3c8",
   "metadata": {},
   "source": [
    "Итак как мы видим почти без предобработки данных мы достигли показателя предсказания в районе 0.75"
   ]
  },
  {
   "cell_type": "code",
   "execution_count": 71,
   "id": "86287261-ccb5-4ab6-b097-86c79b13332e",
   "metadata": {
    "tags": []
   },
   "outputs": [],
   "source": [
    "forest_best = forest_grid.best_estimator_\n",
    "\n",
    "y_pred = forest_best.predict(df_test)"
   ]
  },
  {
   "cell_type": "code",
   "execution_count": 62,
   "id": "ce2487bb-77c7-41ff-a1ad-6782aaa8997c",
   "metadata": {},
   "outputs": [
    {
     "data": {
      "text/html": [
       "<div>\n",
       "<style scoped>\n",
       "    .dataframe tbody tr th:only-of-type {\n",
       "        vertical-align: middle;\n",
       "    }\n",
       "\n",
       "    .dataframe tbody tr th {\n",
       "        vertical-align: top;\n",
       "    }\n",
       "\n",
       "    .dataframe thead th {\n",
       "        text-align: right;\n",
       "    }\n",
       "</style>\n",
       "<table border=\"1\" class=\"dataframe\">\n",
       "  <thead>\n",
       "    <tr style=\"text-align: right;\">\n",
       "      <th></th>\n",
       "      <th>Id</th>\n",
       "      <th>Price</th>\n",
       "    </tr>\n",
       "  </thead>\n",
       "  <tbody>\n",
       "    <tr>\n",
       "      <th>0</th>\n",
       "      <td>725</td>\n",
       "      <td>160535.332612</td>\n",
       "    </tr>\n",
       "    <tr>\n",
       "      <th>1</th>\n",
       "      <td>15856</td>\n",
       "      <td>233403.424457</td>\n",
       "    </tr>\n",
       "    <tr>\n",
       "      <th>2</th>\n",
       "      <td>5480</td>\n",
       "      <td>234726.559533</td>\n",
       "    </tr>\n",
       "    <tr>\n",
       "      <th>3</th>\n",
       "      <td>15664</td>\n",
       "      <td>336665.912617</td>\n",
       "    </tr>\n",
       "    <tr>\n",
       "      <th>4</th>\n",
       "      <td>14275</td>\n",
       "      <td>144733.390304</td>\n",
       "    </tr>\n",
       "  </tbody>\n",
       "</table>\n",
       "</div>"
      ],
      "text/plain": [
       "      Id          Price\n",
       "0    725  160535.332612\n",
       "1  15856  233403.424457\n",
       "2   5480  234726.559533\n",
       "3  15664  336665.912617\n",
       "4  14275  144733.390304"
      ]
     },
     "execution_count": 62,
     "metadata": {},
     "output_type": "execute_result"
    }
   ],
   "source": [
    "preds = pd.DataFrame()\n",
    "preds['Id'] = df_test['Id']\n",
    "preds['Price'] = y_pred\n",
    "preds.head()"
   ]
  },
  {
   "cell_type": "code",
   "execution_count": 63,
   "id": "871c3557-30e0-451c-9682-837cca2fc34b",
   "metadata": {},
   "outputs": [],
   "source": [
    "preds.to_csv('submission_1.csv', index=False)"
   ]
  },
  {
   "cell_type": "code",
   "execution_count": 65,
   "id": "ab8c2414-f80e-45c8-af3f-2360a32d4638",
   "metadata": {},
   "outputs": [
    {
     "data": {
      "text/plain": [
       "5000"
      ]
     },
     "execution_count": 65,
     "metadata": {},
     "output_type": "execute_result"
    }
   ],
   "source": [
    "len(preds)"
   ]
  },
  {
   "cell_type": "code",
   "execution_count": 67,
   "id": "e80e6b7e-1519-4b30-9197-5f5e716e0b7d",
   "metadata": {},
   "outputs": [
    {
     "data": {
      "image/jpeg": "[encoded data removed]",
      "text/plain": [
       "<IPython.core.display.Image object>"
      ]
     },
     "execution_count": 67,
     "metadata": {},
     "output_type": "execute_result"
    }
   ],
   "source": [
    "from IPython.display import Image\n",
    "Image(\"Screenshot_1.jpg\")"
   ]
  },
  {
   "cell_type": "code",
   "execution_count": 68,
   "id": "19770b6d-0580-46fc-a473-d14ca3dbf730",
   "metadata": {},
   "outputs": [
    {
     "data": {
      "image/jpeg": "[encoded data removed]",
      "text/plain": [
       "<IPython.core.display.Image object>"
      ]
     },
     "execution_count": 68,
     "metadata": {},
     "output_type": "execute_result"
    }
   ],
   "source": [
    "Image(\"Screenshot_2.jpg\")"
   ]
  }
 ],
 "metadata": {
  "kernelspec": {
   "display_name": "Python 3",
   "language": "python",
   "name": "python3"
  },
  "language_info": {
   "codemirror_mode": {
    "name": "ipython",
    "version": 3
   },
   "file_extension": ".py",
   "mimetype": "text/x-python",
   "name": "python",
   "nbconvert_exporter": "python",
   "pygments_lexer": "ipython3",
   "version": "3.9.5"
  },
  "latex_envs": {
   "LaTeX_envs_menu_present": true,
   "autoclose": false,
   "autocomplete": true,
   "bibliofile": "biblio.bib",
   "cite_by": "apalike",
   "current_citInitial": 1,
   "eqLabelWithNumbers": true,
   "eqNumInitial": 1,
   "hotkeys": {
    "equation": "Ctrl-E",
    "itemize": "Ctrl-I"
   },
   "labels_anchors": false,
   "latex_user_defs": false,
   "report_style_numbering": false,
   "user_envs_cfg": false
  },
  "toc": {
   "base_numbering": 1,
   "nav_menu": {},
   "number_sections": true,
   "sideBar": true,
   "skip_h1_title": false,
   "title_cell": "Table of Contents",
   "title_sidebar": "Contents",
   "toc_cell": false,
   "toc_position": {},
   "toc_section_display": true,
   "toc_window_display": false
  }
 },
 "nbformat": 4,
 "nbformat_minor": 5
}
